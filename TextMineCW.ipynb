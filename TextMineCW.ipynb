{
  "nbformat": 4,
  "nbformat_minor": 0,
  "metadata": {
    "colab": {
      "provenance": [],
      "include_colab_link": true
    },
    "kernelspec": {
      "display_name": "Python 3",
      "name": "python3"
    }
  },
  "cells": [
    {
      "cell_type": "markdown",
      "metadata": {
        "id": "view-in-github",
        "colab_type": "text"
      },
      "source": [
        "<a href=\"https://colab.research.google.com/github/InaJaweed/Text_Mining-CS3TM20/blob/main/TextMineCW.ipynb\" target=\"_parent\"><img src=\"https://colab.research.google.com/assets/colab-badge.svg\" alt=\"Open In Colab\"/></a>"
      ]
    },
    {
      "cell_type": "markdown",
      "source": [
        "**Prior study (Codes in Week 5 folder）**:\n",
        "\n",
        "Please use this page as companion to understand the newsgroup data set.\n",
        "[Data Set](https://scikit-learn.org/stable/tutorial/text_analytics/working_with_text_data.html)\n",
        "\n",
        "You will also need to be familiar with some text processing commands：\n",
        "\n",
        "[Tf-idf](https://scikit-learn.org/stable/modules/generated/sklearn.feature_extraction.text.TfidfTransformer.html)\n",
        "\n",
        "[countvectorizer](https://scikit-learn.org/stable/modules/generated/sklearn.feature_extraction.text.CountVectorizer.html)\n"
      ],
      "metadata": {
        "id": "1ZVVMai8xRFX"
      }
    },
    {
      "cell_type": "code",
      "metadata": {
        "id": "yhgYu18FM-_L"
      },
      "source": [
        "from IPython import get_ipython\n",
        "get_ipython().magic('reset -sf')"
      ],
      "execution_count": 1,
      "outputs": []
    },
    {
      "cell_type": "markdown",
      "metadata": {
        "id": "QXdrc29D71MH"
      },
      "source": [
        "# **Steps outline**\n",
        "1. Download your data set by inputting your student number.\n",
        "2. Process your text data, extract features, convert them into vectors\n",
        "3. Modeling, train models on the data set (select model, tune different parameters)\n",
        "4. Process your text data, extract features, convert them into vectors\n",
        "5. Analysis and discussions"
      ]
    },
    {
      "cell_type": "markdown",
      "metadata": {
        "id": "934uDa63sRnp"
      },
      "source": [
        "# Step 1: Load Dataset\n"
      ]
    },
    {
      "cell_type": "markdown",
      "source": [
        "Prior study (Codes in Week 5 folder）:\n",
        "\n",
        "Please use this page as companion to understand  [**Newsgroup data set**](https://scikit-learn.org/stable/tutorial/text_analytics/working_with_text_data.html)\n"
      ],
      "metadata": {
        "id": "2k-V81t0z_NF"
      }
    },
    {
      "cell_type": "code",
      "metadata": {
        "id": "cxDjTTcDrtVl"
      },
      "source": [
        "import numpy as np\n",
        "import tensorflow as tf\n",
        "from tensorflow import keras\n",
        "import pandas as pd\n",
        "import numpy as np\n",
        "categories = ['alt.atheism', 'soc.religion.christian', 'comp.graphics', 'sci.med']\n",
        "from sklearn.datasets import fetch_20newsgroups\n",
        "twenty_train = fetch_20newsgroups(subset='train',  categories=categories, shuffle=True, random_state=42)\n",
        "twenty_test = fetch_20newsgroups(subset='test',  categories=categories, shuffle=True, random_state=42)"
      ],
      "execution_count": 2,
      "outputs": []
    },
    {
      "cell_type": "markdown",
      "metadata": {
        "id": "O8VrHduYC-kd"
      },
      "source": [
        "**This is how to identify which data set to use (Please copy  the following information in report front   page).**"
      ]
    },
    {
      "cell_type": "code",
      "metadata": {
        "colab": {
          "base_uri": "https://localhost:8080/"
        },
        "id": "gvU6i2KNHzC4",
        "outputId": "f8da3487-0751-4c3e-e536-77a339039d7e"
      },
      "source": [
        "index=input('type your student number?')"
      ],
      "execution_count": 3,
      "outputs": [
        {
          "name": "stdout",
          "output_type": "stream",
          "text": [
            "type your student number?30020691\n"
          ]
        }
      ]
    },
    {
      "cell_type": "code",
      "source": [
        "x=divmod(int(index),4)\n",
        "yourdata1=x[1]\n",
        "y=divmod(int(index),3)\n",
        "yourdata2=y[1]\n",
        "\n",
        "print('This is your data set index ----> (', x[1], y[1], ')' )"
      ],
      "metadata": {
        "colab": {
          "base_uri": "https://localhost:8080/"
        },
        "id": "a8Gmf-HdGcWV",
        "outputId": "9ad93435-5cdd-4ca5-af5c-ca8ac9260be8"
      },
      "execution_count": 4,
      "outputs": [
        {
          "output_type": "stream",
          "name": "stdout",
          "text": [
            "This is your data set index ----> ( 3 0 )\n"
          ]
        }
      ]
    },
    {
      "cell_type": "code",
      "metadata": {
        "colab": {
          "base_uri": "https://localhost:8080/"
        },
        "id": "HXPpVRSGAPM7",
        "outputId": "67c014a2-b8c3-4cd4-a681-1bf2b51f07c9"
      },
      "source": [
        "data1= twenty_train.target_names[x[1]]\n",
        "data2= twenty_train.target_names[y[1]]\n",
        "categories1=[data1,data2]\n",
        "print(categories1)"
      ],
      "execution_count": 5,
      "outputs": [
        {
          "output_type": "stream",
          "name": "stdout",
          "text": [
            "['soc.religion.christian', 'alt.atheism']\n"
          ]
        }
      ]
    },
    {
      "cell_type": "markdown",
      "metadata": {
        "id": "aNjBtO7-DOsu"
      },
      "source": [
        "**Your front page data information Ends here**"
      ]
    },
    {
      "cell_type": "markdown",
      "metadata": {
        "id": "v1jAHpjtaSPu"
      },
      "source": [
        "# Step 2 Process your text data, extract features"
      ]
    },
    {
      "cell_type": "markdown",
      "metadata": {
        "id": "El_vU9NocxVC"
      },
      "source": [
        "# 2.1 An example of preprocessing"
      ]
    },
    {
      "cell_type": "markdown",
      "metadata": {
        "id": "eDHwDyKzNirS"
      },
      "source": [
        "**An example is provided.**"
      ]
    },
    {
      "cell_type": "markdown",
      "source": [
        "Please pay attention  comment #replace ..., which means you need to change example text to your data set.\n",
        "Use google search for usages of  \"nltk tokenizer ”, \"nltk stemmer\", \"nltk pos tag\" to help your report writing."
      ],
      "metadata": {
        "id": "utJ6ap1bacK3"
      }
    },
    {
      "cell_type": "code",
      "metadata": {
        "colab": {
          "base_uri": "https://localhost:8080/"
        },
        "id": "wC3yT07PJnKp",
        "outputId": "d6b93c3b-a2f4-4b9e-c7ca-4007f616774a"
      },
      "source": [
        "# write your own NLP precessing examples with  preprocessing techniques.\n",
        "\n",
        "# print(twenty_train.target_names[1])\n",
        "data1=twenty_train.data[1]\n",
        "print(data1)\n",
        "# please   replace 1 in bracket to other data sample and explore the code\n",
        "\n",
        "import nltk\n",
        "nltk.download('punkt')\n",
        "nltk.download('averaged_perceptron_tagger')\n",
        "nltk.download('wordnet')\n"
      ],
      "execution_count": 6,
      "outputs": [
        {
          "output_type": "stream",
          "name": "stdout",
          "text": [
            "From: ani@ms.uky.edu (Aniruddha B. Deglurkar)\n",
            "Subject: help: Splitting a trimming region along a mesh \n",
            "Organization: University Of Kentucky, Dept. of Math Sciences\n",
            "Lines: 28\n",
            "\n",
            "\n",
            "\n",
            "\tHi,\n",
            "\n",
            "\tI have a problem, I hope some of the 'gurus' can help me solve.\n",
            "\n",
            "\tBackground of the problem:\n",
            "\tI have a rectangular mesh in the uv domain, i.e  the mesh is a \n",
            "\tmapping of a 3d Bezier patch into 2d. The area in this domain\n",
            "\twhich is inside a trimming loop had to be rendered. The trimming\n",
            "\tloop is a set of 2d Bezier curve segments.\n",
            "\tFor the sake of notation: the mesh is made up of cells.\n",
            "\n",
            "\tMy problem is this :\n",
            "\tThe trimming area has to be split up into individual smaller\n",
            "\tcells bounded by the trimming curve segments. If a cell\n",
            "\tis wholly inside the area...then it is output as a whole ,\n",
            "\telse it is trivially rejected. \n",
            "\n",
            "\tDoes any body know how thiss can be done, or is there any algo. \n",
            "\tsomewhere for doing this.\n",
            "\n",
            "\tAny help would be appreciated.\n",
            "\n",
            "\tThanks, \n",
            "\tAni.\n",
            "-- \n",
            "To get irritated is human, to stay cool, divine.\n",
            "\n"
          ]
        },
        {
          "output_type": "stream",
          "name": "stderr",
          "text": [
            "[nltk_data] Downloading package punkt to /root/nltk_data...\n",
            "[nltk_data]   Package punkt is already up-to-date!\n",
            "[nltk_data] Downloading package averaged_perceptron_tagger to\n",
            "[nltk_data]     /root/nltk_data...\n",
            "[nltk_data]   Package averaged_perceptron_tagger is already up-to-\n",
            "[nltk_data]       date!\n",
            "[nltk_data] Downloading package wordnet to /root/nltk_data...\n",
            "[nltk_data]   Package wordnet is already up-to-date!\n"
          ]
        },
        {
          "output_type": "execute_result",
          "data": {
            "text/plain": [
              "True"
            ]
          },
          "metadata": {},
          "execution_count": 6
        }
      ]
    },
    {
      "cell_type": "code",
      "metadata": {
        "colab": {
          "base_uri": "https://localhost:8080/"
        },
        "outputId": "bde74e6a-2dc6-4ee8-ff6e-da2157861184",
        "id": "cRHBOWMnAAWA"
      },
      "source": [
        "\n",
        "# tokenize: search: nltk tokenize\n",
        "example = \"This is an example sentence.\"\n",
        "\n",
        "from nltk.tokenize import word_tokenize\n",
        "example_tokenize =word_tokenize(example)\n",
        "example_tokenize= word_tokenize(data1) # replace example in bracket to dataset.\n",
        "print(\"-------------------------tokenize:\")\n",
        "print(example_tokenize)\n",
        "print(\"Token Qty:\",len(example_tokenize))"
      ],
      "execution_count": 7,
      "outputs": [
        {
          "output_type": "stream",
          "name": "stdout",
          "text": [
            "-------------------------tokenize:\n",
            "['From', ':', 'ani', '@', 'ms.uky.edu', '(', 'Aniruddha', 'B.', 'Deglurkar', ')', 'Subject', ':', 'help', ':', 'Splitting', 'a', 'trimming', 'region', 'along', 'a', 'mesh', 'Organization', ':', 'University', 'Of', 'Kentucky', ',', 'Dept', '.', 'of', 'Math', 'Sciences', 'Lines', ':', '28', 'Hi', ',', 'I', 'have', 'a', 'problem', ',', 'I', 'hope', 'some', 'of', 'the', \"'gurus\", \"'\", 'can', 'help', 'me', 'solve', '.', 'Background', 'of', 'the', 'problem', ':', 'I', 'have', 'a', 'rectangular', 'mesh', 'in', 'the', 'uv', 'domain', ',', 'i.e', 'the', 'mesh', 'is', 'a', 'mapping', 'of', 'a', '3d', 'Bezier', 'patch', 'into', '2d', '.', 'The', 'area', 'in', 'this', 'domain', 'which', 'is', 'inside', 'a', 'trimming', 'loop', 'had', 'to', 'be', 'rendered', '.', 'The', 'trimming', 'loop', 'is', 'a', 'set', 'of', '2d', 'Bezier', 'curve', 'segments', '.', 'For', 'the', 'sake', 'of', 'notation', ':', 'the', 'mesh', 'is', 'made', 'up', 'of', 'cells', '.', 'My', 'problem', 'is', 'this', ':', 'The', 'trimming', 'area', 'has', 'to', 'be', 'split', 'up', 'into', 'individual', 'smaller', 'cells', 'bounded', 'by', 'the', 'trimming', 'curve', 'segments', '.', 'If', 'a', 'cell', 'is', 'wholly', 'inside', 'the', 'area', '...', 'then', 'it', 'is', 'output', 'as', 'a', 'whole', ',', 'else', 'it', 'is', 'trivially', 'rejected', '.', 'Does', 'any', 'body', 'know', 'how', 'thiss', 'can', 'be', 'done', ',', 'or', 'is', 'there', 'any', 'algo', '.', 'somewhere', 'for', 'doing', 'this', '.', 'Any', 'help', 'would', 'be', 'appreciated', '.', 'Thanks', ',', 'Ani', '.', '--', 'To', 'get', 'irritated', 'is', 'human', ',', 'to', 'stay', 'cool', ',', 'divine', '.']\n",
            "Token Qty: 216\n"
          ]
        }
      ]
    },
    {
      "cell_type": "code",
      "metadata": {
        "colab": {
          "base_uri": "https://localhost:8080/"
        },
        "outputId": "ccfd1c65-9029-4b43-ba2d-de6e98873dac",
        "id": "kAaaP86_Ahmo"
      },
      "source": [
        "# stemmer: search: nltk stemmer\n",
        "stemmer = nltk.stem.PorterStemmer()\n",
        "example_stem = stemmer.stem(data1)  # replace .....\n",
        "print(\"-------------------------stem:\")\n",
        "print(example_stem)"
      ],
      "execution_count": 8,
      "outputs": [
        {
          "output_type": "stream",
          "name": "stdout",
          "text": [
            "-------------------------stem:\n",
            "from: ani@ms.uky.edu (aniruddha b. deglurkar)\n",
            "subject: help: splitting a trimming region along a mesh \n",
            "organization: university of kentucky, dept. of math sciences\n",
            "lines: 28\n",
            "\n",
            "\n",
            "\n",
            "\thi,\n",
            "\n",
            "\ti have a problem, i hope some of the 'gurus' can help me solve.\n",
            "\n",
            "\tbackground of the problem:\n",
            "\ti have a rectangular mesh in the uv domain, i.e  the mesh is a \n",
            "\tmapping of a 3d bezier patch into 2d. the area in this domain\n",
            "\twhich is inside a trimming loop had to be rendered. the trimming\n",
            "\tloop is a set of 2d bezier curve segments.\n",
            "\tfor the sake of notation: the mesh is made up of cells.\n",
            "\n",
            "\tmy problem is this :\n",
            "\tthe trimming area has to be split up into individual smaller\n",
            "\tcells bounded by the trimming curve segments. if a cell\n",
            "\tis wholly inside the area...then it is output as a whole ,\n",
            "\telse it is trivially rejected. \n",
            "\n",
            "\tdoes any body know how thiss can be done, or is there any algo. \n",
            "\tsomewhere for doing this.\n",
            "\n",
            "\tany help would be appreciated.\n",
            "\n",
            "\tthanks, \n",
            "\tani.\n",
            "-- \n",
            "to get irritated is human, to stay cool, divine.\n",
            "\n"
          ]
        }
      ]
    },
    {
      "cell_type": "code",
      "source": [
        "# pos_taging: search: nltk pos tagging example\n",
        "example_posTag=nltk.pos_tag(example_tokenize)\n",
        "print(\"-------------------------pos_taging:\")\n",
        "print(example_posTag)"
      ],
      "metadata": {
        "id": "iL4Vr-m0ApLu",
        "colab": {
          "base_uri": "https://localhost:8080/"
        },
        "outputId": "01cb3448-57e6-4ec1-dd76-8e639a9f8fe3"
      },
      "execution_count": 9,
      "outputs": [
        {
          "output_type": "stream",
          "name": "stdout",
          "text": [
            "-------------------------pos_taging:\n",
            "[('From', 'IN'), (':', ':'), ('ani', 'NN'), ('@', 'NN'), ('ms.uky.edu', 'NN'), ('(', '('), ('Aniruddha', 'NNP'), ('B.', 'NNP'), ('Deglurkar', 'NNP'), (')', ')'), ('Subject', 'NN'), (':', ':'), ('help', 'NN'), (':', ':'), ('Splitting', 'VBG'), ('a', 'DT'), ('trimming', 'JJ'), ('region', 'NN'), ('along', 'IN'), ('a', 'DT'), ('mesh', 'JJ'), ('Organization', 'NN'), (':', ':'), ('University', 'NNP'), ('Of', 'IN'), ('Kentucky', 'NNP'), (',', ','), ('Dept', 'NNP'), ('.', '.'), ('of', 'IN'), ('Math', 'NNP'), ('Sciences', 'NNPS'), ('Lines', 'NNPS'), (':', ':'), ('28', 'CD'), ('Hi', 'NNP'), (',', ','), ('I', 'PRP'), ('have', 'VBP'), ('a', 'DT'), ('problem', 'NN'), (',', ','), ('I', 'PRP'), ('hope', 'VBP'), ('some', 'DT'), ('of', 'IN'), ('the', 'DT'), (\"'gurus\", 'NNP'), (\"'\", 'POS'), ('can', 'MD'), ('help', 'VB'), ('me', 'PRP'), ('solve', 'VB'), ('.', '.'), ('Background', 'NNP'), ('of', 'IN'), ('the', 'DT'), ('problem', 'NN'), (':', ':'), ('I', 'PRP'), ('have', 'VBP'), ('a', 'DT'), ('rectangular', 'JJ'), ('mesh', 'NN'), ('in', 'IN'), ('the', 'DT'), ('uv', 'JJ'), ('domain', 'NN'), (',', ','), ('i.e', 'VBP'), ('the', 'DT'), ('mesh', 'NN'), ('is', 'VBZ'), ('a', 'DT'), ('mapping', 'NN'), ('of', 'IN'), ('a', 'DT'), ('3d', 'CD'), ('Bezier', 'NNP'), ('patch', 'NN'), ('into', 'IN'), ('2d', 'CD'), ('.', '.'), ('The', 'DT'), ('area', 'NN'), ('in', 'IN'), ('this', 'DT'), ('domain', 'NN'), ('which', 'WDT'), ('is', 'VBZ'), ('inside', 'IN'), ('a', 'DT'), ('trimming', 'NN'), ('loop', 'NN'), ('had', 'VBD'), ('to', 'TO'), ('be', 'VB'), ('rendered', 'VBN'), ('.', '.'), ('The', 'DT'), ('trimming', 'VBG'), ('loop', 'NN'), ('is', 'VBZ'), ('a', 'DT'), ('set', 'NN'), ('of', 'IN'), ('2d', 'CD'), ('Bezier', 'NNP'), ('curve', 'NN'), ('segments', 'NNS'), ('.', '.'), ('For', 'IN'), ('the', 'DT'), ('sake', 'NN'), ('of', 'IN'), ('notation', 'NN'), (':', ':'), ('the', 'DT'), ('mesh', 'NN'), ('is', 'VBZ'), ('made', 'VBN'), ('up', 'IN'), ('of', 'IN'), ('cells', 'NNS'), ('.', '.'), ('My', 'PRP$'), ('problem', 'NN'), ('is', 'VBZ'), ('this', 'DT'), (':', ':'), ('The', 'DT'), ('trimming', 'VBG'), ('area', 'NN'), ('has', 'VBZ'), ('to', 'TO'), ('be', 'VB'), ('split', 'VBN'), ('up', 'RP'), ('into', 'IN'), ('individual', 'JJ'), ('smaller', 'JJR'), ('cells', 'NNS'), ('bounded', 'VBN'), ('by', 'IN'), ('the', 'DT'), ('trimming', 'VBG'), ('curve', 'NN'), ('segments', 'NNS'), ('.', '.'), ('If', 'IN'), ('a', 'DT'), ('cell', 'NN'), ('is', 'VBZ'), ('wholly', 'RB'), ('inside', 'IN'), ('the', 'DT'), ('area', 'NN'), ('...', ':'), ('then', 'RB'), ('it', 'PRP'), ('is', 'VBZ'), ('output', 'NN'), ('as', 'IN'), ('a', 'DT'), ('whole', 'NN'), (',', ','), ('else', 'VB'), ('it', 'PRP'), ('is', 'VBZ'), ('trivially', 'RB'), ('rejected', 'VBN'), ('.', '.'), ('Does', 'VBZ'), ('any', 'DT'), ('body', 'NN'), ('know', 'VB'), ('how', 'WRB'), ('thiss', 'JJ'), ('can', 'MD'), ('be', 'VB'), ('done', 'VBN'), (',', ','), ('or', 'CC'), ('is', 'VBZ'), ('there', 'RB'), ('any', 'DT'), ('algo', 'NN'), ('.', '.'), ('somewhere', 'RB'), ('for', 'IN'), ('doing', 'VBG'), ('this', 'DT'), ('.', '.'), ('Any', 'DT'), ('help', 'NN'), ('would', 'MD'), ('be', 'VB'), ('appreciated', 'VBN'), ('.', '.'), ('Thanks', 'NNS'), (',', ','), ('Ani', 'NNP'), ('.', '.'), ('--', ':'), ('To', 'TO'), ('get', 'VB'), ('irritated', 'JJ'), ('is', 'VBZ'), ('human', 'JJ'), (',', ','), ('to', 'TO'), ('stay', 'VB'), ('cool', 'JJ'), (',', ','), ('divine', 'NN'), ('.', '.')]\n"
          ]
        }
      ]
    },
    {
      "cell_type": "code",
      "metadata": {
        "colab": {
          "base_uri": "https://localhost:8080/"
        },
        "outputId": "23c13bf8-13b3-4249-9963-483c734de81a",
        "id": "O-n6AAbc_-_5"
      },
      "source": [
        " # consituency parsing, chunking\n",
        "grammar = \"NP: {<DT>?<JJ>*<NN>}\"\n",
        "cp = nltk.RegexpParser(grammar)\n",
        "result = cp.parse(example_posTag)\n",
        "print(result)"
      ],
      "execution_count": 10,
      "outputs": [
        {
          "output_type": "stream",
          "name": "stdout",
          "text": [
            "(S\n",
            "  From/IN\n",
            "  :/:\n",
            "  (NP ani/NN)\n",
            "  (NP @/NN)\n",
            "  (NP ms.uky.edu/NN)\n",
            "  (/(\n",
            "  Aniruddha/NNP\n",
            "  B./NNP\n",
            "  Deglurkar/NNP\n",
            "  )/)\n",
            "  (NP Subject/NN)\n",
            "  :/:\n",
            "  (NP help/NN)\n",
            "  :/:\n",
            "  Splitting/VBG\n",
            "  (NP a/DT trimming/JJ region/NN)\n",
            "  along/IN\n",
            "  (NP a/DT mesh/JJ Organization/NN)\n",
            "  :/:\n",
            "  University/NNP\n",
            "  Of/IN\n",
            "  Kentucky/NNP\n",
            "  ,/,\n",
            "  Dept/NNP\n",
            "  ./.\n",
            "  of/IN\n",
            "  Math/NNP\n",
            "  Sciences/NNPS\n",
            "  Lines/NNPS\n",
            "  :/:\n",
            "  28/CD\n",
            "  Hi/NNP\n",
            "  ,/,\n",
            "  I/PRP\n",
            "  have/VBP\n",
            "  (NP a/DT problem/NN)\n",
            "  ,/,\n",
            "  I/PRP\n",
            "  hope/VBP\n",
            "  some/DT\n",
            "  of/IN\n",
            "  the/DT\n",
            "  'gurus/NNP\n",
            "  '/POS\n",
            "  can/MD\n",
            "  help/VB\n",
            "  me/PRP\n",
            "  solve/VB\n",
            "  ./.\n",
            "  Background/NNP\n",
            "  of/IN\n",
            "  (NP the/DT problem/NN)\n",
            "  :/:\n",
            "  I/PRP\n",
            "  have/VBP\n",
            "  (NP a/DT rectangular/JJ mesh/NN)\n",
            "  in/IN\n",
            "  (NP the/DT uv/JJ domain/NN)\n",
            "  ,/,\n",
            "  i.e/VBP\n",
            "  (NP the/DT mesh/NN)\n",
            "  is/VBZ\n",
            "  (NP a/DT mapping/NN)\n",
            "  of/IN\n",
            "  a/DT\n",
            "  3d/CD\n",
            "  Bezier/NNP\n",
            "  (NP patch/NN)\n",
            "  into/IN\n",
            "  2d/CD\n",
            "  ./.\n",
            "  (NP The/DT area/NN)\n",
            "  in/IN\n",
            "  (NP this/DT domain/NN)\n",
            "  which/WDT\n",
            "  is/VBZ\n",
            "  inside/IN\n",
            "  (NP a/DT trimming/NN)\n",
            "  (NP loop/NN)\n",
            "  had/VBD\n",
            "  to/TO\n",
            "  be/VB\n",
            "  rendered/VBN\n",
            "  ./.\n",
            "  The/DT\n",
            "  trimming/VBG\n",
            "  (NP loop/NN)\n",
            "  is/VBZ\n",
            "  (NP a/DT set/NN)\n",
            "  of/IN\n",
            "  2d/CD\n",
            "  Bezier/NNP\n",
            "  (NP curve/NN)\n",
            "  segments/NNS\n",
            "  ./.\n",
            "  For/IN\n",
            "  (NP the/DT sake/NN)\n",
            "  of/IN\n",
            "  (NP notation/NN)\n",
            "  :/:\n",
            "  (NP the/DT mesh/NN)\n",
            "  is/VBZ\n",
            "  made/VBN\n",
            "  up/IN\n",
            "  of/IN\n",
            "  cells/NNS\n",
            "  ./.\n",
            "  My/PRP$\n",
            "  (NP problem/NN)\n",
            "  is/VBZ\n",
            "  this/DT\n",
            "  :/:\n",
            "  The/DT\n",
            "  trimming/VBG\n",
            "  (NP area/NN)\n",
            "  has/VBZ\n",
            "  to/TO\n",
            "  be/VB\n",
            "  split/VBN\n",
            "  up/RP\n",
            "  into/IN\n",
            "  individual/JJ\n",
            "  smaller/JJR\n",
            "  cells/NNS\n",
            "  bounded/VBN\n",
            "  by/IN\n",
            "  the/DT\n",
            "  trimming/VBG\n",
            "  (NP curve/NN)\n",
            "  segments/NNS\n",
            "  ./.\n",
            "  If/IN\n",
            "  (NP a/DT cell/NN)\n",
            "  is/VBZ\n",
            "  wholly/RB\n",
            "  inside/IN\n",
            "  (NP the/DT area/NN)\n",
            "  .../:\n",
            "  then/RB\n",
            "  it/PRP\n",
            "  is/VBZ\n",
            "  (NP output/NN)\n",
            "  as/IN\n",
            "  (NP a/DT whole/NN)\n",
            "  ,/,\n",
            "  else/VB\n",
            "  it/PRP\n",
            "  is/VBZ\n",
            "  trivially/RB\n",
            "  rejected/VBN\n",
            "  ./.\n",
            "  Does/VBZ\n",
            "  (NP any/DT body/NN)\n",
            "  know/VB\n",
            "  how/WRB\n",
            "  thiss/JJ\n",
            "  can/MD\n",
            "  be/VB\n",
            "  done/VBN\n",
            "  ,/,\n",
            "  or/CC\n",
            "  is/VBZ\n",
            "  there/RB\n",
            "  (NP any/DT algo/NN)\n",
            "  ./.\n",
            "  somewhere/RB\n",
            "  for/IN\n",
            "  doing/VBG\n",
            "  this/DT\n",
            "  ./.\n",
            "  (NP Any/DT help/NN)\n",
            "  would/MD\n",
            "  be/VB\n",
            "  appreciated/VBN\n",
            "  ./.\n",
            "  Thanks/NNS\n",
            "  ,/,\n",
            "  Ani/NNP\n",
            "  ./.\n",
            "  --/:\n",
            "  To/TO\n",
            "  get/VB\n",
            "  irritated/JJ\n",
            "  is/VBZ\n",
            "  human/JJ\n",
            "  ,/,\n",
            "  to/TO\n",
            "  stay/VB\n",
            "  cool/JJ\n",
            "  ,/,\n",
            "  (NP divine/NN)\n",
            "  ./.)\n"
          ]
        }
      ]
    },
    {
      "cell_type": "markdown",
      "metadata": {
        "id": "c7VpnVNpKuUt"
      },
      "source": [
        "#2.2 NLP Preprocesssing"
      ]
    },
    {
      "cell_type": "markdown",
      "metadata": {
        "id": "0hmXyhqwOaUQ"
      },
      "source": [
        "**Some preprocessing are provided for convenience. Please include why NLP preprocessing is in your report. Explain what techniques have been experimented in your report.**"
      ]
    },
    {
      "cell_type": "code",
      "metadata": {
        "colab": {
          "base_uri": "https://localhost:8080/"
        },
        "id": "B8u5y9adK3tc",
        "outputId": "e0e3fe18-ecbe-48d8-e1b1-5c27b110c371"
      },
      "source": [
        "import nltk\n",
        "import re\n",
        "from nltk.tokenize import sent_tokenize, word_tokenize\n",
        "nltk.download('stopwords')\n",
        "nltk.download('punkt')\n",
        "nltk.download('averaged_perceptron_tagger')\n",
        "from tqdm import tqdm\n",
        "from nltk.corpus import stopwords\n",
        "stopwordEn = stopwords.words('english')\n",
        "from nltk.corpus import wordnet\n",
        "nltk.download('wordnet')\n",
        "from nltk.stem.snowball import SnowballStemmer\n",
        "stemmer = SnowballStemmer(\"english\", ignore_stopwords=True)\n",
        "\n",
        "def lemmaWord(word):\n",
        "    lemma = wordnet.morphy(word)\n",
        "    if lemma is not None:\n",
        "        return lemma\n",
        "    else:\n",
        "        return word\n",
        "\n",
        "def stemWord(word):\n",
        "    stem = stemmer.stem(word)\n",
        "    if stem is not None:\n",
        "        return stem\n",
        "    else:\n",
        "        return word\n",
        "\n",
        "def processText(text,lemma=False, gram=1, rmStop=True): # default remove stop words\n",
        "    text = re.sub(r'(https|http)?:\\/\\/(\\w|\\.|\\/|\\?|\\=|\\&|\\%)*\\b|@\\w+|#', '', text, flags=re.MULTILINE) #delete URL, #hashtag# , and @xxx\n",
        "    tokens = word_tokenize(text)\n",
        "    whitelist = [\"n't\", \"not\", \"no\"]\n",
        "    new_tokens = []\n",
        "    stoplist = stopwordEn if rmStop else []\n",
        "    for i in tokens:\n",
        "      i = i.lower()\n",
        "      if i.isalpha() and (i not in stoplist or i in whitelist):  #i not in ['.',',',';']  and (...)\n",
        "        if lemma: i = lemmaWord(i)\n",
        "        new_tokens.append(i)\n",
        "    del tokens\n",
        "    # tokens = [lemmaWord(i.lower()) if lemma else i.lower() for i in tokens if (i.lower() not in stoplist or i.lower() in whitelist) and i.isalpha()]\n",
        "    if gram<=1:\n",
        "        return new_tokens\n",
        "    else:\n",
        "        return [' '.join(i) for i in nltk.ngrams(new_tokens, gram)]\n",
        "\n"
      ],
      "execution_count": 11,
      "outputs": [
        {
          "output_type": "stream",
          "name": "stderr",
          "text": [
            "[nltk_data] Downloading package stopwords to /root/nltk_data...\n",
            "[nltk_data]   Package stopwords is already up-to-date!\n",
            "[nltk_data] Downloading package punkt to /root/nltk_data...\n",
            "[nltk_data]   Package punkt is already up-to-date!\n",
            "[nltk_data] Downloading package averaged_perceptron_tagger to\n",
            "[nltk_data]     /root/nltk_data...\n",
            "[nltk_data]   Package averaged_perceptron_tagger is already up-to-\n",
            "[nltk_data]       date!\n",
            "[nltk_data] Downloading package wordnet to /root/nltk_data...\n",
            "[nltk_data]   Package wordnet is already up-to-date!\n"
          ]
        }
      ]
    },
    {
      "cell_type": "code",
      "metadata": {
        "id": "YKFoZaWSVrnq"
      },
      "source": [
        "def getTags(text):\n",
        "  token = word_tokenize(text)\n",
        "  token = [l.lower() for l in token]\n",
        "  train_tags = nltk.pos_tag(token)\n",
        "  return [i[1] for i in train_tags]\n"
      ],
      "execution_count": 12,
      "outputs": []
    },
    {
      "cell_type": "code",
      "metadata": {
        "colab": {
          "base_uri": "https://localhost:8080/"
        },
        "id": "U8mwYOcFcS02",
        "outputId": "da1f6a1f-f9b5-4fee-c736-10102836a634"
      },
      "source": [
        "print(processText(data1))"
      ],
      "execution_count": 13,
      "outputs": [
        {
          "output_type": "stream",
          "name": "stdout",
          "text": [
            "['aniruddha', 'deglurkar', 'subject', 'help', 'splitting', 'trimming', 'region', 'along', 'mesh', 'organization', 'university', 'kentucky', 'dept', 'math', 'sciences', 'lines', 'hi', 'problem', 'hope', 'help', 'solve', 'background', 'problem', 'rectangular', 'mesh', 'uv', 'domain', 'mesh', 'mapping', 'bezier', 'patch', 'area', 'domain', 'inside', 'trimming', 'loop', 'rendered', 'trimming', 'loop', 'set', 'bezier', 'curve', 'segments', 'sake', 'notation', 'mesh', 'made', 'cells', 'problem', 'trimming', 'area', 'split', 'individual', 'smaller', 'cells', 'bounded', 'trimming', 'curve', 'segments', 'cell', 'wholly', 'inside', 'area', 'output', 'whole', 'else', 'trivially', 'rejected', 'body', 'know', 'thiss', 'done', 'algo', 'somewhere', 'help', 'would', 'appreciated', 'thanks', 'ani', 'get', 'irritated', 'human', 'stay', 'cool', 'divine']\n"
          ]
        }
      ]
    },
    {
      "cell_type": "code",
      "metadata": {
        "colab": {
          "base_uri": "https://localhost:8080/"
        },
        "id": "-ZRqySa8cbr1",
        "outputId": "b9a83cb4-9e20-4b04-bf8b-f05e370a4426"
      },
      "source": [
        "print(getTags(data1))"
      ],
      "execution_count": 14,
      "outputs": [
        {
          "output_type": "stream",
          "name": "stdout",
          "text": [
            "['IN', ':', 'NN', 'NN', 'NN', '(', 'JJ', 'NN', 'NN', ')', 'NN', ':', 'NN', ':', 'VBG', 'DT', 'JJ', 'NN', 'IN', 'DT', 'JJ', 'NN', ':', 'NN', 'IN', 'NN', ',', 'NN', '.', 'IN', 'NN', 'NNS', 'NNS', ':', 'CD', 'NN', ',', 'NN', 'VBP', 'DT', 'NN', ',', 'NN', 'VBP', 'DT', 'IN', 'DT', 'NNP', 'POS', 'MD', 'VB', 'PRP', 'VB', '.', 'NN', 'IN', 'DT', 'NN', ':', 'NN', 'VBP', 'DT', 'JJ', 'NN', 'IN', 'DT', 'JJ', 'NN', ',', 'VBP', 'DT', 'NN', 'VBZ', 'DT', 'NN', 'IN', 'DT', 'CD', 'NN', 'NN', 'IN', 'CD', '.', 'DT', 'NN', 'IN', 'DT', 'NN', 'WDT', 'VBZ', 'IN', 'DT', 'NN', 'NN', 'VBD', 'TO', 'VB', 'VBN', '.', 'DT', 'VBG', 'NN', 'VBZ', 'DT', 'NN', 'IN', 'CD', 'NN', 'NN', 'NNS', '.', 'IN', 'DT', 'NN', 'IN', 'NN', ':', 'DT', 'NN', 'VBZ', 'VBN', 'IN', 'IN', 'NNS', '.', 'PRP$', 'NN', 'VBZ', 'DT', ':', 'DT', 'VBG', 'NN', 'VBZ', 'TO', 'VB', 'VBN', 'RP', 'IN', 'JJ', 'JJR', 'NNS', 'VBN', 'IN', 'DT', 'VBG', 'NN', 'NNS', '.', 'IN', 'DT', 'NN', 'VBZ', 'RB', 'IN', 'DT', 'NN', ':', 'RB', 'PRP', 'VBZ', 'NN', 'IN', 'DT', 'NN', ',', 'VB', 'PRP', 'VBZ', 'RB', 'VBN', '.', 'VBZ', 'DT', 'NN', 'VB', 'WRB', 'JJ', 'MD', 'VB', 'VBN', ',', 'CC', 'VBZ', 'RB', 'DT', 'NN', '.', 'RB', 'IN', 'VBG', 'DT', '.', 'DT', 'NN', 'MD', 'VB', 'VBN', '.', 'NNS', ',', 'NN', '.', ':', 'TO', 'VB', 'JJ', 'VBZ', 'JJ', ',', 'TO', 'VB', 'JJ', ',', 'NN', '.']\n"
          ]
        }
      ]
    },
    {
      "cell_type": "code",
      "source": [
        "print(data1)"
      ],
      "metadata": {
        "colab": {
          "base_uri": "https://localhost:8080/"
        },
        "id": "JpwH1YQa9ujr",
        "outputId": "b3f9d517-e077-44e8-f9da-6f67f295a683"
      },
      "execution_count": 15,
      "outputs": [
        {
          "output_type": "stream",
          "name": "stdout",
          "text": [
            "From: ani@ms.uky.edu (Aniruddha B. Deglurkar)\n",
            "Subject: help: Splitting a trimming region along a mesh \n",
            "Organization: University Of Kentucky, Dept. of Math Sciences\n",
            "Lines: 28\n",
            "\n",
            "\n",
            "\n",
            "\tHi,\n",
            "\n",
            "\tI have a problem, I hope some of the 'gurus' can help me solve.\n",
            "\n",
            "\tBackground of the problem:\n",
            "\tI have a rectangular mesh in the uv domain, i.e  the mesh is a \n",
            "\tmapping of a 3d Bezier patch into 2d. The area in this domain\n",
            "\twhich is inside a trimming loop had to be rendered. The trimming\n",
            "\tloop is a set of 2d Bezier curve segments.\n",
            "\tFor the sake of notation: the mesh is made up of cells.\n",
            "\n",
            "\tMy problem is this :\n",
            "\tThe trimming area has to be split up into individual smaller\n",
            "\tcells bounded by the trimming curve segments. If a cell\n",
            "\tis wholly inside the area...then it is output as a whole ,\n",
            "\telse it is trivially rejected. \n",
            "\n",
            "\tDoes any body know how thiss can be done, or is there any algo. \n",
            "\tsomewhere for doing this.\n",
            "\n",
            "\tAny help would be appreciated.\n",
            "\n",
            "\tThanks, \n",
            "\tAni.\n",
            "-- \n",
            "To get irritated is human, to stay cool, divine.\n",
            "\n"
          ]
        }
      ]
    },
    {
      "cell_type": "markdown",
      "metadata": {
        "id": "44xTvpLa_UC9"
      },
      "source": [
        "# Step 3: Build a Pipeline"
      ]
    },
    {
      "cell_type": "markdown",
      "metadata": {
        "id": "7g5g93owSogu"
      },
      "source": [
        "**Modify the block code below to your choice of classifier [link text](https://www.nltk.org/book/ch06.html)"
      ]
    },
    {
      "cell_type": "markdown",
      "metadata": {
        "id": "lGs1A8S1TMTi"
      },
      "source": []
    },
    {
      "cell_type": "code",
      "metadata": {
        "colab": {
          "base_uri": "https://localhost:8080/"
        },
        "id": "i9HMKvgGMHPB",
        "outputId": "25adf1cb-601e-48fe-a0ab-2924f671febf"
      },
      "source": [
        "print(categories1)\n"
      ],
      "execution_count": 16,
      "outputs": [
        {
          "output_type": "stream",
          "name": "stdout",
          "text": [
            "['soc.religion.christian', 'alt.atheism']\n"
          ]
        }
      ]
    },
    {
      "cell_type": "markdown",
      "source": [
        "Without modification, the code will output all four classes.\n",
        "\n",
        "\n",
        "I included some commented codes in places where you may use to change to two class data sets   from your student number, and use logistic model.\n",
        "Your data sets can be obtained as twenty_train1, twenty_test1. All  data set names can be adjusted to get it right."
      ],
      "metadata": {
        "id": "Yl4relrvUjHt"
      }
    },
    {
      "cell_type": "code",
      "metadata": {
        "id": "9PDFkEEiL1GQ",
        "colab": {
          "base_uri": "https://localhost:8080/"
        },
        "outputId": "4c1d08da-201e-48e1-d8a0-999b6a6d80d3"
      },
      "source": [
        "twenty_train1 = fetch_20newsgroups(subset='train',  categories=categories1, shuffle=True, random_state=42)\n",
        "twenty_test1 = fetch_20newsgroups(subset='test',  categories=categories1, shuffle=True, random_state=42)\n",
        "\n",
        "for name in twenty_test1.target_names:\n",
        "  print(name)\n",
        "print(twenty_test1.target_names[0])\n",
        "print(len(twenty_test1.data))\n",
        "print(len(twenty_train1.data))"
      ],
      "execution_count": 17,
      "outputs": [
        {
          "output_type": "stream",
          "name": "stdout",
          "text": [
            "alt.atheism\n",
            "soc.religion.christian\n",
            "alt.atheism\n",
            "717\n",
            "1079\n"
          ]
        }
      ]
    },
    {
      "cell_type": "code",
      "source": [
        "twenty_train1 = fetch_20newsgroups(subset='train', categories=categories1, shuffle=True, random_state=42)\n",
        "twenty_test1 = fetch_20newsgroups(subset='test', categories=categories1, shuffle=True, random_state=42)\n",
        "\n",
        "# Count the number of instances for each class in the training set\n",
        "train_class_counts = {}\n",
        "for label in twenty_train1.target:\n",
        "    if label not in train_class_counts:\n",
        "        train_class_counts[label] = 0\n",
        "    train_class_counts[label] += 1\n",
        "\n",
        "# Count the number of instances for each class in the test set\n",
        "test_class_counts = {}\n",
        "for label in twenty_test1.target:\n",
        "    if label not in test_class_counts:\n",
        "        test_class_counts[label] = 0\n",
        "    test_class_counts[label] += 1\n",
        "\n",
        "# Print the class counts\n",
        "print(\"Training set class counts:\")\n",
        "for label, count in train_class_counts.items():\n",
        "    print(f\"{twenty_train1.target_names[label]}: {count}\")\n",
        "\n",
        "print(\"\\nTest set class counts:\")\n",
        "for label, count in test_class_counts.items():\n",
        "    print(f\"{twenty_test1.target_names[label]}: {count}\")"
      ],
      "metadata": {
        "colab": {
          "base_uri": "https://localhost:8080/"
        },
        "id": "Y1IMag8k-slE",
        "outputId": "cc55c601-7bcb-4461-fdd7-38e05682600b"
      },
      "execution_count": 18,
      "outputs": [
        {
          "output_type": "stream",
          "name": "stdout",
          "text": [
            "Training set class counts:\n",
            "soc.religion.christian: 599\n",
            "alt.atheism: 480\n",
            "\n",
            "Test set class counts:\n",
            "soc.religion.christian: 398\n",
            "alt.atheism: 319\n"
          ]
        }
      ]
    },
    {
      "cell_type": "code",
      "source": [
        "# from sklearn.pipeline import Pipeline\n",
        "# from sklearn.feature_extraction.text import CountVectorizer\n",
        "# from sklearn.feature_extraction.text import TfidfTransformer\n",
        "# from sklearn.linear_model import SGDClassifier, LogisticRegression\n",
        "\n",
        "# text_clf = Pipeline([\n",
        "#     ('vect', CountVectorizer(binary=True,analyzer=processText)),\n",
        "#     #('vect', CountVectorizer(binary=False,analyzer=processText))\n",
        "#     #('vect', CountVectorizer(binary=True,analyzer=getTags))\n",
        "#     #('vect', CountVectorizer(binary=False,analyzer=getTags)) #preprocessing task\n",
        "#     #('tfidf', TfidfTransformer(use_idf=True)), #feature extraction\n",
        "\n",
        "#     ('clf', SGDClassifier())\n",
        "#     # ('clf', LogisticRegression())\n",
        "\n",
        "# ])"
      ],
      "metadata": {
        "id": "Y_dhBhPCCiuD"
      },
      "execution_count": 19,
      "outputs": []
    },
    {
      "cell_type": "code",
      "metadata": {
        "id": "vNm3axlhdzlF"
      },
      "source": [
        "from sklearn.pipeline import Pipeline\n",
        "from sklearn.feature_extraction.text import CountVectorizer\n",
        "from sklearn.feature_extraction.text import TfidfTransformer\n",
        "from sklearn.linear_model import SGDClassifier, LogisticRegression\n",
        "\n",
        "# Level: lexicon, model: tf-idf\n",
        "text_clf = Pipeline([\n",
        "    # add your code about text processing\n",
        "    ('vect', CountVectorizer(analyzer=processText)),\n",
        "    ('tfidf', TfidfTransformer(use_idf=True)),\n",
        "\n",
        "    # change your classifier here, search: sklearn logistic regression example\n",
        "    # ('clf', SGDClassifier())\n",
        "    ('clf', LogisticRegression())\n",
        "\n",
        "])"
      ],
      "execution_count": 29,
      "outputs": []
    },
    {
      "cell_type": "code",
      "metadata": {
        "colab": {
          "base_uri": "https://localhost:8080/",
          "height": 159
        },
        "id": "Vuq37Bf3Qjpn",
        "outputId": "11217d8b-b5bf-49bb-db1e-082b1f46bc98"
      },
      "source": [
        "# To train the model\n",
        "text_clf.fit(twenty_train1.data, twenty_train1.target)\n"
      ],
      "execution_count": 30,
      "outputs": [
        {
          "output_type": "execute_result",
          "data": {
            "text/plain": [
              "Pipeline(steps=[('vect',\n",
              "                 CountVectorizer(analyzer=<function processText at 0x7a86bdf93880>)),\n",
              "                ('tfidf', TfidfTransformer()), ('clf', LogisticRegression())])"
            ],
            "text/html": [
              "<style>#sk-container-id-3 {color: black;background-color: white;}#sk-container-id-3 pre{padding: 0;}#sk-container-id-3 div.sk-toggleable {background-color: white;}#sk-container-id-3 label.sk-toggleable__label {cursor: pointer;display: block;width: 100%;margin-bottom: 0;padding: 0.3em;box-sizing: border-box;text-align: center;}#sk-container-id-3 label.sk-toggleable__label-arrow:before {content: \"▸\";float: left;margin-right: 0.25em;color: #696969;}#sk-container-id-3 label.sk-toggleable__label-arrow:hover:before {color: black;}#sk-container-id-3 div.sk-estimator:hover label.sk-toggleable__label-arrow:before {color: black;}#sk-container-id-3 div.sk-toggleable__content {max-height: 0;max-width: 0;overflow: hidden;text-align: left;background-color: #f0f8ff;}#sk-container-id-3 div.sk-toggleable__content pre {margin: 0.2em;color: black;border-radius: 0.25em;background-color: #f0f8ff;}#sk-container-id-3 input.sk-toggleable__control:checked~div.sk-toggleable__content {max-height: 200px;max-width: 100%;overflow: auto;}#sk-container-id-3 input.sk-toggleable__control:checked~label.sk-toggleable__label-arrow:before {content: \"▾\";}#sk-container-id-3 div.sk-estimator input.sk-toggleable__control:checked~label.sk-toggleable__label {background-color: #d4ebff;}#sk-container-id-3 div.sk-label input.sk-toggleable__control:checked~label.sk-toggleable__label {background-color: #d4ebff;}#sk-container-id-3 input.sk-hidden--visually {border: 0;clip: rect(1px 1px 1px 1px);clip: rect(1px, 1px, 1px, 1px);height: 1px;margin: -1px;overflow: hidden;padding: 0;position: absolute;width: 1px;}#sk-container-id-3 div.sk-estimator {font-family: monospace;background-color: #f0f8ff;border: 1px dotted black;border-radius: 0.25em;box-sizing: border-box;margin-bottom: 0.5em;}#sk-container-id-3 div.sk-estimator:hover {background-color: #d4ebff;}#sk-container-id-3 div.sk-parallel-item::after {content: \"\";width: 100%;border-bottom: 1px solid gray;flex-grow: 1;}#sk-container-id-3 div.sk-label:hover label.sk-toggleable__label {background-color: #d4ebff;}#sk-container-id-3 div.sk-serial::before {content: \"\";position: absolute;border-left: 1px solid gray;box-sizing: border-box;top: 0;bottom: 0;left: 50%;z-index: 0;}#sk-container-id-3 div.sk-serial {display: flex;flex-direction: column;align-items: center;background-color: white;padding-right: 0.2em;padding-left: 0.2em;position: relative;}#sk-container-id-3 div.sk-item {position: relative;z-index: 1;}#sk-container-id-3 div.sk-parallel {display: flex;align-items: stretch;justify-content: center;background-color: white;position: relative;}#sk-container-id-3 div.sk-item::before, #sk-container-id-3 div.sk-parallel-item::before {content: \"\";position: absolute;border-left: 1px solid gray;box-sizing: border-box;top: 0;bottom: 0;left: 50%;z-index: -1;}#sk-container-id-3 div.sk-parallel-item {display: flex;flex-direction: column;z-index: 1;position: relative;background-color: white;}#sk-container-id-3 div.sk-parallel-item:first-child::after {align-self: flex-end;width: 50%;}#sk-container-id-3 div.sk-parallel-item:last-child::after {align-self: flex-start;width: 50%;}#sk-container-id-3 div.sk-parallel-item:only-child::after {width: 0;}#sk-container-id-3 div.sk-dashed-wrapped {border: 1px dashed gray;margin: 0 0.4em 0.5em 0.4em;box-sizing: border-box;padding-bottom: 0.4em;background-color: white;}#sk-container-id-3 div.sk-label label {font-family: monospace;font-weight: bold;display: inline-block;line-height: 1.2em;}#sk-container-id-3 div.sk-label-container {text-align: center;}#sk-container-id-3 div.sk-container {/* jupyter's `normalize.less` sets `[hidden] { display: none; }` but bootstrap.min.css set `[hidden] { display: none !important; }` so we also need the `!important` here to be able to override the default hidden behavior on the sphinx rendered scikit-learn.org. See: https://github.com/scikit-learn/scikit-learn/issues/21755 */display: inline-block !important;position: relative;}#sk-container-id-3 div.sk-text-repr-fallback {display: none;}</style><div id=\"sk-container-id-3\" class=\"sk-top-container\"><div class=\"sk-text-repr-fallback\"><pre>Pipeline(steps=[(&#x27;vect&#x27;,\n",
              "                 CountVectorizer(analyzer=&lt;function processText at 0x7a86bdf93880&gt;)),\n",
              "                (&#x27;tfidf&#x27;, TfidfTransformer()), (&#x27;clf&#x27;, LogisticRegression())])</pre><b>In a Jupyter environment, please rerun this cell to show the HTML representation or trust the notebook. <br />On GitHub, the HTML representation is unable to render, please try loading this page with nbviewer.org.</b></div><div class=\"sk-container\" hidden><div class=\"sk-item sk-dashed-wrapped\"><div class=\"sk-label-container\"><div class=\"sk-label sk-toggleable\"><input class=\"sk-toggleable__control sk-hidden--visually\" id=\"sk-estimator-id-9\" type=\"checkbox\" ><label for=\"sk-estimator-id-9\" class=\"sk-toggleable__label sk-toggleable__label-arrow\">Pipeline</label><div class=\"sk-toggleable__content\"><pre>Pipeline(steps=[(&#x27;vect&#x27;,\n",
              "                 CountVectorizer(analyzer=&lt;function processText at 0x7a86bdf93880&gt;)),\n",
              "                (&#x27;tfidf&#x27;, TfidfTransformer()), (&#x27;clf&#x27;, LogisticRegression())])</pre></div></div></div><div class=\"sk-serial\"><div class=\"sk-item\"><div class=\"sk-estimator sk-toggleable\"><input class=\"sk-toggleable__control sk-hidden--visually\" id=\"sk-estimator-id-10\" type=\"checkbox\" ><label for=\"sk-estimator-id-10\" class=\"sk-toggleable__label sk-toggleable__label-arrow\">CountVectorizer</label><div class=\"sk-toggleable__content\"><pre>CountVectorizer(analyzer=&lt;function processText at 0x7a86bdf93880&gt;)</pre></div></div></div><div class=\"sk-item\"><div class=\"sk-estimator sk-toggleable\"><input class=\"sk-toggleable__control sk-hidden--visually\" id=\"sk-estimator-id-11\" type=\"checkbox\" ><label for=\"sk-estimator-id-11\" class=\"sk-toggleable__label sk-toggleable__label-arrow\">TfidfTransformer</label><div class=\"sk-toggleable__content\"><pre>TfidfTransformer()</pre></div></div></div><div class=\"sk-item\"><div class=\"sk-estimator sk-toggleable\"><input class=\"sk-toggleable__control sk-hidden--visually\" id=\"sk-estimator-id-12\" type=\"checkbox\" ><label for=\"sk-estimator-id-12\" class=\"sk-toggleable__label sk-toggleable__label-arrow\">LogisticRegression</label><div class=\"sk-toggleable__content\"><pre>LogisticRegression()</pre></div></div></div></div></div></div></div>"
            ]
          },
          "metadata": {},
          "execution_count": 30
        }
      ]
    },
    {
      "cell_type": "markdown",
      "metadata": {
        "id": "gjQ8DmPNRUuJ"
      },
      "source": [
        "# Step 4: Make Prediction"
      ]
    },
    {
      "cell_type": "code",
      "metadata": {
        "id": "OMdoIHjMRWce"
      },
      "source": [
        "# To make prediction with dev/test set\n",
        "predicted = text_clf.predict(twenty_test1.data)"
      ],
      "execution_count": 31,
      "outputs": []
    },
    {
      "cell_type": "markdown",
      "metadata": {
        "id": "3GXHJHqoBmyJ"
      },
      "source": [
        "# Step 5: Evaluation"
      ]
    },
    {
      "cell_type": "markdown",
      "source": [
        "**You need to modify the code so only two classes from your student number are output as matrix.**"
      ],
      "metadata": {
        "id": "QuBuHl6G5xhN"
      }
    },
    {
      "cell_type": "code",
      "metadata": {
        "colab": {
          "base_uri": "https://localhost:8080/",
          "height": 293
        },
        "id": "LdB9js0QDErf",
        "outputId": "2492fbe6-51ab-4ed9-de6d-c9f1fa5c749d"
      },
      "source": [
        "# To evaluate your prediction on dev set\n",
        "from sklearn import metrics\n",
        "print(\"Accuracy:\", metrics.accuracy_score(twenty_test1.target, predicted))\n",
        "\n",
        "print(metrics.classification_report(twenty_test1.target, predicted, target_names=twenty_test1.target_names))\n",
        "\n",
        "# confusion class\n",
        "pd.DataFrame(metrics.confusion_matrix(twenty_test1.target, predicted),\n",
        "             columns=twenty_test1.target_names,index=twenty_test1.target_names)"
      ],
      "execution_count": 32,
      "outputs": [
        {
          "output_type": "stream",
          "name": "stdout",
          "text": [
            "Accuracy: 0.8535564853556485\n",
            "                        precision    recall  f1-score   support\n",
            "\n",
            "           alt.atheism       0.95      0.71      0.81       319\n",
            "soc.religion.christian       0.80      0.97      0.88       398\n",
            "\n",
            "              accuracy                           0.85       717\n",
            "             macro avg       0.88      0.84      0.85       717\n",
            "          weighted avg       0.87      0.85      0.85       717\n",
            "\n"
          ]
        },
        {
          "output_type": "execute_result",
          "data": {
            "text/plain": [
              "                        alt.atheism  soc.religion.christian\n",
              "alt.atheism                     225                      94\n",
              "soc.religion.christian           11                     387"
            ],
            "text/html": [
              "\n",
              "  <div id=\"df-8fe47879-2ba5-46e5-8657-41ffad6baa56\" class=\"colab-df-container\">\n",
              "    <div>\n",
              "<style scoped>\n",
              "    .dataframe tbody tr th:only-of-type {\n",
              "        vertical-align: middle;\n",
              "    }\n",
              "\n",
              "    .dataframe tbody tr th {\n",
              "        vertical-align: top;\n",
              "    }\n",
              "\n",
              "    .dataframe thead th {\n",
              "        text-align: right;\n",
              "    }\n",
              "</style>\n",
              "<table border=\"1\" class=\"dataframe\">\n",
              "  <thead>\n",
              "    <tr style=\"text-align: right;\">\n",
              "      <th></th>\n",
              "      <th>alt.atheism</th>\n",
              "      <th>soc.religion.christian</th>\n",
              "    </tr>\n",
              "  </thead>\n",
              "  <tbody>\n",
              "    <tr>\n",
              "      <th>alt.atheism</th>\n",
              "      <td>225</td>\n",
              "      <td>94</td>\n",
              "    </tr>\n",
              "    <tr>\n",
              "      <th>soc.religion.christian</th>\n",
              "      <td>11</td>\n",
              "      <td>387</td>\n",
              "    </tr>\n",
              "  </tbody>\n",
              "</table>\n",
              "</div>\n",
              "    <div class=\"colab-df-buttons\">\n",
              "\n",
              "  <div class=\"colab-df-container\">\n",
              "    <button class=\"colab-df-convert\" onclick=\"convertToInteractive('df-8fe47879-2ba5-46e5-8657-41ffad6baa56')\"\n",
              "            title=\"Convert this dataframe to an interactive table.\"\n",
              "            style=\"display:none;\">\n",
              "\n",
              "  <svg xmlns=\"http://www.w3.org/2000/svg\" height=\"24px\" viewBox=\"0 -960 960 960\">\n",
              "    <path d=\"M120-120v-720h720v720H120Zm60-500h600v-160H180v160Zm220 220h160v-160H400v160Zm0 220h160v-160H400v160ZM180-400h160v-160H180v160Zm440 0h160v-160H620v160ZM180-180h160v-160H180v160Zm440 0h160v-160H620v160Z\"/>\n",
              "  </svg>\n",
              "    </button>\n",
              "\n",
              "  <style>\n",
              "    .colab-df-container {\n",
              "      display:flex;\n",
              "      gap: 12px;\n",
              "    }\n",
              "\n",
              "    .colab-df-convert {\n",
              "      background-color: #E8F0FE;\n",
              "      border: none;\n",
              "      border-radius: 50%;\n",
              "      cursor: pointer;\n",
              "      display: none;\n",
              "      fill: #1967D2;\n",
              "      height: 32px;\n",
              "      padding: 0 0 0 0;\n",
              "      width: 32px;\n",
              "    }\n",
              "\n",
              "    .colab-df-convert:hover {\n",
              "      background-color: #E2EBFA;\n",
              "      box-shadow: 0px 1px 2px rgba(60, 64, 67, 0.3), 0px 1px 3px 1px rgba(60, 64, 67, 0.15);\n",
              "      fill: #174EA6;\n",
              "    }\n",
              "\n",
              "    .colab-df-buttons div {\n",
              "      margin-bottom: 4px;\n",
              "    }\n",
              "\n",
              "    [theme=dark] .colab-df-convert {\n",
              "      background-color: #3B4455;\n",
              "      fill: #D2E3FC;\n",
              "    }\n",
              "\n",
              "    [theme=dark] .colab-df-convert:hover {\n",
              "      background-color: #434B5C;\n",
              "      box-shadow: 0px 1px 3px 1px rgba(0, 0, 0, 0.15);\n",
              "      filter: drop-shadow(0px 1px 2px rgba(0, 0, 0, 0.3));\n",
              "      fill: #FFFFFF;\n",
              "    }\n",
              "  </style>\n",
              "\n",
              "    <script>\n",
              "      const buttonEl =\n",
              "        document.querySelector('#df-8fe47879-2ba5-46e5-8657-41ffad6baa56 button.colab-df-convert');\n",
              "      buttonEl.style.display =\n",
              "        google.colab.kernel.accessAllowed ? 'block' : 'none';\n",
              "\n",
              "      async function convertToInteractive(key) {\n",
              "        const element = document.querySelector('#df-8fe47879-2ba5-46e5-8657-41ffad6baa56');\n",
              "        const dataTable =\n",
              "          await google.colab.kernel.invokeFunction('convertToInteractive',\n",
              "                                                    [key], {});\n",
              "        if (!dataTable) return;\n",
              "\n",
              "        const docLinkHtml = 'Like what you see? Visit the ' +\n",
              "          '<a target=\"_blank\" href=https://colab.research.google.com/notebooks/data_table.ipynb>data table notebook</a>'\n",
              "          + ' to learn more about interactive tables.';\n",
              "        element.innerHTML = '';\n",
              "        dataTable['output_type'] = 'display_data';\n",
              "        await google.colab.output.renderOutput(dataTable, element);\n",
              "        const docLink = document.createElement('div');\n",
              "        docLink.innerHTML = docLinkHtml;\n",
              "        element.appendChild(docLink);\n",
              "      }\n",
              "    </script>\n",
              "  </div>\n",
              "\n",
              "\n",
              "<div id=\"df-9c1f48e5-1223-4210-9ebc-a5161e956868\">\n",
              "  <button class=\"colab-df-quickchart\" onclick=\"quickchart('df-9c1f48e5-1223-4210-9ebc-a5161e956868')\"\n",
              "            title=\"Suggest charts\"\n",
              "            style=\"display:none;\">\n",
              "\n",
              "<svg xmlns=\"http://www.w3.org/2000/svg\" height=\"24px\"viewBox=\"0 0 24 24\"\n",
              "     width=\"24px\">\n",
              "    <g>\n",
              "        <path d=\"M19 3H5c-1.1 0-2 .9-2 2v14c0 1.1.9 2 2 2h14c1.1 0 2-.9 2-2V5c0-1.1-.9-2-2-2zM9 17H7v-7h2v7zm4 0h-2V7h2v10zm4 0h-2v-4h2v4z\"/>\n",
              "    </g>\n",
              "</svg>\n",
              "  </button>\n",
              "\n",
              "<style>\n",
              "  .colab-df-quickchart {\n",
              "      --bg-color: #E8F0FE;\n",
              "      --fill-color: #1967D2;\n",
              "      --hover-bg-color: #E2EBFA;\n",
              "      --hover-fill-color: #174EA6;\n",
              "      --disabled-fill-color: #AAA;\n",
              "      --disabled-bg-color: #DDD;\n",
              "  }\n",
              "\n",
              "  [theme=dark] .colab-df-quickchart {\n",
              "      --bg-color: #3B4455;\n",
              "      --fill-color: #D2E3FC;\n",
              "      --hover-bg-color: #434B5C;\n",
              "      --hover-fill-color: #FFFFFF;\n",
              "      --disabled-bg-color: #3B4455;\n",
              "      --disabled-fill-color: #666;\n",
              "  }\n",
              "\n",
              "  .colab-df-quickchart {\n",
              "    background-color: var(--bg-color);\n",
              "    border: none;\n",
              "    border-radius: 50%;\n",
              "    cursor: pointer;\n",
              "    display: none;\n",
              "    fill: var(--fill-color);\n",
              "    height: 32px;\n",
              "    padding: 0;\n",
              "    width: 32px;\n",
              "  }\n",
              "\n",
              "  .colab-df-quickchart:hover {\n",
              "    background-color: var(--hover-bg-color);\n",
              "    box-shadow: 0 1px 2px rgba(60, 64, 67, 0.3), 0 1px 3px 1px rgba(60, 64, 67, 0.15);\n",
              "    fill: var(--button-hover-fill-color);\n",
              "  }\n",
              "\n",
              "  .colab-df-quickchart-complete:disabled,\n",
              "  .colab-df-quickchart-complete:disabled:hover {\n",
              "    background-color: var(--disabled-bg-color);\n",
              "    fill: var(--disabled-fill-color);\n",
              "    box-shadow: none;\n",
              "  }\n",
              "\n",
              "  .colab-df-spinner {\n",
              "    border: 2px solid var(--fill-color);\n",
              "    border-color: transparent;\n",
              "    border-bottom-color: var(--fill-color);\n",
              "    animation:\n",
              "      spin 1s steps(1) infinite;\n",
              "  }\n",
              "\n",
              "  @keyframes spin {\n",
              "    0% {\n",
              "      border-color: transparent;\n",
              "      border-bottom-color: var(--fill-color);\n",
              "      border-left-color: var(--fill-color);\n",
              "    }\n",
              "    20% {\n",
              "      border-color: transparent;\n",
              "      border-left-color: var(--fill-color);\n",
              "      border-top-color: var(--fill-color);\n",
              "    }\n",
              "    30% {\n",
              "      border-color: transparent;\n",
              "      border-left-color: var(--fill-color);\n",
              "      border-top-color: var(--fill-color);\n",
              "      border-right-color: var(--fill-color);\n",
              "    }\n",
              "    40% {\n",
              "      border-color: transparent;\n",
              "      border-right-color: var(--fill-color);\n",
              "      border-top-color: var(--fill-color);\n",
              "    }\n",
              "    60% {\n",
              "      border-color: transparent;\n",
              "      border-right-color: var(--fill-color);\n",
              "    }\n",
              "    80% {\n",
              "      border-color: transparent;\n",
              "      border-right-color: var(--fill-color);\n",
              "      border-bottom-color: var(--fill-color);\n",
              "    }\n",
              "    90% {\n",
              "      border-color: transparent;\n",
              "      border-bottom-color: var(--fill-color);\n",
              "    }\n",
              "  }\n",
              "</style>\n",
              "\n",
              "  <script>\n",
              "    async function quickchart(key) {\n",
              "      const quickchartButtonEl =\n",
              "        document.querySelector('#' + key + ' button');\n",
              "      quickchartButtonEl.disabled = true;  // To prevent multiple clicks.\n",
              "      quickchartButtonEl.classList.add('colab-df-spinner');\n",
              "      try {\n",
              "        const charts = await google.colab.kernel.invokeFunction(\n",
              "            'suggestCharts', [key], {});\n",
              "      } catch (error) {\n",
              "        console.error('Error during call to suggestCharts:', error);\n",
              "      }\n",
              "      quickchartButtonEl.classList.remove('colab-df-spinner');\n",
              "      quickchartButtonEl.classList.add('colab-df-quickchart-complete');\n",
              "    }\n",
              "    (() => {\n",
              "      let quickchartButtonEl =\n",
              "        document.querySelector('#df-9c1f48e5-1223-4210-9ebc-a5161e956868 button');\n",
              "      quickchartButtonEl.style.display =\n",
              "        google.colab.kernel.accessAllowed ? 'block' : 'none';\n",
              "    })();\n",
              "  </script>\n",
              "</div>\n",
              "    </div>\n",
              "  </div>\n"
            ],
            "application/vnd.google.colaboratory.intrinsic+json": {
              "type": "dataframe",
              "summary": "{\n  \"name\": \"             columns=twenty_test1\",\n  \"rows\": 2,\n  \"fields\": [\n    {\n      \"column\": \"alt.atheism\",\n      \"properties\": {\n        \"dtype\": \"number\",\n        \"std\": 151,\n        \"min\": 11,\n        \"max\": 225,\n        \"num_unique_values\": 2,\n        \"samples\": [\n          11,\n          225\n        ],\n        \"semantic_type\": \"\",\n        \"description\": \"\"\n      }\n    },\n    {\n      \"column\": \"soc.religion.christian\",\n      \"properties\": {\n        \"dtype\": \"number\",\n        \"std\": 207,\n        \"min\": 94,\n        \"max\": 387,\n        \"num_unique_values\": 2,\n        \"samples\": [\n          387,\n          94\n        ],\n        \"semantic_type\": \"\",\n        \"description\": \"\"\n      }\n    }\n  ]\n}"
            }
          },
          "metadata": {},
          "execution_count": 32
        }
      ]
    },
    {
      "cell_type": "markdown",
      "metadata": {
        "id": "qCLCqFXPQsRq"
      },
      "source": [
        "# Step 6: Error Analysis and Discussion\n",
        "write down your own obseration about the predictions. Consider both confusion matrix and selected examples. Which classes are predicted correctly or incorrecly, possible explaination, possible solutions\n",
        "\n",
        "Exmaple: 1) Lab Practical, which feature is helpful for female name classification. https://www.nltk.org/book/ch06.html\n",
        "2) research paper: https://github.com/yoonkim/CNN_sentence\n"
      ]
    },
    {
      "cell_type": "code",
      "metadata": {
        "colab": {
          "base_uri": "https://localhost:8080/",
          "height": 1000
        },
        "id": "kvBw9qkKDS-m",
        "outputId": "54a8eba1-7874-4739-b911-481ad736f60c"
      },
      "source": [
        "df_pred = pd.DataFrame({'news':twenty_test1.data,'prediction':predicted, 'true':twenty_test1.target})\n",
        "df_pred[df_pred['true'] != df_pred['prediction']]"
      ],
      "execution_count": 28,
      "outputs": [
        {
          "output_type": "execute_result",
          "data": {
            "text/plain": [
              "                                                  news  prediction  true\n",
              "0    From: crackle!dabbott@munnari.oz.au (NAME)\\nSu...           0     1\n",
              "4    From: salem@pangea.Stanford.EDU (Bruce Salem)\\...           1     0\n",
              "13   From: livesey@solntze.wpd.sgi.com (Jon Livesey...           1     0\n",
              "38   From: christen@astro.ocis.temple.edu (Carl Chr...           1     0\n",
              "52   From: lamontg@u.washington.edu\\nSubject: Re: H...           1     0\n",
              "54   From: mangoe@cs.umd.edu (Charley Wingate)\\nSub...           0     1\n",
              "62   From: biz@soil.princeton.edu (Dave Bisignano)\\...           0     1\n",
              "75   From: lamontg@u.washington.edu\\nSubject: Re: H...           1     0\n",
              "78   From: bobbe@vice.ICO.TEK.COM (Robert Beauchain...           1     0\n",
              "79   From: T.G.Nattress@newcastle.ac.uk (Graeme Nat...           1     0\n",
              "83   From: johnchad@triton.unm.edu (jchadwic)\\nSubj...           1     0\n",
              "94   From: bobbe@vice (Robert Beauchaine;6086;59-32...           1     0\n",
              "114  From: biz@soil.princeton.edu (Dave Bisignano)\\...           0     1\n",
              "123  From: kempmp@phoenix.oulu.fi (Petri Pihko)\\nSu...           1     0\n",
              "126  From: dekorte@dirac.scri.fsu.edu (Stephen L. D...           1     0\n",
              "134  From: sjs28257@uxa.cso.uiuc.edu (Steve Stelter...           1     0\n",
              "156  From: Alan.Olsen@p17.f40.n105.z1.fidonet.org (...           1     0\n",
              "180  From: muirm@argon.gas.organpipe.uug.arizona.ed...           0     1\n",
              "197  From: acooper@mac.cc.macalstr.edu (Turin Turam...           1     0\n",
              "212  From: u2i02@seq1.cc.keele.ac.uk (RJ Pomeroy)\\n...           0     1\n",
              "217  From: dt4%cs@hub.ucsb.edu (David E. Goggin)\\nS...           0     1\n",
              "222  From: mmiller1@ATTMAIL.COM (Mike Miller)\\nSubj...           0     1\n",
              "245  From: pww@spacsun.rice.edu (Peter Walker)\\nSub...           1     0\n",
              "262  From: pauld@verdix.com (Paul Durbin)\\nSubject:...           1     0\n",
              "280  From: ed@wente.llnl.gov (Ed Suranyi)\\nSubject:...           1     0\n",
              "335  From: marshall@csugrad.cs.vt.edu (Kevin Marsha...           1     0\n",
              "344  From: kempmp@phoenix.oulu.fi (Petri Pihko)\\nSu...           1     0\n",
              "366  From: kadie@cs.uiuc.edu (Carl M Kadie)\\nSubjec...           1     0\n",
              "399  From: arc1@ukc.ac.uk (Tony Curtis)\\nSubject: R...           1     0\n",
              "406  From: pww@spacsun.rice.edu (Peter Walker)\\nSub...           1     0\n",
              "411  From: dozier@utkux1.utk.edu (Anni Dozier)\\nSub...           0     1\n",
              "413  From: mathew <mathew@mantis.co.uk>\\nSubject: D...           1     0\n",
              "414  From: jennyb@carina.unm.edu (Jenny Ballmann)\\n...           1     0\n",
              "419  From: dps@nasa.kodak.com (Dan Schaertel,,,)\\nS...           1     0\n",
              "438  From: gck@aero.org (Gregory C. Kozlowski)\\nSub...           1     0\n",
              "442  From: mayne@pipe.cs.fsu.edu (William Mayne)\\nS...           1     0\n",
              "461  From: kempmp@phoenix.oulu.fi (Petri Pihko)\\nSu...           1     0\n",
              "469  From: mtabbott@unix.amherst.edu (MTA)\\nSubject...           1     0\n",
              "558  From: jgreen@trumpet.calpoly.edu (James Thomas...           1     0\n",
              "593  From: swf@elsegundoca.ncr.com (Stan Friesen)\\n...           1     0\n",
              "607  From: oser@fermi.wustl.edu (Scott Oser)\\nSubje...           1     0\n",
              "610  From: Alan.Olsen@p17.f40.n105.z1.fidonet.org (...           1     0\n",
              "615  From: scharle@lukasiewicz.cc.nd.edu (scharle)\\...           1     0\n",
              "620  From: acooper@mac.cc.macalstr.edu (Turin Turam...           1     0\n",
              "623  From: ch981@cleveland.Freenet.Edu (Tony Alicea...           1     0\n",
              "641  From: \"James F. Tims\" <p00168@psilink.com>\\nSu...           1     0\n",
              "663  From: danb@shell.portal.com (Dan E Babcock)\\nS...           1     0\n",
              "668  From: tgk@cs.toronto.edu (Todd Kelley)\\nSubjec...           1     0\n",
              "677  From: acooper@mac.cc.macalstr.edu (Turin Turam...           1     0\n",
              "679  From: marshall@csugrad.cs.vt.edu (Kevin Marsha...           1     0\n",
              "683  From: marshall@csugrad.cs.vt.edu (Kevin Marsha...           1     0\n",
              "685  From: sandvik@newton.apple.com (Kent Sandvik)\\...           0     1"
            ],
            "text/html": [
              "\n",
              "  <div id=\"df-9cdee5da-382c-4b77-8fba-459391e27035\" class=\"colab-df-container\">\n",
              "    <div>\n",
              "<style scoped>\n",
              "    .dataframe tbody tr th:only-of-type {\n",
              "        vertical-align: middle;\n",
              "    }\n",
              "\n",
              "    .dataframe tbody tr th {\n",
              "        vertical-align: top;\n",
              "    }\n",
              "\n",
              "    .dataframe thead th {\n",
              "        text-align: right;\n",
              "    }\n",
              "</style>\n",
              "<table border=\"1\" class=\"dataframe\">\n",
              "  <thead>\n",
              "    <tr style=\"text-align: right;\">\n",
              "      <th></th>\n",
              "      <th>news</th>\n",
              "      <th>prediction</th>\n",
              "      <th>true</th>\n",
              "    </tr>\n",
              "  </thead>\n",
              "  <tbody>\n",
              "    <tr>\n",
              "      <th>0</th>\n",
              "      <td>From: crackle!dabbott@munnari.oz.au (NAME)\\nSu...</td>\n",
              "      <td>0</td>\n",
              "      <td>1</td>\n",
              "    </tr>\n",
              "    <tr>\n",
              "      <th>4</th>\n",
              "      <td>From: salem@pangea.Stanford.EDU (Bruce Salem)\\...</td>\n",
              "      <td>1</td>\n",
              "      <td>0</td>\n",
              "    </tr>\n",
              "    <tr>\n",
              "      <th>13</th>\n",
              "      <td>From: livesey@solntze.wpd.sgi.com (Jon Livesey...</td>\n",
              "      <td>1</td>\n",
              "      <td>0</td>\n",
              "    </tr>\n",
              "    <tr>\n",
              "      <th>38</th>\n",
              "      <td>From: christen@astro.ocis.temple.edu (Carl Chr...</td>\n",
              "      <td>1</td>\n",
              "      <td>0</td>\n",
              "    </tr>\n",
              "    <tr>\n",
              "      <th>52</th>\n",
              "      <td>From: lamontg@u.washington.edu\\nSubject: Re: H...</td>\n",
              "      <td>1</td>\n",
              "      <td>0</td>\n",
              "    </tr>\n",
              "    <tr>\n",
              "      <th>54</th>\n",
              "      <td>From: mangoe@cs.umd.edu (Charley Wingate)\\nSub...</td>\n",
              "      <td>0</td>\n",
              "      <td>1</td>\n",
              "    </tr>\n",
              "    <tr>\n",
              "      <th>62</th>\n",
              "      <td>From: biz@soil.princeton.edu (Dave Bisignano)\\...</td>\n",
              "      <td>0</td>\n",
              "      <td>1</td>\n",
              "    </tr>\n",
              "    <tr>\n",
              "      <th>75</th>\n",
              "      <td>From: lamontg@u.washington.edu\\nSubject: Re: H...</td>\n",
              "      <td>1</td>\n",
              "      <td>0</td>\n",
              "    </tr>\n",
              "    <tr>\n",
              "      <th>78</th>\n",
              "      <td>From: bobbe@vice.ICO.TEK.COM (Robert Beauchain...</td>\n",
              "      <td>1</td>\n",
              "      <td>0</td>\n",
              "    </tr>\n",
              "    <tr>\n",
              "      <th>79</th>\n",
              "      <td>From: T.G.Nattress@newcastle.ac.uk (Graeme Nat...</td>\n",
              "      <td>1</td>\n",
              "      <td>0</td>\n",
              "    </tr>\n",
              "    <tr>\n",
              "      <th>83</th>\n",
              "      <td>From: johnchad@triton.unm.edu (jchadwic)\\nSubj...</td>\n",
              "      <td>1</td>\n",
              "      <td>0</td>\n",
              "    </tr>\n",
              "    <tr>\n",
              "      <th>94</th>\n",
              "      <td>From: bobbe@vice (Robert Beauchaine;6086;59-32...</td>\n",
              "      <td>1</td>\n",
              "      <td>0</td>\n",
              "    </tr>\n",
              "    <tr>\n",
              "      <th>114</th>\n",
              "      <td>From: biz@soil.princeton.edu (Dave Bisignano)\\...</td>\n",
              "      <td>0</td>\n",
              "      <td>1</td>\n",
              "    </tr>\n",
              "    <tr>\n",
              "      <th>123</th>\n",
              "      <td>From: kempmp@phoenix.oulu.fi (Petri Pihko)\\nSu...</td>\n",
              "      <td>1</td>\n",
              "      <td>0</td>\n",
              "    </tr>\n",
              "    <tr>\n",
              "      <th>126</th>\n",
              "      <td>From: dekorte@dirac.scri.fsu.edu (Stephen L. D...</td>\n",
              "      <td>1</td>\n",
              "      <td>0</td>\n",
              "    </tr>\n",
              "    <tr>\n",
              "      <th>134</th>\n",
              "      <td>From: sjs28257@uxa.cso.uiuc.edu (Steve Stelter...</td>\n",
              "      <td>1</td>\n",
              "      <td>0</td>\n",
              "    </tr>\n",
              "    <tr>\n",
              "      <th>156</th>\n",
              "      <td>From: Alan.Olsen@p17.f40.n105.z1.fidonet.org (...</td>\n",
              "      <td>1</td>\n",
              "      <td>0</td>\n",
              "    </tr>\n",
              "    <tr>\n",
              "      <th>180</th>\n",
              "      <td>From: muirm@argon.gas.organpipe.uug.arizona.ed...</td>\n",
              "      <td>0</td>\n",
              "      <td>1</td>\n",
              "    </tr>\n",
              "    <tr>\n",
              "      <th>197</th>\n",
              "      <td>From: acooper@mac.cc.macalstr.edu (Turin Turam...</td>\n",
              "      <td>1</td>\n",
              "      <td>0</td>\n",
              "    </tr>\n",
              "    <tr>\n",
              "      <th>212</th>\n",
              "      <td>From: u2i02@seq1.cc.keele.ac.uk (RJ Pomeroy)\\n...</td>\n",
              "      <td>0</td>\n",
              "      <td>1</td>\n",
              "    </tr>\n",
              "    <tr>\n",
              "      <th>217</th>\n",
              "      <td>From: dt4%cs@hub.ucsb.edu (David E. Goggin)\\nS...</td>\n",
              "      <td>0</td>\n",
              "      <td>1</td>\n",
              "    </tr>\n",
              "    <tr>\n",
              "      <th>222</th>\n",
              "      <td>From: mmiller1@ATTMAIL.COM (Mike Miller)\\nSubj...</td>\n",
              "      <td>0</td>\n",
              "      <td>1</td>\n",
              "    </tr>\n",
              "    <tr>\n",
              "      <th>245</th>\n",
              "      <td>From: pww@spacsun.rice.edu (Peter Walker)\\nSub...</td>\n",
              "      <td>1</td>\n",
              "      <td>0</td>\n",
              "    </tr>\n",
              "    <tr>\n",
              "      <th>262</th>\n",
              "      <td>From: pauld@verdix.com (Paul Durbin)\\nSubject:...</td>\n",
              "      <td>1</td>\n",
              "      <td>0</td>\n",
              "    </tr>\n",
              "    <tr>\n",
              "      <th>280</th>\n",
              "      <td>From: ed@wente.llnl.gov (Ed Suranyi)\\nSubject:...</td>\n",
              "      <td>1</td>\n",
              "      <td>0</td>\n",
              "    </tr>\n",
              "    <tr>\n",
              "      <th>335</th>\n",
              "      <td>From: marshall@csugrad.cs.vt.edu (Kevin Marsha...</td>\n",
              "      <td>1</td>\n",
              "      <td>0</td>\n",
              "    </tr>\n",
              "    <tr>\n",
              "      <th>344</th>\n",
              "      <td>From: kempmp@phoenix.oulu.fi (Petri Pihko)\\nSu...</td>\n",
              "      <td>1</td>\n",
              "      <td>0</td>\n",
              "    </tr>\n",
              "    <tr>\n",
              "      <th>366</th>\n",
              "      <td>From: kadie@cs.uiuc.edu (Carl M Kadie)\\nSubjec...</td>\n",
              "      <td>1</td>\n",
              "      <td>0</td>\n",
              "    </tr>\n",
              "    <tr>\n",
              "      <th>399</th>\n",
              "      <td>From: arc1@ukc.ac.uk (Tony Curtis)\\nSubject: R...</td>\n",
              "      <td>1</td>\n",
              "      <td>0</td>\n",
              "    </tr>\n",
              "    <tr>\n",
              "      <th>406</th>\n",
              "      <td>From: pww@spacsun.rice.edu (Peter Walker)\\nSub...</td>\n",
              "      <td>1</td>\n",
              "      <td>0</td>\n",
              "    </tr>\n",
              "    <tr>\n",
              "      <th>411</th>\n",
              "      <td>From: dozier@utkux1.utk.edu (Anni Dozier)\\nSub...</td>\n",
              "      <td>0</td>\n",
              "      <td>1</td>\n",
              "    </tr>\n",
              "    <tr>\n",
              "      <th>413</th>\n",
              "      <td>From: mathew &lt;mathew@mantis.co.uk&gt;\\nSubject: D...</td>\n",
              "      <td>1</td>\n",
              "      <td>0</td>\n",
              "    </tr>\n",
              "    <tr>\n",
              "      <th>414</th>\n",
              "      <td>From: jennyb@carina.unm.edu (Jenny Ballmann)\\n...</td>\n",
              "      <td>1</td>\n",
              "      <td>0</td>\n",
              "    </tr>\n",
              "    <tr>\n",
              "      <th>419</th>\n",
              "      <td>From: dps@nasa.kodak.com (Dan Schaertel,,,)\\nS...</td>\n",
              "      <td>1</td>\n",
              "      <td>0</td>\n",
              "    </tr>\n",
              "    <tr>\n",
              "      <th>438</th>\n",
              "      <td>From: gck@aero.org (Gregory C. Kozlowski)\\nSub...</td>\n",
              "      <td>1</td>\n",
              "      <td>0</td>\n",
              "    </tr>\n",
              "    <tr>\n",
              "      <th>442</th>\n",
              "      <td>From: mayne@pipe.cs.fsu.edu (William Mayne)\\nS...</td>\n",
              "      <td>1</td>\n",
              "      <td>0</td>\n",
              "    </tr>\n",
              "    <tr>\n",
              "      <th>461</th>\n",
              "      <td>From: kempmp@phoenix.oulu.fi (Petri Pihko)\\nSu...</td>\n",
              "      <td>1</td>\n",
              "      <td>0</td>\n",
              "    </tr>\n",
              "    <tr>\n",
              "      <th>469</th>\n",
              "      <td>From: mtabbott@unix.amherst.edu (MTA)\\nSubject...</td>\n",
              "      <td>1</td>\n",
              "      <td>0</td>\n",
              "    </tr>\n",
              "    <tr>\n",
              "      <th>558</th>\n",
              "      <td>From: jgreen@trumpet.calpoly.edu (James Thomas...</td>\n",
              "      <td>1</td>\n",
              "      <td>0</td>\n",
              "    </tr>\n",
              "    <tr>\n",
              "      <th>593</th>\n",
              "      <td>From: swf@elsegundoca.ncr.com (Stan Friesen)\\n...</td>\n",
              "      <td>1</td>\n",
              "      <td>0</td>\n",
              "    </tr>\n",
              "    <tr>\n",
              "      <th>607</th>\n",
              "      <td>From: oser@fermi.wustl.edu (Scott Oser)\\nSubje...</td>\n",
              "      <td>1</td>\n",
              "      <td>0</td>\n",
              "    </tr>\n",
              "    <tr>\n",
              "      <th>610</th>\n",
              "      <td>From: Alan.Olsen@p17.f40.n105.z1.fidonet.org (...</td>\n",
              "      <td>1</td>\n",
              "      <td>0</td>\n",
              "    </tr>\n",
              "    <tr>\n",
              "      <th>615</th>\n",
              "      <td>From: scharle@lukasiewicz.cc.nd.edu (scharle)\\...</td>\n",
              "      <td>1</td>\n",
              "      <td>0</td>\n",
              "    </tr>\n",
              "    <tr>\n",
              "      <th>620</th>\n",
              "      <td>From: acooper@mac.cc.macalstr.edu (Turin Turam...</td>\n",
              "      <td>1</td>\n",
              "      <td>0</td>\n",
              "    </tr>\n",
              "    <tr>\n",
              "      <th>623</th>\n",
              "      <td>From: ch981@cleveland.Freenet.Edu (Tony Alicea...</td>\n",
              "      <td>1</td>\n",
              "      <td>0</td>\n",
              "    </tr>\n",
              "    <tr>\n",
              "      <th>641</th>\n",
              "      <td>From: \"James F. Tims\" &lt;p00168@psilink.com&gt;\\nSu...</td>\n",
              "      <td>1</td>\n",
              "      <td>0</td>\n",
              "    </tr>\n",
              "    <tr>\n",
              "      <th>663</th>\n",
              "      <td>From: danb@shell.portal.com (Dan E Babcock)\\nS...</td>\n",
              "      <td>1</td>\n",
              "      <td>0</td>\n",
              "    </tr>\n",
              "    <tr>\n",
              "      <th>668</th>\n",
              "      <td>From: tgk@cs.toronto.edu (Todd Kelley)\\nSubjec...</td>\n",
              "      <td>1</td>\n",
              "      <td>0</td>\n",
              "    </tr>\n",
              "    <tr>\n",
              "      <th>677</th>\n",
              "      <td>From: acooper@mac.cc.macalstr.edu (Turin Turam...</td>\n",
              "      <td>1</td>\n",
              "      <td>0</td>\n",
              "    </tr>\n",
              "    <tr>\n",
              "      <th>679</th>\n",
              "      <td>From: marshall@csugrad.cs.vt.edu (Kevin Marsha...</td>\n",
              "      <td>1</td>\n",
              "      <td>0</td>\n",
              "    </tr>\n",
              "    <tr>\n",
              "      <th>683</th>\n",
              "      <td>From: marshall@csugrad.cs.vt.edu (Kevin Marsha...</td>\n",
              "      <td>1</td>\n",
              "      <td>0</td>\n",
              "    </tr>\n",
              "    <tr>\n",
              "      <th>685</th>\n",
              "      <td>From: sandvik@newton.apple.com (Kent Sandvik)\\...</td>\n",
              "      <td>0</td>\n",
              "      <td>1</td>\n",
              "    </tr>\n",
              "  </tbody>\n",
              "</table>\n",
              "</div>\n",
              "    <div class=\"colab-df-buttons\">\n",
              "\n",
              "  <div class=\"colab-df-container\">\n",
              "    <button class=\"colab-df-convert\" onclick=\"convertToInteractive('df-9cdee5da-382c-4b77-8fba-459391e27035')\"\n",
              "            title=\"Convert this dataframe to an interactive table.\"\n",
              "            style=\"display:none;\">\n",
              "\n",
              "  <svg xmlns=\"http://www.w3.org/2000/svg\" height=\"24px\" viewBox=\"0 -960 960 960\">\n",
              "    <path d=\"M120-120v-720h720v720H120Zm60-500h600v-160H180v160Zm220 220h160v-160H400v160Zm0 220h160v-160H400v160ZM180-400h160v-160H180v160Zm440 0h160v-160H620v160ZM180-180h160v-160H180v160Zm440 0h160v-160H620v160Z\"/>\n",
              "  </svg>\n",
              "    </button>\n",
              "\n",
              "  <style>\n",
              "    .colab-df-container {\n",
              "      display:flex;\n",
              "      gap: 12px;\n",
              "    }\n",
              "\n",
              "    .colab-df-convert {\n",
              "      background-color: #E8F0FE;\n",
              "      border: none;\n",
              "      border-radius: 50%;\n",
              "      cursor: pointer;\n",
              "      display: none;\n",
              "      fill: #1967D2;\n",
              "      height: 32px;\n",
              "      padding: 0 0 0 0;\n",
              "      width: 32px;\n",
              "    }\n",
              "\n",
              "    .colab-df-convert:hover {\n",
              "      background-color: #E2EBFA;\n",
              "      box-shadow: 0px 1px 2px rgba(60, 64, 67, 0.3), 0px 1px 3px 1px rgba(60, 64, 67, 0.15);\n",
              "      fill: #174EA6;\n",
              "    }\n",
              "\n",
              "    .colab-df-buttons div {\n",
              "      margin-bottom: 4px;\n",
              "    }\n",
              "\n",
              "    [theme=dark] .colab-df-convert {\n",
              "      background-color: #3B4455;\n",
              "      fill: #D2E3FC;\n",
              "    }\n",
              "\n",
              "    [theme=dark] .colab-df-convert:hover {\n",
              "      background-color: #434B5C;\n",
              "      box-shadow: 0px 1px 3px 1px rgba(0, 0, 0, 0.15);\n",
              "      filter: drop-shadow(0px 1px 2px rgba(0, 0, 0, 0.3));\n",
              "      fill: #FFFFFF;\n",
              "    }\n",
              "  </style>\n",
              "\n",
              "    <script>\n",
              "      const buttonEl =\n",
              "        document.querySelector('#df-9cdee5da-382c-4b77-8fba-459391e27035 button.colab-df-convert');\n",
              "      buttonEl.style.display =\n",
              "        google.colab.kernel.accessAllowed ? 'block' : 'none';\n",
              "\n",
              "      async function convertToInteractive(key) {\n",
              "        const element = document.querySelector('#df-9cdee5da-382c-4b77-8fba-459391e27035');\n",
              "        const dataTable =\n",
              "          await google.colab.kernel.invokeFunction('convertToInteractive',\n",
              "                                                    [key], {});\n",
              "        if (!dataTable) return;\n",
              "\n",
              "        const docLinkHtml = 'Like what you see? Visit the ' +\n",
              "          '<a target=\"_blank\" href=https://colab.research.google.com/notebooks/data_table.ipynb>data table notebook</a>'\n",
              "          + ' to learn more about interactive tables.';\n",
              "        element.innerHTML = '';\n",
              "        dataTable['output_type'] = 'display_data';\n",
              "        await google.colab.output.renderOutput(dataTable, element);\n",
              "        const docLink = document.createElement('div');\n",
              "        docLink.innerHTML = docLinkHtml;\n",
              "        element.appendChild(docLink);\n",
              "      }\n",
              "    </script>\n",
              "  </div>\n",
              "\n",
              "\n",
              "<div id=\"df-3d92355d-455d-4b56-928b-7df5d184f9f3\">\n",
              "  <button class=\"colab-df-quickchart\" onclick=\"quickchart('df-3d92355d-455d-4b56-928b-7df5d184f9f3')\"\n",
              "            title=\"Suggest charts\"\n",
              "            style=\"display:none;\">\n",
              "\n",
              "<svg xmlns=\"http://www.w3.org/2000/svg\" height=\"24px\"viewBox=\"0 0 24 24\"\n",
              "     width=\"24px\">\n",
              "    <g>\n",
              "        <path d=\"M19 3H5c-1.1 0-2 .9-2 2v14c0 1.1.9 2 2 2h14c1.1 0 2-.9 2-2V5c0-1.1-.9-2-2-2zM9 17H7v-7h2v7zm4 0h-2V7h2v10zm4 0h-2v-4h2v4z\"/>\n",
              "    </g>\n",
              "</svg>\n",
              "  </button>\n",
              "\n",
              "<style>\n",
              "  .colab-df-quickchart {\n",
              "      --bg-color: #E8F0FE;\n",
              "      --fill-color: #1967D2;\n",
              "      --hover-bg-color: #E2EBFA;\n",
              "      --hover-fill-color: #174EA6;\n",
              "      --disabled-fill-color: #AAA;\n",
              "      --disabled-bg-color: #DDD;\n",
              "  }\n",
              "\n",
              "  [theme=dark] .colab-df-quickchart {\n",
              "      --bg-color: #3B4455;\n",
              "      --fill-color: #D2E3FC;\n",
              "      --hover-bg-color: #434B5C;\n",
              "      --hover-fill-color: #FFFFFF;\n",
              "      --disabled-bg-color: #3B4455;\n",
              "      --disabled-fill-color: #666;\n",
              "  }\n",
              "\n",
              "  .colab-df-quickchart {\n",
              "    background-color: var(--bg-color);\n",
              "    border: none;\n",
              "    border-radius: 50%;\n",
              "    cursor: pointer;\n",
              "    display: none;\n",
              "    fill: var(--fill-color);\n",
              "    height: 32px;\n",
              "    padding: 0;\n",
              "    width: 32px;\n",
              "  }\n",
              "\n",
              "  .colab-df-quickchart:hover {\n",
              "    background-color: var(--hover-bg-color);\n",
              "    box-shadow: 0 1px 2px rgba(60, 64, 67, 0.3), 0 1px 3px 1px rgba(60, 64, 67, 0.15);\n",
              "    fill: var(--button-hover-fill-color);\n",
              "  }\n",
              "\n",
              "  .colab-df-quickchart-complete:disabled,\n",
              "  .colab-df-quickchart-complete:disabled:hover {\n",
              "    background-color: var(--disabled-bg-color);\n",
              "    fill: var(--disabled-fill-color);\n",
              "    box-shadow: none;\n",
              "  }\n",
              "\n",
              "  .colab-df-spinner {\n",
              "    border: 2px solid var(--fill-color);\n",
              "    border-color: transparent;\n",
              "    border-bottom-color: var(--fill-color);\n",
              "    animation:\n",
              "      spin 1s steps(1) infinite;\n",
              "  }\n",
              "\n",
              "  @keyframes spin {\n",
              "    0% {\n",
              "      border-color: transparent;\n",
              "      border-bottom-color: var(--fill-color);\n",
              "      border-left-color: var(--fill-color);\n",
              "    }\n",
              "    20% {\n",
              "      border-color: transparent;\n",
              "      border-left-color: var(--fill-color);\n",
              "      border-top-color: var(--fill-color);\n",
              "    }\n",
              "    30% {\n",
              "      border-color: transparent;\n",
              "      border-left-color: var(--fill-color);\n",
              "      border-top-color: var(--fill-color);\n",
              "      border-right-color: var(--fill-color);\n",
              "    }\n",
              "    40% {\n",
              "      border-color: transparent;\n",
              "      border-right-color: var(--fill-color);\n",
              "      border-top-color: var(--fill-color);\n",
              "    }\n",
              "    60% {\n",
              "      border-color: transparent;\n",
              "      border-right-color: var(--fill-color);\n",
              "    }\n",
              "    80% {\n",
              "      border-color: transparent;\n",
              "      border-right-color: var(--fill-color);\n",
              "      border-bottom-color: var(--fill-color);\n",
              "    }\n",
              "    90% {\n",
              "      border-color: transparent;\n",
              "      border-bottom-color: var(--fill-color);\n",
              "    }\n",
              "  }\n",
              "</style>\n",
              "\n",
              "  <script>\n",
              "    async function quickchart(key) {\n",
              "      const quickchartButtonEl =\n",
              "        document.querySelector('#' + key + ' button');\n",
              "      quickchartButtonEl.disabled = true;  // To prevent multiple clicks.\n",
              "      quickchartButtonEl.classList.add('colab-df-spinner');\n",
              "      try {\n",
              "        const charts = await google.colab.kernel.invokeFunction(\n",
              "            'suggestCharts', [key], {});\n",
              "      } catch (error) {\n",
              "        console.error('Error during call to suggestCharts:', error);\n",
              "      }\n",
              "      quickchartButtonEl.classList.remove('colab-df-spinner');\n",
              "      quickchartButtonEl.classList.add('colab-df-quickchart-complete');\n",
              "    }\n",
              "    (() => {\n",
              "      let quickchartButtonEl =\n",
              "        document.querySelector('#df-3d92355d-455d-4b56-928b-7df5d184f9f3 button');\n",
              "      quickchartButtonEl.style.display =\n",
              "        google.colab.kernel.accessAllowed ? 'block' : 'none';\n",
              "    })();\n",
              "  </script>\n",
              "</div>\n",
              "    </div>\n",
              "  </div>\n"
            ],
            "application/vnd.google.colaboratory.intrinsic+json": {
              "type": "dataframe",
              "summary": "{\n  \"name\": \"df_pred[df_pred['true'] != df_pred['prediction']]\",\n  \"rows\": 52,\n  \"fields\": [\n    {\n      \"column\": \"news\",\n      \"properties\": {\n        \"dtype\": \"string\",\n        \"num_unique_values\": 52,\n        \"samples\": [\n          \"From: u2i02@seq1.cc.keele.ac.uk (RJ Pomeroy)\\nSubject: Re: Catholic doctrine of predestination\\nLines: 36\\n\\nFrom article <May.13.02.28.48.1993.1471@geneva.rutgers.edu>, by creps@lateran.ucs.indiana.edu (Stephen A. Creps):\\n>    The Catholic doctrine of predestination does not exclude free will in\\n> any way.  Since God knows everything, He therefore knows everything that\\n> is going to happen to us.  We have free will, and are able to change\\n> what happens to us.  However, since God knows everything, He knows all\\n> the choices we will make \\\"in advance\\\" (God is not subject to time).  Too\\n> often arguments pit predestination against free will.  We believe in\\n> both.\\n\\nJust a little issue of semantics:\\n\\nWould it not be better, then to call it \\\"pre-determination\\\"?!\\n\\n--\\n\\n   RRRRR        OO       BBBBB          :\\n   R    R     OO  OO     B    B         :\\n   R     R   OO    OO    B    BB        :          Robert Pomeroy\\n   R   RR    O      O    B    B         :\\n   RRRR      O      O    BBBBB          :        u2i02@keele.ac.uk\\n   R  R      O      O    B    B         :\\n   R   R     OO    OO    B    BB        :              1993\\n   R    R     OO  OO     B    B         :\\n   R     R      OO       BBBBB          :\\n\\n\\n\\n  My address }\\n    during   }    Hawthorns Hall, KEELE, Staffordshire, ST5 5AE. England.\\n  term-time. }\\n\\n\\n                            ________\\n                           /        \\\\ /\\n                          <  Jn3:16  X\\n                           \\\\________/ \\\\\\n\",\n          \"From: Alan.Olsen@p17.f40.n105.z1.fidonet.org (Alan Olsen)\\nSubject: Albert Sabin\\nLines: 275\\n\\n\\n\\nBR> From: wpr@atlanta.dg.com (Bill Rawlins)\\nBR> Newsgroups: alt.atheism\\nBR> Organization: DGSID, Atlanta, GA\\n\\nBR>        Since you have referred to the Messiah, I assume you\\nBR> are referring         to the New Testament.  Please detail\\nBR> your complaints or e-mail if         you don't want to post.\\nBR>  First-century Greek is well-known and        \\nBR> well-understood.  Have you considered Josephus, the Jewish\\nBR> Historian,         who also wrote of Jesus?  In addition,\\nBR> the four gospel accounts\\t\\t are very much in harmony.\\n\\nIt is also well known that the comments in Josephus relating to Jesus were\\ninserted (badly) by later editors.  As for the four gospels being in harmony\\non the issue of Jesus...  You know not of what you speak.  Here are a few\\ncontradictions starting with the trial and continuing through the assension.\\n\\n>The death of Judas after the betrayal of Jesus\\n\\nActs 1:18: \\\"Now this man (Judas) purchased a field with the reward of \\niniquity; and falling headlong, he burst asunder in the midst, and all his \\nbowels gushed out.\\\"\\n\\nMatt. 27:5-7: \\\"And he (Judas) cast down the pieces of silver in the temple, \\nand departed, and went and hanged himself.  And the chief priests...bought \\nwith them the potter's field.\\\"\\n\\n>What was Jesus' prediction regarding Peter's denial?\\n\\nBefore the cock crow - Matthew 26:34\\n\\nBefore the cock crow twice - Mark 14:30\\n\\n>How many times did the cock crow?\\n\\nMAR 14:72  And the second time the cock crew. And Peter called to mind  the \\nword  that  Jesus  said unto him, Before the cock crow twice, thou shalt deny\\nme thrice. And when he thought thereon, he wept.\\n\\nMAT 26:74  Then began he to curse and to swear,  saying,  I  know not the man.\\nAnd immediately the cock crew.\\nMAT 26:75  And Peter remembered the word  of  Jesus,  which  said unto him,\\nBefore the cock crow, thou shalt deny me thrice. And he went out, and wept\\nbitterly.\\n\\nLUK 22:60  And Peter said, Man, I know not what thou sayest.  And immediately,\\nwhile he yet spake, the cock crew.\\nLUK 22:61  And the Lord turned, and looked upon Peter. And  Peter remembered\\nthe word of the Lord, how he had said unto him, Before the cock crow, thou\\nshalt deny me thrice.\\n\\nJOH 13:38  Jesus answered him, Wilt thou lay down thy life for my sake? \\nVerily,\\n verily, I say unto thee, The cock shall not crow, still thou hast denied me\\nthrice.\\n\\nJOH 18:27  Peter then denied  again:  and  immediately  the  cock crew.\\n\\n>destruction of cities (what said was jeremiah was zechariah)\\n\\n(This is interesting because Matthew quotes a prophesy that was never made! \\nNot the only time he does this either...)\\n\\nMAT 27:9  Then was fulfilled that which was spoken by Jeremy  the prophet, \\nsaying,  And they took the thirty pieces of silver, the price of him that was\\nvalued, whom they of the children of Israel did value;\\n\\nzechariah 11:11-13\\n(nothing in Jeremiah remotely like)\\n\\nWhat was the color of the robe placed on Jesus during his trial?\\n\\nscarlet - Matthew 27:28\\n\\npurple John 19:2\\n\\n>The time of the Crucifiction\\n\\nMark says the third hour, or 9 a.m., but John says the sixth hour (noon) was\\nwhen the sentence was passed.\\n\\n>Inscription on the Cross\\n\\nMatthew  --  This is Jesus the king of the Jews\\nMark\\t --  The King of the Jews\\nLuke\\t --  This is the king of the Jews\\nJohn\\t --  Jesus of Nazareth the king of the Jews\\n\\n>What did they give him to drink?\\n\\nvinegar - Matthew 27:34\\n\\nwine with myrrh - Mark 15:23\\n\\n>Women at the Cross\\n\\nMatthew said many stood far off, including Mary Magdaline, Mary the mother of\\nJames, and the mother of Zebedee's children.  Mark and Luke speak of many far\\noff, and Mark includes Mary Magdeline and Mary the mother of James the less.\\nJohn says that Jesus's mother stood at the cross, along with her sister and\\nMary Magdalene.\\n\\n>Jesus' last words \\n\\nMatt.27:46,50: \\\"And about the ninth hour Jesus cried with a loud voice, \\nsaying, \\\"Eli, eli, lama sabachthani?\\\" that is to say, \\\"My God, my God, why\\nhast thou forsaken me?\\\"  ...Jesus, when he cried again with a loud voice,\\nyielded u the ghost.\\\"\\n\\nLuke23:46: \\\"And when Jesus had cried with a loud voice, he said, \\\"Father, unto\\n thy hands I commend my spirit:\\\" and having said thus, he gave up the ghost.\\\"\\n\\nJohn19:30: \\\"When Jesus therefore had received the vinegar, he said, \\\"It is \\nfinished:\\\" and he bowed his head, and gave up the ghost.\\\"\\n\\n>Events of the crucifiction\\n\\nMatthew says that the veil of the temple was rent, that there was an\\nearthquake, and that it was dark from the sixth to the ninth hour, that graves\\nopened and bodies of the saints arose and went into Jeruselem, appearing to\\nmany (beating Jesus to the resurection). Mark and Luke speak of darkness and\\nthe veil of the temple being rent but mention no earthquake or risen saints. \\nJohn is the only one who mentions Jesus's side being peirced.\\n\\n>Burial of Jesus\\n\\nMatthew says the Jews asked Pilate for a guard to prevent the body from being\\nstolen by the disciples, and for the tomb to be sealed. All of this was\\nsupposedly done, but the other gospels do not mention these precautions.\\n\\n>How long was Jesus in the tomb?\\nDepends where you look; Matthew 12:40 gives Jesus prophesying that he will\\nspend \\\"three days and three nights in the heart of the earth\\\", and Mark 10:34\\nhas \\\"after three days (meta treis emeras) he will rise again\\\". As far as I can\\nsee from a quick look, the prophecies have \\\"after three days\\\", but the\\npost-resurrection narratives have \\\"on the third day\\\".\\n\\n>Time of the Resurection\\n\\nMatthew says Sunday at dawn, Mark says the sun was rising, and John says it\\nwas dark.\\n\\n> Who was at the Empty Tomb?  Is it :\\n\\nMAT 28:1  In the end of the sabbath, as it began to  dawn  toward the first\\nday of the week, came Mary Magdalene and the other Mary to see the sepulchre.\\n\\nMAR 16:1  And when the sabbath was past, Mary Magdalene, and Mary the  mother \\nof  James, and Salome, had bought sweet spices, that they might come and\\nanoint him.\\n\\nJOH 20:1  The first day of the week cometh Mary Magdalene  early, when  it \\nwas  yet  dark, unto the sepulchre, and seeth the stone taken away from the\\nsepulchre.\\n\\n>Whom did they see at the tomb?\\n\\nMAT 28:2  And, behold, there was  a  great  earthquake:  for  the angel of the\\nLord descended from heaven, and came and rolled back the stone from the door,\\nand sat upon it.\\nMAT 28:3  His countenance was like  lightning,  and  his  raiment white as\\nsnow: MAT 28:4  And for fear of him the keepers did shake,  and  became as\\ndead men. MAT 28:5  And the angel answered and said unto  the  women,  Fear\\nnot ye: for I know that ye seek Jesus, which was crucified.\\n\\nMAR 16:5  And entering into the sepulchre, they saw a  young  man sitting  on \\nthe right side, clothed in a long white garment; and they were affrighted.\\n\\nLUK 24:4  And it came  to  pass,  as  they  were  much  perplexed thereabout,\\nbehold, two men stood by them in shining garments:\\n\\nJOH 20:12  And seeth two angels in white sitting, the one at  the head,  and \\nthe  other  at  the feet, where the body of Jesus had lain.\\n\\n>Belief that the disciples stole Jesus's body\\n\\nMatthew says the guard was paid to tell this story, but no other gospel makes\\nthis claim.\\n\\n>Appearences of the risen Jesus\\n\\nMatthew says an angel at the tomb told the two Marys and that Jesus also told\\nthem, to tell the disciples to meet him in Galilee.  The disciples then went\\nto a mountain previously agreed opon, and met Jesus there.  This was his only\\nappearance, except to the women at the tomb.  Matthew only devotes five verses\\nto the visit with the disciples.\\n\\nMark says that Jesus walked with two of the disciples in the country, and that\\nthey told the rest of the disciples, who refused to believe.  Later he\\nappeared to the 11 disciples at mealtime.\\n\\nLuke says two followers went, the same day that Jesus rose from the dead, to\\nEmmaus, a village eight miles from Jeruselem, and there Jesus jioned them but\\nwas unrecognised.  While they ate a meal together that evening, they finally\\nrecognised Jesus, whereopon he dissapeared.  Returning at once to Jeruselem,\\nthey told the\\ndisciples of their experience, and suddenly Jesus appeared among them,\\nfrightening them, as they thought he was a spirit.  Jesus then ate some fish\\nand honey and then preached to them.\\n\\nJohn says Jesus appeared to the disciples the evening of the day he arrose, in\\nJeruselem, where they were hiding.  He breathed the Holy Ghost opon them, but\\nThomas was not present and refused to believe. Eight days later Jesus joined\\nthe disciples again at the same place and this time he convinced Thomas.\\tOnce\\nmore Jesus made an\\nappearance to the disciples at the sea of Tiberias but again was not\\nrecognised.\\n After telling them to cast their netson the other side of the boat, Jesus\\nbecomes known to them and prepares bread and fish for them.  They all eat\\ntogether and converse.\\n\\nThe book of acts further adds to the confusion.  It says that Jesus showed\\nhimself to the apostles for a period of 40 days after his resurection (thus\\ncontradicting Matthew, Mark, Luke AND John) and spoke to them of things\\npertaining to the kingdom of God: \\\"And when he had spoken these things, while\\nthey beheld, he was taken up; and a cloud recieved him out of their sight. \\nAnd while they looked steadfastly toward heaven as he went up, two men stood\\nby them in white apparel: Which also said, Ye men of Galilee, why stand ye\\ngazing into heaven? This same Jesus, which is taken from you into heaven,\\nshall so comein like manneras ye have seen him go into heaven\\\" Acts 1:3-11\\n\\nPaul outdoes every other \\\"authority\\\" by saying that Jesus was seen by 500\\npersons between the time of the resurection and the\\nassension, although he does not say where.\\tHe also claims that he himself \\\"as\\none born out of due time\\\" also saw Jesus. 1 Cor 15:6-8.\\n\\n>The Ascension\\n\\nMatthew says nothing about it.\\tMark casually says that Jesus was recieved into\\nheaven after he was finished talking with the\\ndisciples in Jeruselem.  Luke says Jesus led the desciples to Bethany and that\\nwhile he blessed them, he was parted from them and carried up into heaven. \\nJohn says nothing about it.  Acts\\ncontradicts all of the above.  (See previous section)\\n\\n>When second coming?\\n\\nMAT 24:34  Verily I say unto you, This generation shall not pass, till all\\nthese things be fulfilled.\\n\\nMAR 13:30  Verily I say unto you, that this generation shall  not pass, till\\nall these things be done.\\n\\nLUK 21:32  Verily I say unto you, This generation shall not  pass away, till\\nall be fulfilled.\\n\\n1 thessalonians 4:15-18\\n\\n>How many apostles were in office between the resurection and ascention \\n1 Corinthians 15:5 (12)\\nMatthew 27:3-5 (minus one from 12)\\nActs 1:9-26 (Mathias not elected until after resurrection)\\nMAT 28:16  Then the eleven disciples went away into Galilee, into a mountain\\nwhere Jesus had appointed them.\\n\\n> ascend to heaven\\n\\t\\\"And Elijah went up by a whirlwind into heaven.\\\" (2 Kings 2:11)\\n\\n\\t\\\"No man hath ascended up to heaven but he that came down from heaven, \\t...\\nthe Son of Man.\\\" (John 3:13)\\n\\nAs you can see, there are a number of contradictions in the account of the\\ntrial, crucifiction and resurection of Jesus.  If these are good witnesses,\\nyou would think that they could get SOME of these important details right! \\n(In fact, I cannot find very many points on where they AGREE.  You would think\\nthat they could at least agree on some of the points they were supposedly\\nobserving!) Because of the fact that there is so much contradiction and error,\\nthe story of the resurection as presented cannot be taken as literal truth.\\n(Due to the nature of the story, I doubt if it should be taken as ANY sort of\\ntruth.)\\n\\n                   Alan\\n\\n\",\n          \"From: tgk@cs.toronto.edu (Todd Kelley)\\nSubject: Re: Faith and Dogma\\nOrganization: Department of Computer Science, University of Toronto\\nLines: 89\\n\\nmarshall@csugrad.cs.vt.edu (Kevin Marshall) <1r2eba$hsq@csugrad.cs.vt.edu>\\nwrote:\\n>I don't necessarily disagree with your assertion, but I disagree with\\n>your reasoning.  (Faith = Bad.  Dogma = Bad.  Religion -> (Faith ^ Dogma).\\n>Religion -> (Bad ^ Bad).  Religion -> Bad.)  Unfortunately, you never \\n>state why faith and dogma are dangerous.  \\n\\nFaith and dogma are dangerous because they cause people to act on\\nfaith alone, which by its nature is without justification.  That\\nis what I mean by the word ``faith'': belief without justification, or\\nbelief with arbitrary justification, or with emotional (irrational)\\njustification.\\n\\nFor example, when someone says that God exists, that they don't know\\nwhy they believe God exists, they can just feel it, that's faith.\\n\\nDogma is bad because it precludes positive change in belief based\\non new information, or increased mental faculty.\\n>\\n>So Christians are totally irrational?  Irrational with respect to their\\n>religion only?  What are you saying?  One's belief in a Christian God does\\n>not make one totally irrational.  I think I know what you were getting at,\\n>but I'd rather hear you expand on the subject.\\n\\nFaith and dogma are irrational.  The faith and dogma part of any religion\\nare responsible for the irrationality of the individuals.  I claim that\\nfaith and dogma are the quintessential part of any religion.  If that\\nmakes (the much overused in this context) Buddism a philosophy rather\\nthan a religion, I can live with that.  Science is not a religion,\\nbecause there is no faith nor dogma.\\n>\\n>>A philosopher cannot be a Christian because a philosopher can change his mind,\\n>>whereas a Christian cannot, due to the nature of faith and dogma present\\n>>in any religion.\\n>\\n>Again, this statement is too general.  A Christian is perfectly capable of\\n>being a philosopher, and absolutely capable of changing his/her mind.  Faith in\\n>God is a belief, and all beliefs may change.  Would you assert that atheists\\n>would make poor philosophers because they are predisposed to not believe in a\\n>God which, of course, may show unfair bias when studying, say, religion?\\n\\nHave you noticed that philosophers tend to be atheists?  If a philosopher\\nis not an atheist, s/he tends to be called a theologian.\\n\\nA Christian tends to consider Christianity sacred.  Christianity is\\na special set of beliefs, sanctioned by God himself, and therefore,\\nto conceive of changing those beliefs is to question the existence\\nof That Being Who Makes No Mistakes.  Faith comes into play.  Dogma\\ncomes into play.  ``The lord works in mysterious ways'' is an example\\nof faith being used to reconcile evidence that the beliefs are flawed.\\nSure, interpretations of what ``God said'' are changed to satisfy the\\nneeds of society, but when God says something, that's it.  It was said,\\nand that's that.  Since God said it, it is unflawed, even if the\\ninterpretations are flawed.\\n\\nScience, (as would be practiced by atheists) in contrast, has a\\nBUILT IN defence against faith and dogma.\\nA scientist holds sacred the idea that beliefs should change to\\nsuit whatever is the best information available at the time, AND,\\n*AND*, ****AND***, a scientist understands that any current beliefs\\nare deficient in some way.  The goal is to keep improving\\nthe beliefs.  The goal is to keep changing the beliefs to reflect\\nthe best information currently available.  That's the only rational\\nthing to do.  That's good philosophy.\\n\\nCan you see the difference?  Science views beliefs as being flawed,\\nand new information can be obtained to improve them.  (How many\\nscientists would claim to have complete and perfect understanding\\nof everything?  None---it would put them out of a job!)  Religion\\nviews its beliefs as being perfect, and the interpretations of\\nthose beliefs must be changed as new information is acquired which\\nconflicts with them.\\n>\\n>Please explain how \\\"just because\\\" thinking kills people.  (And please\\n>state more in your answer than \\\"Waco.\\\")\\n\\nIt's easier for someone to kill a person when s/he doesn't require\\na good rational justification of the killing.  I don't consider\\n``he's Jewish'', or ``he was born of Jewish parents'', or\\n``this document says he's Jewish'' to be good rational justification.\\n\\n>By the way, I wasn't aware mass suicide\\n>was a problem.  Waco and Jonestown were isolated incidents.  \\n>Mass suicides are far from common.\\n\\nClinton and the FBI would love for you to convince them of this.\\nIt would save the US taxpayer a lot of money if you could.\\n\\nTodd\\n\"\n        ],\n        \"semantic_type\": \"\",\n        \"description\": \"\"\n      }\n    },\n    {\n      \"column\": \"prediction\",\n      \"properties\": {\n        \"dtype\": \"number\",\n        \"std\": 0,\n        \"min\": 0,\n        \"max\": 1,\n        \"num_unique_values\": 2,\n        \"samples\": [\n          1,\n          0\n        ],\n        \"semantic_type\": \"\",\n        \"description\": \"\"\n      }\n    },\n    {\n      \"column\": \"true\",\n      \"properties\": {\n        \"dtype\": \"number\",\n        \"std\": 0,\n        \"min\": 0,\n        \"max\": 1,\n        \"num_unique_values\": 2,\n        \"samples\": [\n          0,\n          1\n        ],\n        \"semantic_type\": \"\",\n        \"description\": \"\"\n      }\n    }\n  ]\n}"
            }
          },
          "metadata": {},
          "execution_count": 28
        }
      ]
    },
    {
      "cell_type": "markdown",
      "metadata": {
        "id": "DRIRg2rufjPu"
      },
      "source": [
        "#References:  \n",
        "\n",
        "https://scikit-learn.org/stable/tutorial/text_analytics/working_with_text_data.html\n",
        "\n",
        "https://www.nltk.org/book/ch06.html\n",
        "\n",
        "search: Other online resources:\n",
        "\n",
        "https://towardsdatascience.com/setting-up-text-preprocessing-pipeline-using-scikit-learn-and-spacy-e09b9b76758f\n",
        "\n",
        "sentiment analysis scikit learn\n",
        "\n",
        "scikit learn or nltk + NLP techniques\n",
        "\n",
        "python + NLP techniques\n",
        "\n",
        "scikit learn logistic regression\n",
        "\n",
        "\n"
      ]
    }
  ]
}