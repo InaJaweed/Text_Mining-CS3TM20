{
  "nbformat": 4,
  "nbformat_minor": 0,
  "metadata": {
    "colab": {
      "provenance": [],
      "include_colab_link": true
    },
    "kernelspec": {
      "display_name": "Python 3",
      "name": "python3"
    }
  },
  "cells": [
    {
      "cell_type": "markdown",
      "metadata": {
        "id": "view-in-github",
        "colab_type": "text"
      },
      "source": [
        "<a href=\"https://colab.research.google.com/github/InaJaweed/Text_Mining-CS3TM20/blob/main/TextMineCW.ipynb\" target=\"_parent\"><img src=\"https://colab.research.google.com/assets/colab-badge.svg\" alt=\"Open In Colab\"/></a>"
      ]
    },
    {
      "cell_type": "markdown",
      "source": [
        "**Prior study (Codes in Week 5 folder）**:\n",
        "\n",
        "Please use this page as companion to understand the newsgroup data set.\n",
        "[Data Set](https://scikit-learn.org/stable/tutorial/text_analytics/working_with_text_data.html)\n",
        "\n",
        "You will also need to be familiar with some text processing commands：\n",
        "\n",
        "[Tf-idf](https://scikit-learn.org/stable/modules/generated/sklearn.feature_extraction.text.TfidfTransformer.html)\n",
        "\n",
        "[countvectorizer](https://scikit-learn.org/stable/modules/generated/sklearn.feature_extraction.text.CountVectorizer.html)\n"
      ],
      "metadata": {
        "id": "1ZVVMai8xRFX"
      }
    },
    {
      "cell_type": "code",
      "metadata": {
        "id": "yhgYu18FM-_L"
      },
      "source": [
        "from IPython import get_ipython\n",
        "get_ipython().magic('reset -sf')"
      ],
      "execution_count": 1,
      "outputs": []
    },
    {
      "cell_type": "markdown",
      "metadata": {
        "id": "QXdrc29D71MH"
      },
      "source": [
        "# **Steps outline**\n",
        "1. Download your data set by inputting your student number.\n",
        "2. Process your text data, extract features, convert them into vectors\n",
        "3. Modeling, train models on the data set (select model, tune different parameters)\n",
        "4. Process your text data, extract features, convert them into vectors\n",
        "5. Analysis and discussions"
      ]
    },
    {
      "cell_type": "markdown",
      "metadata": {
        "id": "934uDa63sRnp"
      },
      "source": [
        "# Step 1: Load Dataset\n"
      ]
    },
    {
      "cell_type": "markdown",
      "source": [
        "Prior study (Codes in Week 5 folder）:\n",
        "\n",
        "Please use this page as companion to understand  [**Newsgroup data set**](https://scikit-learn.org/stable/tutorial/text_analytics/working_with_text_data.html)\n"
      ],
      "metadata": {
        "id": "2k-V81t0z_NF"
      }
    },
    {
      "cell_type": "code",
      "metadata": {
        "id": "cxDjTTcDrtVl"
      },
      "source": [
        "import numpy as np\n",
        "import tensorflow as tf\n",
        "from tensorflow import keras\n",
        "import pandas as pd\n",
        "import numpy as np\n",
        "categories = ['alt.atheism', 'soc.religion.christian', 'comp.graphics', 'sci.med']\n",
        "from sklearn.datasets import fetch_20newsgroups\n",
        "twenty_train = fetch_20newsgroups(subset='train',  categories=categories, shuffle=True, random_state=42)\n",
        "twenty_test = fetch_20newsgroups(subset='test',  categories=categories, shuffle=True, random_state=42)"
      ],
      "execution_count": 2,
      "outputs": []
    },
    {
      "cell_type": "markdown",
      "metadata": {
        "id": "O8VrHduYC-kd"
      },
      "source": [
        "**This is how to identify which data set to use (Please copy  the following information in report front   page).**"
      ]
    },
    {
      "cell_type": "code",
      "metadata": {
        "colab": {
          "base_uri": "https://localhost:8080/"
        },
        "id": "gvU6i2KNHzC4",
        "outputId": "a0d27696-432b-49d6-8f9f-0cd8b270ca36"
      },
      "source": [
        "index=input('type your student number?')"
      ],
      "execution_count": 3,
      "outputs": [
        {
          "name": "stdout",
          "output_type": "stream",
          "text": [
            "type your student number?30020691\n"
          ]
        }
      ]
    },
    {
      "cell_type": "code",
      "source": [
        "x=divmod(int(index),4)\n",
        "yourdata1=x[1]\n",
        "y=divmod(int(index),3)\n",
        "yourdata2=y[1]\n",
        "\n",
        "print('This is your data set index ----> (', x[1], y[1], ')' )"
      ],
      "metadata": {
        "colab": {
          "base_uri": "https://localhost:8080/"
        },
        "id": "a8Gmf-HdGcWV",
        "outputId": "b8427df0-2440-4678-a949-8ab9789db5d7"
      },
      "execution_count": 4,
      "outputs": [
        {
          "output_type": "stream",
          "name": "stdout",
          "text": [
            "This is your data set index ----> ( 3 0 )\n"
          ]
        }
      ]
    },
    {
      "cell_type": "code",
      "metadata": {
        "colab": {
          "base_uri": "https://localhost:8080/"
        },
        "id": "HXPpVRSGAPM7",
        "outputId": "e351167f-c277-4efe-e4b7-e37475d47048"
      },
      "source": [
        "data1= twenty_train.target_names[x[1]]\n",
        "data2= twenty_train.target_names[y[1]]\n",
        "categories1=[data1,data2]\n",
        "print(categories1)"
      ],
      "execution_count": 5,
      "outputs": [
        {
          "output_type": "stream",
          "name": "stdout",
          "text": [
            "['soc.religion.christian', 'alt.atheism']\n"
          ]
        }
      ]
    },
    {
      "cell_type": "markdown",
      "metadata": {
        "id": "aNjBtO7-DOsu"
      },
      "source": [
        "**Your front page data information Ends here**"
      ]
    },
    {
      "cell_type": "markdown",
      "metadata": {
        "id": "v1jAHpjtaSPu"
      },
      "source": [
        "# Step 2 Process your text data, extract features"
      ]
    },
    {
      "cell_type": "markdown",
      "metadata": {
        "id": "El_vU9NocxVC"
      },
      "source": [
        "# 2.1 An example of preprocessing"
      ]
    },
    {
      "cell_type": "markdown",
      "metadata": {
        "id": "eDHwDyKzNirS"
      },
      "source": [
        "**An example is provided.**"
      ]
    },
    {
      "cell_type": "markdown",
      "source": [
        "Please pay attention  comment #replace ..., which means you need to change example text to your data set.\n",
        "Use google search for usages of  \"nltk tokenizer ”, \"nltk stemmer\", \"nltk pos tag\" to help your report writing."
      ],
      "metadata": {
        "id": "utJ6ap1bacK3"
      }
    },
    {
      "cell_type": "code",
      "metadata": {
        "colab": {
          "base_uri": "https://localhost:8080/"
        },
        "id": "wC3yT07PJnKp",
        "outputId": "272e04b7-2e10-43cc-c447-4d33ae49ff98"
      },
      "source": [
        "# write your own NLP precessing examples with  preprocessing techniques.\n",
        "\n",
        "# print(twenty_train.target_names[1])\n",
        "data1=twenty_train.data[1]\n",
        "print(data1)\n",
        "# please   replace 1 in bracket to other data sample and explore the code\n",
        "\n",
        "import nltk\n",
        "nltk.download('punkt')\n",
        "nltk.download('averaged_perceptron_tagger')\n",
        "nltk.download('wordnet')\n"
      ],
      "execution_count": 6,
      "outputs": [
        {
          "output_type": "stream",
          "name": "stdout",
          "text": [
            "From: ani@ms.uky.edu (Aniruddha B. Deglurkar)\n",
            "Subject: help: Splitting a trimming region along a mesh \n",
            "Organization: University Of Kentucky, Dept. of Math Sciences\n",
            "Lines: 28\n",
            "\n",
            "\n",
            "\n",
            "\tHi,\n",
            "\n",
            "\tI have a problem, I hope some of the 'gurus' can help me solve.\n",
            "\n",
            "\tBackground of the problem:\n",
            "\tI have a rectangular mesh in the uv domain, i.e  the mesh is a \n",
            "\tmapping of a 3d Bezier patch into 2d. The area in this domain\n",
            "\twhich is inside a trimming loop had to be rendered. The trimming\n",
            "\tloop is a set of 2d Bezier curve segments.\n",
            "\tFor the sake of notation: the mesh is made up of cells.\n",
            "\n",
            "\tMy problem is this :\n",
            "\tThe trimming area has to be split up into individual smaller\n",
            "\tcells bounded by the trimming curve segments. If a cell\n",
            "\tis wholly inside the area...then it is output as a whole ,\n",
            "\telse it is trivially rejected. \n",
            "\n",
            "\tDoes any body know how thiss can be done, or is there any algo. \n",
            "\tsomewhere for doing this.\n",
            "\n",
            "\tAny help would be appreciated.\n",
            "\n",
            "\tThanks, \n",
            "\tAni.\n",
            "-- \n",
            "To get irritated is human, to stay cool, divine.\n",
            "\n"
          ]
        },
        {
          "output_type": "stream",
          "name": "stderr",
          "text": [
            "[nltk_data] Downloading package punkt to /root/nltk_data...\n",
            "[nltk_data]   Unzipping tokenizers/punkt.zip.\n",
            "[nltk_data] Downloading package averaged_perceptron_tagger to\n",
            "[nltk_data]     /root/nltk_data...\n",
            "[nltk_data]   Unzipping taggers/averaged_perceptron_tagger.zip.\n",
            "[nltk_data] Downloading package wordnet to /root/nltk_data...\n"
          ]
        },
        {
          "output_type": "execute_result",
          "data": {
            "text/plain": [
              "True"
            ]
          },
          "metadata": {},
          "execution_count": 6
        }
      ]
    },
    {
      "cell_type": "code",
      "metadata": {
        "colab": {
          "base_uri": "https://localhost:8080/"
        },
        "outputId": "39493314-ccf8-459d-998f-5e3dec860e2d",
        "id": "cRHBOWMnAAWA"
      },
      "source": [
        "\n",
        "# tokenize: search: nltk tokenize\n",
        "example = \"This is an example sentence.\"\n",
        "\n",
        "from nltk.tokenize import word_tokenize\n",
        "example_tokenize =word_tokenize(example)\n",
        "example_tokenize= word_tokenize(data1) # replace example in bracket to dataset.\n",
        "print(\"-------------------------tokenize:\")\n",
        "print(example_tokenize)\n",
        "print(\"Token Qty:\",len(example_tokenize))"
      ],
      "execution_count": 7,
      "outputs": [
        {
          "output_type": "stream",
          "name": "stdout",
          "text": [
            "-------------------------tokenize:\n",
            "['From', ':', 'ani', '@', 'ms.uky.edu', '(', 'Aniruddha', 'B.', 'Deglurkar', ')', 'Subject', ':', 'help', ':', 'Splitting', 'a', 'trimming', 'region', 'along', 'a', 'mesh', 'Organization', ':', 'University', 'Of', 'Kentucky', ',', 'Dept', '.', 'of', 'Math', 'Sciences', 'Lines', ':', '28', 'Hi', ',', 'I', 'have', 'a', 'problem', ',', 'I', 'hope', 'some', 'of', 'the', \"'gurus\", \"'\", 'can', 'help', 'me', 'solve', '.', 'Background', 'of', 'the', 'problem', ':', 'I', 'have', 'a', 'rectangular', 'mesh', 'in', 'the', 'uv', 'domain', ',', 'i.e', 'the', 'mesh', 'is', 'a', 'mapping', 'of', 'a', '3d', 'Bezier', 'patch', 'into', '2d', '.', 'The', 'area', 'in', 'this', 'domain', 'which', 'is', 'inside', 'a', 'trimming', 'loop', 'had', 'to', 'be', 'rendered', '.', 'The', 'trimming', 'loop', 'is', 'a', 'set', 'of', '2d', 'Bezier', 'curve', 'segments', '.', 'For', 'the', 'sake', 'of', 'notation', ':', 'the', 'mesh', 'is', 'made', 'up', 'of', 'cells', '.', 'My', 'problem', 'is', 'this', ':', 'The', 'trimming', 'area', 'has', 'to', 'be', 'split', 'up', 'into', 'individual', 'smaller', 'cells', 'bounded', 'by', 'the', 'trimming', 'curve', 'segments', '.', 'If', 'a', 'cell', 'is', 'wholly', 'inside', 'the', 'area', '...', 'then', 'it', 'is', 'output', 'as', 'a', 'whole', ',', 'else', 'it', 'is', 'trivially', 'rejected', '.', 'Does', 'any', 'body', 'know', 'how', 'thiss', 'can', 'be', 'done', ',', 'or', 'is', 'there', 'any', 'algo', '.', 'somewhere', 'for', 'doing', 'this', '.', 'Any', 'help', 'would', 'be', 'appreciated', '.', 'Thanks', ',', 'Ani', '.', '--', 'To', 'get', 'irritated', 'is', 'human', ',', 'to', 'stay', 'cool', ',', 'divine', '.']\n",
            "Token Qty: 216\n"
          ]
        }
      ]
    },
    {
      "cell_type": "code",
      "metadata": {
        "colab": {
          "base_uri": "https://localhost:8080/"
        },
        "outputId": "5d1d686c-dfa7-4cdf-eacb-0b391b27196f",
        "id": "kAaaP86_Ahmo"
      },
      "source": [
        "# stemmer: search: nltk stemmer\n",
        "stemmer = nltk.stem.PorterStemmer()\n",
        "example_stem = stemmer.stem(data1)  # replace .....\n",
        "print(\"-------------------------stem:\")\n",
        "print(example_stem)"
      ],
      "execution_count": 8,
      "outputs": [
        {
          "output_type": "stream",
          "name": "stdout",
          "text": [
            "-------------------------stem:\n",
            "from: ani@ms.uky.edu (aniruddha b. deglurkar)\n",
            "subject: help: splitting a trimming region along a mesh \n",
            "organization: university of kentucky, dept. of math sciences\n",
            "lines: 28\n",
            "\n",
            "\n",
            "\n",
            "\thi,\n",
            "\n",
            "\ti have a problem, i hope some of the 'gurus' can help me solve.\n",
            "\n",
            "\tbackground of the problem:\n",
            "\ti have a rectangular mesh in the uv domain, i.e  the mesh is a \n",
            "\tmapping of a 3d bezier patch into 2d. the area in this domain\n",
            "\twhich is inside a trimming loop had to be rendered. the trimming\n",
            "\tloop is a set of 2d bezier curve segments.\n",
            "\tfor the sake of notation: the mesh is made up of cells.\n",
            "\n",
            "\tmy problem is this :\n",
            "\tthe trimming area has to be split up into individual smaller\n",
            "\tcells bounded by the trimming curve segments. if a cell\n",
            "\tis wholly inside the area...then it is output as a whole ,\n",
            "\telse it is trivially rejected. \n",
            "\n",
            "\tdoes any body know how thiss can be done, or is there any algo. \n",
            "\tsomewhere for doing this.\n",
            "\n",
            "\tany help would be appreciated.\n",
            "\n",
            "\tthanks, \n",
            "\tani.\n",
            "-- \n",
            "to get irritated is human, to stay cool, divine.\n",
            "\n"
          ]
        }
      ]
    },
    {
      "cell_type": "code",
      "source": [
        "# pos_taging: search: nltk pos tagging example\n",
        "example_posTag=nltk.pos_tag(example_tokenize)\n",
        "print(\"-------------------------pos_taging:\")\n",
        "print(example_posTag)"
      ],
      "metadata": {
        "id": "iL4Vr-m0ApLu",
        "colab": {
          "base_uri": "https://localhost:8080/"
        },
        "outputId": "1dc84a04-0e12-48f2-88ad-5f852e68a1c0"
      },
      "execution_count": 9,
      "outputs": [
        {
          "output_type": "stream",
          "name": "stdout",
          "text": [
            "-------------------------pos_taging:\n",
            "[('From', 'IN'), (':', ':'), ('ani', 'NN'), ('@', 'NN'), ('ms.uky.edu', 'NN'), ('(', '('), ('Aniruddha', 'NNP'), ('B.', 'NNP'), ('Deglurkar', 'NNP'), (')', ')'), ('Subject', 'NN'), (':', ':'), ('help', 'NN'), (':', ':'), ('Splitting', 'VBG'), ('a', 'DT'), ('trimming', 'JJ'), ('region', 'NN'), ('along', 'IN'), ('a', 'DT'), ('mesh', 'JJ'), ('Organization', 'NN'), (':', ':'), ('University', 'NNP'), ('Of', 'IN'), ('Kentucky', 'NNP'), (',', ','), ('Dept', 'NNP'), ('.', '.'), ('of', 'IN'), ('Math', 'NNP'), ('Sciences', 'NNPS'), ('Lines', 'NNPS'), (':', ':'), ('28', 'CD'), ('Hi', 'NNP'), (',', ','), ('I', 'PRP'), ('have', 'VBP'), ('a', 'DT'), ('problem', 'NN'), (',', ','), ('I', 'PRP'), ('hope', 'VBP'), ('some', 'DT'), ('of', 'IN'), ('the', 'DT'), (\"'gurus\", 'NNP'), (\"'\", 'POS'), ('can', 'MD'), ('help', 'VB'), ('me', 'PRP'), ('solve', 'VB'), ('.', '.'), ('Background', 'NNP'), ('of', 'IN'), ('the', 'DT'), ('problem', 'NN'), (':', ':'), ('I', 'PRP'), ('have', 'VBP'), ('a', 'DT'), ('rectangular', 'JJ'), ('mesh', 'NN'), ('in', 'IN'), ('the', 'DT'), ('uv', 'JJ'), ('domain', 'NN'), (',', ','), ('i.e', 'VBP'), ('the', 'DT'), ('mesh', 'NN'), ('is', 'VBZ'), ('a', 'DT'), ('mapping', 'NN'), ('of', 'IN'), ('a', 'DT'), ('3d', 'CD'), ('Bezier', 'NNP'), ('patch', 'NN'), ('into', 'IN'), ('2d', 'CD'), ('.', '.'), ('The', 'DT'), ('area', 'NN'), ('in', 'IN'), ('this', 'DT'), ('domain', 'NN'), ('which', 'WDT'), ('is', 'VBZ'), ('inside', 'IN'), ('a', 'DT'), ('trimming', 'NN'), ('loop', 'NN'), ('had', 'VBD'), ('to', 'TO'), ('be', 'VB'), ('rendered', 'VBN'), ('.', '.'), ('The', 'DT'), ('trimming', 'VBG'), ('loop', 'NN'), ('is', 'VBZ'), ('a', 'DT'), ('set', 'NN'), ('of', 'IN'), ('2d', 'CD'), ('Bezier', 'NNP'), ('curve', 'NN'), ('segments', 'NNS'), ('.', '.'), ('For', 'IN'), ('the', 'DT'), ('sake', 'NN'), ('of', 'IN'), ('notation', 'NN'), (':', ':'), ('the', 'DT'), ('mesh', 'NN'), ('is', 'VBZ'), ('made', 'VBN'), ('up', 'IN'), ('of', 'IN'), ('cells', 'NNS'), ('.', '.'), ('My', 'PRP$'), ('problem', 'NN'), ('is', 'VBZ'), ('this', 'DT'), (':', ':'), ('The', 'DT'), ('trimming', 'VBG'), ('area', 'NN'), ('has', 'VBZ'), ('to', 'TO'), ('be', 'VB'), ('split', 'VBN'), ('up', 'RP'), ('into', 'IN'), ('individual', 'JJ'), ('smaller', 'JJR'), ('cells', 'NNS'), ('bounded', 'VBN'), ('by', 'IN'), ('the', 'DT'), ('trimming', 'VBG'), ('curve', 'NN'), ('segments', 'NNS'), ('.', '.'), ('If', 'IN'), ('a', 'DT'), ('cell', 'NN'), ('is', 'VBZ'), ('wholly', 'RB'), ('inside', 'IN'), ('the', 'DT'), ('area', 'NN'), ('...', ':'), ('then', 'RB'), ('it', 'PRP'), ('is', 'VBZ'), ('output', 'NN'), ('as', 'IN'), ('a', 'DT'), ('whole', 'NN'), (',', ','), ('else', 'VB'), ('it', 'PRP'), ('is', 'VBZ'), ('trivially', 'RB'), ('rejected', 'VBN'), ('.', '.'), ('Does', 'VBZ'), ('any', 'DT'), ('body', 'NN'), ('know', 'VB'), ('how', 'WRB'), ('thiss', 'JJ'), ('can', 'MD'), ('be', 'VB'), ('done', 'VBN'), (',', ','), ('or', 'CC'), ('is', 'VBZ'), ('there', 'RB'), ('any', 'DT'), ('algo', 'NN'), ('.', '.'), ('somewhere', 'RB'), ('for', 'IN'), ('doing', 'VBG'), ('this', 'DT'), ('.', '.'), ('Any', 'DT'), ('help', 'NN'), ('would', 'MD'), ('be', 'VB'), ('appreciated', 'VBN'), ('.', '.'), ('Thanks', 'NNS'), (',', ','), ('Ani', 'NNP'), ('.', '.'), ('--', ':'), ('To', 'TO'), ('get', 'VB'), ('irritated', 'JJ'), ('is', 'VBZ'), ('human', 'JJ'), (',', ','), ('to', 'TO'), ('stay', 'VB'), ('cool', 'JJ'), (',', ','), ('divine', 'NN'), ('.', '.')]\n"
          ]
        }
      ]
    },
    {
      "cell_type": "code",
      "metadata": {
        "colab": {
          "base_uri": "https://localhost:8080/"
        },
        "outputId": "ba23c328-a993-4869-8c47-9d56287b8a49",
        "id": "O-n6AAbc_-_5"
      },
      "source": [
        " # consituency parsing, chunking\n",
        "grammar = \"NP: {<DT>?<JJ>*<NN>}\"\n",
        "cp = nltk.RegexpParser(grammar)\n",
        "result = cp.parse(example_posTag)\n",
        "print(result)"
      ],
      "execution_count": 10,
      "outputs": [
        {
          "output_type": "stream",
          "name": "stdout",
          "text": [
            "(S\n",
            "  From/IN\n",
            "  :/:\n",
            "  (NP ani/NN)\n",
            "  (NP @/NN)\n",
            "  (NP ms.uky.edu/NN)\n",
            "  (/(\n",
            "  Aniruddha/NNP\n",
            "  B./NNP\n",
            "  Deglurkar/NNP\n",
            "  )/)\n",
            "  (NP Subject/NN)\n",
            "  :/:\n",
            "  (NP help/NN)\n",
            "  :/:\n",
            "  Splitting/VBG\n",
            "  (NP a/DT trimming/JJ region/NN)\n",
            "  along/IN\n",
            "  (NP a/DT mesh/JJ Organization/NN)\n",
            "  :/:\n",
            "  University/NNP\n",
            "  Of/IN\n",
            "  Kentucky/NNP\n",
            "  ,/,\n",
            "  Dept/NNP\n",
            "  ./.\n",
            "  of/IN\n",
            "  Math/NNP\n",
            "  Sciences/NNPS\n",
            "  Lines/NNPS\n",
            "  :/:\n",
            "  28/CD\n",
            "  Hi/NNP\n",
            "  ,/,\n",
            "  I/PRP\n",
            "  have/VBP\n",
            "  (NP a/DT problem/NN)\n",
            "  ,/,\n",
            "  I/PRP\n",
            "  hope/VBP\n",
            "  some/DT\n",
            "  of/IN\n",
            "  the/DT\n",
            "  'gurus/NNP\n",
            "  '/POS\n",
            "  can/MD\n",
            "  help/VB\n",
            "  me/PRP\n",
            "  solve/VB\n",
            "  ./.\n",
            "  Background/NNP\n",
            "  of/IN\n",
            "  (NP the/DT problem/NN)\n",
            "  :/:\n",
            "  I/PRP\n",
            "  have/VBP\n",
            "  (NP a/DT rectangular/JJ mesh/NN)\n",
            "  in/IN\n",
            "  (NP the/DT uv/JJ domain/NN)\n",
            "  ,/,\n",
            "  i.e/VBP\n",
            "  (NP the/DT mesh/NN)\n",
            "  is/VBZ\n",
            "  (NP a/DT mapping/NN)\n",
            "  of/IN\n",
            "  a/DT\n",
            "  3d/CD\n",
            "  Bezier/NNP\n",
            "  (NP patch/NN)\n",
            "  into/IN\n",
            "  2d/CD\n",
            "  ./.\n",
            "  (NP The/DT area/NN)\n",
            "  in/IN\n",
            "  (NP this/DT domain/NN)\n",
            "  which/WDT\n",
            "  is/VBZ\n",
            "  inside/IN\n",
            "  (NP a/DT trimming/NN)\n",
            "  (NP loop/NN)\n",
            "  had/VBD\n",
            "  to/TO\n",
            "  be/VB\n",
            "  rendered/VBN\n",
            "  ./.\n",
            "  The/DT\n",
            "  trimming/VBG\n",
            "  (NP loop/NN)\n",
            "  is/VBZ\n",
            "  (NP a/DT set/NN)\n",
            "  of/IN\n",
            "  2d/CD\n",
            "  Bezier/NNP\n",
            "  (NP curve/NN)\n",
            "  segments/NNS\n",
            "  ./.\n",
            "  For/IN\n",
            "  (NP the/DT sake/NN)\n",
            "  of/IN\n",
            "  (NP notation/NN)\n",
            "  :/:\n",
            "  (NP the/DT mesh/NN)\n",
            "  is/VBZ\n",
            "  made/VBN\n",
            "  up/IN\n",
            "  of/IN\n",
            "  cells/NNS\n",
            "  ./.\n",
            "  My/PRP$\n",
            "  (NP problem/NN)\n",
            "  is/VBZ\n",
            "  this/DT\n",
            "  :/:\n",
            "  The/DT\n",
            "  trimming/VBG\n",
            "  (NP area/NN)\n",
            "  has/VBZ\n",
            "  to/TO\n",
            "  be/VB\n",
            "  split/VBN\n",
            "  up/RP\n",
            "  into/IN\n",
            "  individual/JJ\n",
            "  smaller/JJR\n",
            "  cells/NNS\n",
            "  bounded/VBN\n",
            "  by/IN\n",
            "  the/DT\n",
            "  trimming/VBG\n",
            "  (NP curve/NN)\n",
            "  segments/NNS\n",
            "  ./.\n",
            "  If/IN\n",
            "  (NP a/DT cell/NN)\n",
            "  is/VBZ\n",
            "  wholly/RB\n",
            "  inside/IN\n",
            "  (NP the/DT area/NN)\n",
            "  .../:\n",
            "  then/RB\n",
            "  it/PRP\n",
            "  is/VBZ\n",
            "  (NP output/NN)\n",
            "  as/IN\n",
            "  (NP a/DT whole/NN)\n",
            "  ,/,\n",
            "  else/VB\n",
            "  it/PRP\n",
            "  is/VBZ\n",
            "  trivially/RB\n",
            "  rejected/VBN\n",
            "  ./.\n",
            "  Does/VBZ\n",
            "  (NP any/DT body/NN)\n",
            "  know/VB\n",
            "  how/WRB\n",
            "  thiss/JJ\n",
            "  can/MD\n",
            "  be/VB\n",
            "  done/VBN\n",
            "  ,/,\n",
            "  or/CC\n",
            "  is/VBZ\n",
            "  there/RB\n",
            "  (NP any/DT algo/NN)\n",
            "  ./.\n",
            "  somewhere/RB\n",
            "  for/IN\n",
            "  doing/VBG\n",
            "  this/DT\n",
            "  ./.\n",
            "  (NP Any/DT help/NN)\n",
            "  would/MD\n",
            "  be/VB\n",
            "  appreciated/VBN\n",
            "  ./.\n",
            "  Thanks/NNS\n",
            "  ,/,\n",
            "  Ani/NNP\n",
            "  ./.\n",
            "  --/:\n",
            "  To/TO\n",
            "  get/VB\n",
            "  irritated/JJ\n",
            "  is/VBZ\n",
            "  human/JJ\n",
            "  ,/,\n",
            "  to/TO\n",
            "  stay/VB\n",
            "  cool/JJ\n",
            "  ,/,\n",
            "  (NP divine/NN)\n",
            "  ./.)\n"
          ]
        }
      ]
    },
    {
      "cell_type": "markdown",
      "metadata": {
        "id": "c7VpnVNpKuUt"
      },
      "source": [
        "#2.2 NLP Preprocesssing"
      ]
    },
    {
      "cell_type": "markdown",
      "metadata": {
        "id": "0hmXyhqwOaUQ"
      },
      "source": [
        "**Some preprocessing are provided for convenience. Please include why NLP preprocessing is in your report. Explain what techniques have been experimented in your report.**"
      ]
    },
    {
      "cell_type": "code",
      "metadata": {
        "colab": {
          "base_uri": "https://localhost:8080/"
        },
        "id": "B8u5y9adK3tc",
        "outputId": "74a78820-10e6-4017-99eb-b4b4e1cbe29b"
      },
      "source": [
        "import nltk\n",
        "import re\n",
        "from nltk.tokenize import sent_tokenize, word_tokenize\n",
        "nltk.download('stopwords')\n",
        "nltk.download('punkt')\n",
        "nltk.download('averaged_perceptron_tagger')\n",
        "from tqdm import tqdm\n",
        "from nltk.corpus import stopwords\n",
        "stopwordEn = stopwords.words('english')\n",
        "from nltk.corpus import wordnet\n",
        "nltk.download('wordnet')\n",
        "from nltk.stem.snowball import SnowballStemmer\n",
        "stemmer = SnowballStemmer(\"english\", ignore_stopwords=True)\n",
        "\n",
        "def lemmaWord(word):\n",
        "    lemma = wordnet.morphy(word)\n",
        "    if lemma is not None:\n",
        "        return lemma\n",
        "    else:\n",
        "        return word\n",
        "\n",
        "def stemWord(word):\n",
        "    stem = stemmer.stem(word)\n",
        "    if stem is not None:\n",
        "        return stem\n",
        "    else:\n",
        "        return word\n",
        "\n",
        "def processText(text,lemma=False, gram=1, rmStop=True): # default remove stop words\n",
        "    text = re.sub(r'(https|http)?:\\/\\/(\\w|\\.|\\/|\\?|\\=|\\&|\\%)*\\b|@\\w+|#', '', text, flags=re.MULTILINE) #delete URL, #hashtag# , and @xxx\n",
        "    tokens = word_tokenize(text)\n",
        "    whitelist = [\"n't\", \"not\", \"no\"]\n",
        "    new_tokens = []\n",
        "    stoplist = stopwordEn if rmStop else []\n",
        "    for i in tokens:\n",
        "      i = i.lower()\n",
        "      if i.isalpha() and (i not in stoplist or i in whitelist):  #i not in ['.',',',';']  and (...)\n",
        "        if lemma: i = lemmaWord(i)\n",
        "        new_tokens.append(i)\n",
        "    del tokens\n",
        "    # tokens = [lemmaWord(i.lower()) if lemma else i.lower() for i in tokens if (i.lower() not in stoplist or i.lower() in whitelist) and i.isalpha()]\n",
        "    if gram<=1:\n",
        "        return new_tokens\n",
        "    else:\n",
        "        return [' '.join(i) for i in nltk.ngrams(new_tokens, gram)]\n",
        "\n"
      ],
      "execution_count": 11,
      "outputs": [
        {
          "output_type": "stream",
          "name": "stderr",
          "text": [
            "[nltk_data] Downloading package stopwords to /root/nltk_data...\n",
            "[nltk_data]   Unzipping corpora/stopwords.zip.\n",
            "[nltk_data] Downloading package punkt to /root/nltk_data...\n",
            "[nltk_data]   Package punkt is already up-to-date!\n",
            "[nltk_data] Downloading package averaged_perceptron_tagger to\n",
            "[nltk_data]     /root/nltk_data...\n",
            "[nltk_data]   Package averaged_perceptron_tagger is already up-to-\n",
            "[nltk_data]       date!\n",
            "[nltk_data] Downloading package wordnet to /root/nltk_data...\n",
            "[nltk_data]   Package wordnet is already up-to-date!\n"
          ]
        }
      ]
    },
    {
      "cell_type": "code",
      "metadata": {
        "id": "YKFoZaWSVrnq"
      },
      "source": [
        "def getTags(text):\n",
        "  token = word_tokenize(text)\n",
        "  token = [l.lower() for l in token]\n",
        "  train_tags = nltk.pos_tag(token)\n",
        "  return [i[1] for i in train_tags]\n"
      ],
      "execution_count": 12,
      "outputs": []
    },
    {
      "cell_type": "code",
      "metadata": {
        "colab": {
          "base_uri": "https://localhost:8080/"
        },
        "id": "U8mwYOcFcS02",
        "outputId": "50219666-076f-4855-98d2-834846777e3b"
      },
      "source": [
        "print(processText(data1))"
      ],
      "execution_count": 13,
      "outputs": [
        {
          "output_type": "stream",
          "name": "stdout",
          "text": [
            "['aniruddha', 'deglurkar', 'subject', 'help', 'splitting', 'trimming', 'region', 'along', 'mesh', 'organization', 'university', 'kentucky', 'dept', 'math', 'sciences', 'lines', 'hi', 'problem', 'hope', 'help', 'solve', 'background', 'problem', 'rectangular', 'mesh', 'uv', 'domain', 'mesh', 'mapping', 'bezier', 'patch', 'area', 'domain', 'inside', 'trimming', 'loop', 'rendered', 'trimming', 'loop', 'set', 'bezier', 'curve', 'segments', 'sake', 'notation', 'mesh', 'made', 'cells', 'problem', 'trimming', 'area', 'split', 'individual', 'smaller', 'cells', 'bounded', 'trimming', 'curve', 'segments', 'cell', 'wholly', 'inside', 'area', 'output', 'whole', 'else', 'trivially', 'rejected', 'body', 'know', 'thiss', 'done', 'algo', 'somewhere', 'help', 'would', 'appreciated', 'thanks', 'ani', 'get', 'irritated', 'human', 'stay', 'cool', 'divine']\n"
          ]
        }
      ]
    },
    {
      "cell_type": "code",
      "metadata": {
        "colab": {
          "base_uri": "https://localhost:8080/"
        },
        "id": "-ZRqySa8cbr1",
        "outputId": "072fe3f5-0369-4937-8413-63a643b8d711"
      },
      "source": [
        "print(getTags(data1))"
      ],
      "execution_count": 14,
      "outputs": [
        {
          "output_type": "stream",
          "name": "stdout",
          "text": [
            "['IN', ':', 'NN', 'NN', 'NN', '(', 'JJ', 'NN', 'NN', ')', 'NN', ':', 'NN', ':', 'VBG', 'DT', 'JJ', 'NN', 'IN', 'DT', 'JJ', 'NN', ':', 'NN', 'IN', 'NN', ',', 'NN', '.', 'IN', 'NN', 'NNS', 'NNS', ':', 'CD', 'NN', ',', 'NN', 'VBP', 'DT', 'NN', ',', 'NN', 'VBP', 'DT', 'IN', 'DT', 'NNP', 'POS', 'MD', 'VB', 'PRP', 'VB', '.', 'NN', 'IN', 'DT', 'NN', ':', 'NN', 'VBP', 'DT', 'JJ', 'NN', 'IN', 'DT', 'JJ', 'NN', ',', 'VBP', 'DT', 'NN', 'VBZ', 'DT', 'NN', 'IN', 'DT', 'CD', 'NN', 'NN', 'IN', 'CD', '.', 'DT', 'NN', 'IN', 'DT', 'NN', 'WDT', 'VBZ', 'IN', 'DT', 'NN', 'NN', 'VBD', 'TO', 'VB', 'VBN', '.', 'DT', 'VBG', 'NN', 'VBZ', 'DT', 'NN', 'IN', 'CD', 'NN', 'NN', 'NNS', '.', 'IN', 'DT', 'NN', 'IN', 'NN', ':', 'DT', 'NN', 'VBZ', 'VBN', 'IN', 'IN', 'NNS', '.', 'PRP$', 'NN', 'VBZ', 'DT', ':', 'DT', 'VBG', 'NN', 'VBZ', 'TO', 'VB', 'VBN', 'RP', 'IN', 'JJ', 'JJR', 'NNS', 'VBN', 'IN', 'DT', 'VBG', 'NN', 'NNS', '.', 'IN', 'DT', 'NN', 'VBZ', 'RB', 'IN', 'DT', 'NN', ':', 'RB', 'PRP', 'VBZ', 'NN', 'IN', 'DT', 'NN', ',', 'VB', 'PRP', 'VBZ', 'RB', 'VBN', '.', 'VBZ', 'DT', 'NN', 'VB', 'WRB', 'JJ', 'MD', 'VB', 'VBN', ',', 'CC', 'VBZ', 'RB', 'DT', 'NN', '.', 'RB', 'IN', 'VBG', 'DT', '.', 'DT', 'NN', 'MD', 'VB', 'VBN', '.', 'NNS', ',', 'NN', '.', ':', 'TO', 'VB', 'JJ', 'VBZ', 'JJ', ',', 'TO', 'VB', 'JJ', ',', 'NN', '.']\n"
          ]
        }
      ]
    },
    {
      "cell_type": "code",
      "source": [
        "print(data1)"
      ],
      "metadata": {
        "colab": {
          "base_uri": "https://localhost:8080/"
        },
        "id": "JpwH1YQa9ujr",
        "outputId": "d6d54215-57cc-4356-fb1f-2f876c886076"
      },
      "execution_count": 15,
      "outputs": [
        {
          "output_type": "stream",
          "name": "stdout",
          "text": [
            "From: ani@ms.uky.edu (Aniruddha B. Deglurkar)\n",
            "Subject: help: Splitting a trimming region along a mesh \n",
            "Organization: University Of Kentucky, Dept. of Math Sciences\n",
            "Lines: 28\n",
            "\n",
            "\n",
            "\n",
            "\tHi,\n",
            "\n",
            "\tI have a problem, I hope some of the 'gurus' can help me solve.\n",
            "\n",
            "\tBackground of the problem:\n",
            "\tI have a rectangular mesh in the uv domain, i.e  the mesh is a \n",
            "\tmapping of a 3d Bezier patch into 2d. The area in this domain\n",
            "\twhich is inside a trimming loop had to be rendered. The trimming\n",
            "\tloop is a set of 2d Bezier curve segments.\n",
            "\tFor the sake of notation: the mesh is made up of cells.\n",
            "\n",
            "\tMy problem is this :\n",
            "\tThe trimming area has to be split up into individual smaller\n",
            "\tcells bounded by the trimming curve segments. If a cell\n",
            "\tis wholly inside the area...then it is output as a whole ,\n",
            "\telse it is trivially rejected. \n",
            "\n",
            "\tDoes any body know how thiss can be done, or is there any algo. \n",
            "\tsomewhere for doing this.\n",
            "\n",
            "\tAny help would be appreciated.\n",
            "\n",
            "\tThanks, \n",
            "\tAni.\n",
            "-- \n",
            "To get irritated is human, to stay cool, divine.\n",
            "\n"
          ]
        }
      ]
    },
    {
      "cell_type": "markdown",
      "metadata": {
        "id": "44xTvpLa_UC9"
      },
      "source": [
        "# Step 3: Build a Pipeline"
      ]
    },
    {
      "cell_type": "markdown",
      "metadata": {
        "id": "7g5g93owSogu"
      },
      "source": [
        "**Modify the block code below to your choice of classifier [link text](https://www.nltk.org/book/ch06.html)"
      ]
    },
    {
      "cell_type": "markdown",
      "metadata": {
        "id": "lGs1A8S1TMTi"
      },
      "source": []
    },
    {
      "cell_type": "code",
      "metadata": {
        "colab": {
          "base_uri": "https://localhost:8080/"
        },
        "id": "i9HMKvgGMHPB",
        "outputId": "fd1b4a2e-c286-4ce7-fe92-4bc766166a0e"
      },
      "source": [
        "print(categories1)\n"
      ],
      "execution_count": 28,
      "outputs": [
        {
          "output_type": "stream",
          "name": "stdout",
          "text": [
            "['soc.religion.christian', 'alt.atheism']\n"
          ]
        }
      ]
    },
    {
      "cell_type": "markdown",
      "source": [
        "Without modification, the code will output all four classes.\n",
        "\n",
        "\n",
        "I included some commented codes in places where you may use to change to two class data sets   from your student number, and use logistic model.\n",
        "Your data sets can be obtained as twenty_train1, twenty_test1. All  data set names can be adjusted to get it right."
      ],
      "metadata": {
        "id": "Yl4relrvUjHt"
      }
    },
    {
      "cell_type": "code",
      "metadata": {
        "id": "9PDFkEEiL1GQ",
        "colab": {
          "base_uri": "https://localhost:8080/"
        },
        "outputId": "ed4de56f-ed4e-4c77-ab06-73a70fd8702f"
      },
      "source": [
        "twenty_train1 = fetch_20newsgroups(subset='train',  categories=categories1, shuffle=True, random_state=42)\n",
        "twenty_test1 = fetch_20newsgroups(subset='test',  categories=categories1, shuffle=True, random_state=42)\n",
        "\n",
        "for name in twenty_test1.target_names:\n",
        "  print(name)\n",
        "print(twenty_test1.target_names[0])\n",
        "print(len(twenty_test1.data))\n",
        "print(len(twenty_train1.data))"
      ],
      "execution_count": 29,
      "outputs": [
        {
          "output_type": "stream",
          "name": "stdout",
          "text": [
            "alt.atheism\n",
            "soc.religion.christian\n",
            "alt.atheism\n",
            "717\n",
            "1079\n"
          ]
        }
      ]
    },
    {
      "cell_type": "code",
      "source": [
        "twenty_train1 = fetch_20newsgroups(subset='train', categories=categories1, shuffle=True, random_state=42)\n",
        "twenty_test1 = fetch_20newsgroups(subset='test', categories=categories1, shuffle=True, random_state=42)\n",
        "\n",
        "# Count the number of instances for each class in the training set\n",
        "train_class_counts = {}\n",
        "for label in twenty_train1.target:\n",
        "    if label not in train_class_counts:\n",
        "        train_class_counts[label] = 0\n",
        "    train_class_counts[label] += 1\n",
        "\n",
        "# Count the number of instances for each class in the test set\n",
        "test_class_counts = {}\n",
        "for label in twenty_test1.target:\n",
        "    if label not in test_class_counts:\n",
        "        test_class_counts[label] = 0\n",
        "    test_class_counts[label] += 1\n",
        "\n",
        "# Print the class counts\n",
        "print(\"Training set class counts:\")\n",
        "for label, count in train_class_counts.items():\n",
        "    print(f\"{twenty_train1.target_names[label]}: {count}\")\n",
        "\n",
        "print(\"\\nTest set class counts:\")\n",
        "for label, count in test_class_counts.items():\n",
        "    print(f\"{twenty_test1.target_names[label]}: {count}\")"
      ],
      "metadata": {
        "colab": {
          "base_uri": "https://localhost:8080/"
        },
        "id": "Y1IMag8k-slE",
        "outputId": "b15b3319-adec-4748-97c1-8f95c40e48c0"
      },
      "execution_count": 30,
      "outputs": [
        {
          "output_type": "stream",
          "name": "stdout",
          "text": [
            "Training set class counts:\n",
            "soc.religion.christian: 599\n",
            "alt.atheism: 480\n",
            "\n",
            "Test set class counts:\n",
            "soc.religion.christian: 398\n",
            "alt.atheism: 319\n"
          ]
        }
      ]
    },
    {
      "cell_type": "code",
      "source": [
        "from sklearn.pipeline import Pipeline\n",
        "from sklearn.feature_extraction.text import CountVectorizer\n",
        "from sklearn.feature_extraction.text import TfidfTransformer\n",
        "from sklearn.linear_model import SGDClassifier, LogisticRegression\n",
        "\n",
        "text_clf = Pipeline([\n",
        "    ('vect', CountVectorizer(binary=True,analyzer=processText)),\n",
        "    #('vect', CountVectorizer(binary=False,analyzer=processText))\n",
        "    #('vect', CountVectorizer(binary=False,analyzer=getTags)) #preprocessing task\n",
        "    ('tfidf', TfidfTransformer(use_idf=True)), #feature extraction\n",
        "\n",
        "    ('clf', SGDClassifier())\n",
        "    # ('clf', LogisticRegression())\n",
        "\n",
        "])"
      ],
      "metadata": {
        "id": "Y_dhBhPCCiuD"
      },
      "execution_count": 31,
      "outputs": []
    },
    {
      "cell_type": "code",
      "source": [
        "text_clf.fit(twenty_train1.data, twenty_train1.target)"
      ],
      "metadata": {
        "id": "WoOvmdxDte0c",
        "outputId": "a3b03d9a-580a-4fe4-9e9e-f3c4b0e53c89",
        "colab": {
          "base_uri": "https://localhost:8080/",
          "height": 159
        }
      },
      "execution_count": 32,
      "outputs": [
        {
          "output_type": "execute_result",
          "data": {
            "text/plain": [
              "Pipeline(steps=[('vect',\n",
              "                 CountVectorizer(analyzer=<function processText at 0x7d467662f010>,\n",
              "                                 binary=True)),\n",
              "                ('tfidf', TfidfTransformer()), ('clf', SGDClassifier())])"
            ],
            "text/html": [
              "<style>#sk-container-id-3 {color: black;background-color: white;}#sk-container-id-3 pre{padding: 0;}#sk-container-id-3 div.sk-toggleable {background-color: white;}#sk-container-id-3 label.sk-toggleable__label {cursor: pointer;display: block;width: 100%;margin-bottom: 0;padding: 0.3em;box-sizing: border-box;text-align: center;}#sk-container-id-3 label.sk-toggleable__label-arrow:before {content: \"▸\";float: left;margin-right: 0.25em;color: #696969;}#sk-container-id-3 label.sk-toggleable__label-arrow:hover:before {color: black;}#sk-container-id-3 div.sk-estimator:hover label.sk-toggleable__label-arrow:before {color: black;}#sk-container-id-3 div.sk-toggleable__content {max-height: 0;max-width: 0;overflow: hidden;text-align: left;background-color: #f0f8ff;}#sk-container-id-3 div.sk-toggleable__content pre {margin: 0.2em;color: black;border-radius: 0.25em;background-color: #f0f8ff;}#sk-container-id-3 input.sk-toggleable__control:checked~div.sk-toggleable__content {max-height: 200px;max-width: 100%;overflow: auto;}#sk-container-id-3 input.sk-toggleable__control:checked~label.sk-toggleable__label-arrow:before {content: \"▾\";}#sk-container-id-3 div.sk-estimator input.sk-toggleable__control:checked~label.sk-toggleable__label {background-color: #d4ebff;}#sk-container-id-3 div.sk-label input.sk-toggleable__control:checked~label.sk-toggleable__label {background-color: #d4ebff;}#sk-container-id-3 input.sk-hidden--visually {border: 0;clip: rect(1px 1px 1px 1px);clip: rect(1px, 1px, 1px, 1px);height: 1px;margin: -1px;overflow: hidden;padding: 0;position: absolute;width: 1px;}#sk-container-id-3 div.sk-estimator {font-family: monospace;background-color: #f0f8ff;border: 1px dotted black;border-radius: 0.25em;box-sizing: border-box;margin-bottom: 0.5em;}#sk-container-id-3 div.sk-estimator:hover {background-color: #d4ebff;}#sk-container-id-3 div.sk-parallel-item::after {content: \"\";width: 100%;border-bottom: 1px solid gray;flex-grow: 1;}#sk-container-id-3 div.sk-label:hover label.sk-toggleable__label {background-color: #d4ebff;}#sk-container-id-3 div.sk-serial::before {content: \"\";position: absolute;border-left: 1px solid gray;box-sizing: border-box;top: 0;bottom: 0;left: 50%;z-index: 0;}#sk-container-id-3 div.sk-serial {display: flex;flex-direction: column;align-items: center;background-color: white;padding-right: 0.2em;padding-left: 0.2em;position: relative;}#sk-container-id-3 div.sk-item {position: relative;z-index: 1;}#sk-container-id-3 div.sk-parallel {display: flex;align-items: stretch;justify-content: center;background-color: white;position: relative;}#sk-container-id-3 div.sk-item::before, #sk-container-id-3 div.sk-parallel-item::before {content: \"\";position: absolute;border-left: 1px solid gray;box-sizing: border-box;top: 0;bottom: 0;left: 50%;z-index: -1;}#sk-container-id-3 div.sk-parallel-item {display: flex;flex-direction: column;z-index: 1;position: relative;background-color: white;}#sk-container-id-3 div.sk-parallel-item:first-child::after {align-self: flex-end;width: 50%;}#sk-container-id-3 div.sk-parallel-item:last-child::after {align-self: flex-start;width: 50%;}#sk-container-id-3 div.sk-parallel-item:only-child::after {width: 0;}#sk-container-id-3 div.sk-dashed-wrapped {border: 1px dashed gray;margin: 0 0.4em 0.5em 0.4em;box-sizing: border-box;padding-bottom: 0.4em;background-color: white;}#sk-container-id-3 div.sk-label label {font-family: monospace;font-weight: bold;display: inline-block;line-height: 1.2em;}#sk-container-id-3 div.sk-label-container {text-align: center;}#sk-container-id-3 div.sk-container {/* jupyter's `normalize.less` sets `[hidden] { display: none; }` but bootstrap.min.css set `[hidden] { display: none !important; }` so we also need the `!important` here to be able to override the default hidden behavior on the sphinx rendered scikit-learn.org. See: https://github.com/scikit-learn/scikit-learn/issues/21755 */display: inline-block !important;position: relative;}#sk-container-id-3 div.sk-text-repr-fallback {display: none;}</style><div id=\"sk-container-id-3\" class=\"sk-top-container\"><div class=\"sk-text-repr-fallback\"><pre>Pipeline(steps=[(&#x27;vect&#x27;,\n",
              "                 CountVectorizer(analyzer=&lt;function processText at 0x7d467662f010&gt;,\n",
              "                                 binary=True)),\n",
              "                (&#x27;tfidf&#x27;, TfidfTransformer()), (&#x27;clf&#x27;, SGDClassifier())])</pre><b>In a Jupyter environment, please rerun this cell to show the HTML representation or trust the notebook. <br />On GitHub, the HTML representation is unable to render, please try loading this page with nbviewer.org.</b></div><div class=\"sk-container\" hidden><div class=\"sk-item sk-dashed-wrapped\"><div class=\"sk-label-container\"><div class=\"sk-label sk-toggleable\"><input class=\"sk-toggleable__control sk-hidden--visually\" id=\"sk-estimator-id-8\" type=\"checkbox\" ><label for=\"sk-estimator-id-8\" class=\"sk-toggleable__label sk-toggleable__label-arrow\">Pipeline</label><div class=\"sk-toggleable__content\"><pre>Pipeline(steps=[(&#x27;vect&#x27;,\n",
              "                 CountVectorizer(analyzer=&lt;function processText at 0x7d467662f010&gt;,\n",
              "                                 binary=True)),\n",
              "                (&#x27;tfidf&#x27;, TfidfTransformer()), (&#x27;clf&#x27;, SGDClassifier())])</pre></div></div></div><div class=\"sk-serial\"><div class=\"sk-item\"><div class=\"sk-estimator sk-toggleable\"><input class=\"sk-toggleable__control sk-hidden--visually\" id=\"sk-estimator-id-9\" type=\"checkbox\" ><label for=\"sk-estimator-id-9\" class=\"sk-toggleable__label sk-toggleable__label-arrow\">CountVectorizer</label><div class=\"sk-toggleable__content\"><pre>CountVectorizer(analyzer=&lt;function processText at 0x7d467662f010&gt;, binary=True)</pre></div></div></div><div class=\"sk-item\"><div class=\"sk-estimator sk-toggleable\"><input class=\"sk-toggleable__control sk-hidden--visually\" id=\"sk-estimator-id-10\" type=\"checkbox\" ><label for=\"sk-estimator-id-10\" class=\"sk-toggleable__label sk-toggleable__label-arrow\">TfidfTransformer</label><div class=\"sk-toggleable__content\"><pre>TfidfTransformer()</pre></div></div></div><div class=\"sk-item\"><div class=\"sk-estimator sk-toggleable\"><input class=\"sk-toggleable__control sk-hidden--visually\" id=\"sk-estimator-id-11\" type=\"checkbox\" ><label for=\"sk-estimator-id-11\" class=\"sk-toggleable__label sk-toggleable__label-arrow\">SGDClassifier</label><div class=\"sk-toggleable__content\"><pre>SGDClassifier()</pre></div></div></div></div></div></div></div>"
            ]
          },
          "metadata": {},
          "execution_count": 32
        }
      ]
    },
    {
      "cell_type": "code",
      "source": [
        "# To make prediction with dev/test set\n",
        "predicted = text_clf.predict(twenty_test1.data)"
      ],
      "metadata": {
        "id": "wtA0jrYsthBb"
      },
      "execution_count": 33,
      "outputs": []
    },
    {
      "cell_type": "code",
      "source": [
        "# To evaluate your prediction on dev set\n",
        "from sklearn import metrics\n",
        "print(\"Accuracy:\", metrics.accuracy_score(twenty_test1.target, predicted))\n",
        "\n",
        "print(metrics.classification_report(twenty_test1.target, predicted, target_names=twenty_test1.target_names))\n",
        "\n",
        "# confusion class\n",
        "pd.DataFrame(metrics.confusion_matrix(twenty_test1.target, predicted),\n",
        "             columns=twenty_test1.target_names,index=twenty_test1.target_names)"
      ],
      "metadata": {
        "id": "pljSpotFtkS2",
        "outputId": "5526c683-f62b-49e7-fa84-236157fafd04",
        "colab": {
          "base_uri": "https://localhost:8080/",
          "height": 293
        }
      },
      "execution_count": 34,
      "outputs": [
        {
          "output_type": "stream",
          "name": "stdout",
          "text": [
            "Accuracy: 0.9274755927475593\n",
            "                        precision    recall  f1-score   support\n",
            "\n",
            "           alt.atheism       0.97      0.86      0.91       319\n",
            "soc.religion.christian       0.90      0.98      0.94       398\n",
            "\n",
            "              accuracy                           0.93       717\n",
            "             macro avg       0.94      0.92      0.93       717\n",
            "          weighted avg       0.93      0.93      0.93       717\n",
            "\n"
          ]
        },
        {
          "output_type": "execute_result",
          "data": {
            "text/plain": [
              "                        alt.atheism  soc.religion.christian\n",
              "alt.atheism                     275                      44\n",
              "soc.religion.christian            8                     390"
            ],
            "text/html": [
              "\n",
              "  <div id=\"df-7255fbe6-e136-4599-a034-a4f669baee4d\" class=\"colab-df-container\">\n",
              "    <div>\n",
              "<style scoped>\n",
              "    .dataframe tbody tr th:only-of-type {\n",
              "        vertical-align: middle;\n",
              "    }\n",
              "\n",
              "    .dataframe tbody tr th {\n",
              "        vertical-align: top;\n",
              "    }\n",
              "\n",
              "    .dataframe thead th {\n",
              "        text-align: right;\n",
              "    }\n",
              "</style>\n",
              "<table border=\"1\" class=\"dataframe\">\n",
              "  <thead>\n",
              "    <tr style=\"text-align: right;\">\n",
              "      <th></th>\n",
              "      <th>alt.atheism</th>\n",
              "      <th>soc.religion.christian</th>\n",
              "    </tr>\n",
              "  </thead>\n",
              "  <tbody>\n",
              "    <tr>\n",
              "      <th>alt.atheism</th>\n",
              "      <td>275</td>\n",
              "      <td>44</td>\n",
              "    </tr>\n",
              "    <tr>\n",
              "      <th>soc.religion.christian</th>\n",
              "      <td>8</td>\n",
              "      <td>390</td>\n",
              "    </tr>\n",
              "  </tbody>\n",
              "</table>\n",
              "</div>\n",
              "    <div class=\"colab-df-buttons\">\n",
              "\n",
              "  <div class=\"colab-df-container\">\n",
              "    <button class=\"colab-df-convert\" onclick=\"convertToInteractive('df-7255fbe6-e136-4599-a034-a4f669baee4d')\"\n",
              "            title=\"Convert this dataframe to an interactive table.\"\n",
              "            style=\"display:none;\">\n",
              "\n",
              "  <svg xmlns=\"http://www.w3.org/2000/svg\" height=\"24px\" viewBox=\"0 -960 960 960\">\n",
              "    <path d=\"M120-120v-720h720v720H120Zm60-500h600v-160H180v160Zm220 220h160v-160H400v160Zm0 220h160v-160H400v160ZM180-400h160v-160H180v160Zm440 0h160v-160H620v160ZM180-180h160v-160H180v160Zm440 0h160v-160H620v160Z\"/>\n",
              "  </svg>\n",
              "    </button>\n",
              "\n",
              "  <style>\n",
              "    .colab-df-container {\n",
              "      display:flex;\n",
              "      gap: 12px;\n",
              "    }\n",
              "\n",
              "    .colab-df-convert {\n",
              "      background-color: #E8F0FE;\n",
              "      border: none;\n",
              "      border-radius: 50%;\n",
              "      cursor: pointer;\n",
              "      display: none;\n",
              "      fill: #1967D2;\n",
              "      height: 32px;\n",
              "      padding: 0 0 0 0;\n",
              "      width: 32px;\n",
              "    }\n",
              "\n",
              "    .colab-df-convert:hover {\n",
              "      background-color: #E2EBFA;\n",
              "      box-shadow: 0px 1px 2px rgba(60, 64, 67, 0.3), 0px 1px 3px 1px rgba(60, 64, 67, 0.15);\n",
              "      fill: #174EA6;\n",
              "    }\n",
              "\n",
              "    .colab-df-buttons div {\n",
              "      margin-bottom: 4px;\n",
              "    }\n",
              "\n",
              "    [theme=dark] .colab-df-convert {\n",
              "      background-color: #3B4455;\n",
              "      fill: #D2E3FC;\n",
              "    }\n",
              "\n",
              "    [theme=dark] .colab-df-convert:hover {\n",
              "      background-color: #434B5C;\n",
              "      box-shadow: 0px 1px 3px 1px rgba(0, 0, 0, 0.15);\n",
              "      filter: drop-shadow(0px 1px 2px rgba(0, 0, 0, 0.3));\n",
              "      fill: #FFFFFF;\n",
              "    }\n",
              "  </style>\n",
              "\n",
              "    <script>\n",
              "      const buttonEl =\n",
              "        document.querySelector('#df-7255fbe6-e136-4599-a034-a4f669baee4d button.colab-df-convert');\n",
              "      buttonEl.style.display =\n",
              "        google.colab.kernel.accessAllowed ? 'block' : 'none';\n",
              "\n",
              "      async function convertToInteractive(key) {\n",
              "        const element = document.querySelector('#df-7255fbe6-e136-4599-a034-a4f669baee4d');\n",
              "        const dataTable =\n",
              "          await google.colab.kernel.invokeFunction('convertToInteractive',\n",
              "                                                    [key], {});\n",
              "        if (!dataTable) return;\n",
              "\n",
              "        const docLinkHtml = 'Like what you see? Visit the ' +\n",
              "          '<a target=\"_blank\" href=https://colab.research.google.com/notebooks/data_table.ipynb>data table notebook</a>'\n",
              "          + ' to learn more about interactive tables.';\n",
              "        element.innerHTML = '';\n",
              "        dataTable['output_type'] = 'display_data';\n",
              "        await google.colab.output.renderOutput(dataTable, element);\n",
              "        const docLink = document.createElement('div');\n",
              "        docLink.innerHTML = docLinkHtml;\n",
              "        element.appendChild(docLink);\n",
              "      }\n",
              "    </script>\n",
              "  </div>\n",
              "\n",
              "\n",
              "<div id=\"df-8184ff41-e4d3-4cbb-b224-eff7d624cc55\">\n",
              "  <button class=\"colab-df-quickchart\" onclick=\"quickchart('df-8184ff41-e4d3-4cbb-b224-eff7d624cc55')\"\n",
              "            title=\"Suggest charts\"\n",
              "            style=\"display:none;\">\n",
              "\n",
              "<svg xmlns=\"http://www.w3.org/2000/svg\" height=\"24px\"viewBox=\"0 0 24 24\"\n",
              "     width=\"24px\">\n",
              "    <g>\n",
              "        <path d=\"M19 3H5c-1.1 0-2 .9-2 2v14c0 1.1.9 2 2 2h14c1.1 0 2-.9 2-2V5c0-1.1-.9-2-2-2zM9 17H7v-7h2v7zm4 0h-2V7h2v10zm4 0h-2v-4h2v4z\"/>\n",
              "    </g>\n",
              "</svg>\n",
              "  </button>\n",
              "\n",
              "<style>\n",
              "  .colab-df-quickchart {\n",
              "      --bg-color: #E8F0FE;\n",
              "      --fill-color: #1967D2;\n",
              "      --hover-bg-color: #E2EBFA;\n",
              "      --hover-fill-color: #174EA6;\n",
              "      --disabled-fill-color: #AAA;\n",
              "      --disabled-bg-color: #DDD;\n",
              "  }\n",
              "\n",
              "  [theme=dark] .colab-df-quickchart {\n",
              "      --bg-color: #3B4455;\n",
              "      --fill-color: #D2E3FC;\n",
              "      --hover-bg-color: #434B5C;\n",
              "      --hover-fill-color: #FFFFFF;\n",
              "      --disabled-bg-color: #3B4455;\n",
              "      --disabled-fill-color: #666;\n",
              "  }\n",
              "\n",
              "  .colab-df-quickchart {\n",
              "    background-color: var(--bg-color);\n",
              "    border: none;\n",
              "    border-radius: 50%;\n",
              "    cursor: pointer;\n",
              "    display: none;\n",
              "    fill: var(--fill-color);\n",
              "    height: 32px;\n",
              "    padding: 0;\n",
              "    width: 32px;\n",
              "  }\n",
              "\n",
              "  .colab-df-quickchart:hover {\n",
              "    background-color: var(--hover-bg-color);\n",
              "    box-shadow: 0 1px 2px rgba(60, 64, 67, 0.3), 0 1px 3px 1px rgba(60, 64, 67, 0.15);\n",
              "    fill: var(--button-hover-fill-color);\n",
              "  }\n",
              "\n",
              "  .colab-df-quickchart-complete:disabled,\n",
              "  .colab-df-quickchart-complete:disabled:hover {\n",
              "    background-color: var(--disabled-bg-color);\n",
              "    fill: var(--disabled-fill-color);\n",
              "    box-shadow: none;\n",
              "  }\n",
              "\n",
              "  .colab-df-spinner {\n",
              "    border: 2px solid var(--fill-color);\n",
              "    border-color: transparent;\n",
              "    border-bottom-color: var(--fill-color);\n",
              "    animation:\n",
              "      spin 1s steps(1) infinite;\n",
              "  }\n",
              "\n",
              "  @keyframes spin {\n",
              "    0% {\n",
              "      border-color: transparent;\n",
              "      border-bottom-color: var(--fill-color);\n",
              "      border-left-color: var(--fill-color);\n",
              "    }\n",
              "    20% {\n",
              "      border-color: transparent;\n",
              "      border-left-color: var(--fill-color);\n",
              "      border-top-color: var(--fill-color);\n",
              "    }\n",
              "    30% {\n",
              "      border-color: transparent;\n",
              "      border-left-color: var(--fill-color);\n",
              "      border-top-color: var(--fill-color);\n",
              "      border-right-color: var(--fill-color);\n",
              "    }\n",
              "    40% {\n",
              "      border-color: transparent;\n",
              "      border-right-color: var(--fill-color);\n",
              "      border-top-color: var(--fill-color);\n",
              "    }\n",
              "    60% {\n",
              "      border-color: transparent;\n",
              "      border-right-color: var(--fill-color);\n",
              "    }\n",
              "    80% {\n",
              "      border-color: transparent;\n",
              "      border-right-color: var(--fill-color);\n",
              "      border-bottom-color: var(--fill-color);\n",
              "    }\n",
              "    90% {\n",
              "      border-color: transparent;\n",
              "      border-bottom-color: var(--fill-color);\n",
              "    }\n",
              "  }\n",
              "</style>\n",
              "\n",
              "  <script>\n",
              "    async function quickchart(key) {\n",
              "      const quickchartButtonEl =\n",
              "        document.querySelector('#' + key + ' button');\n",
              "      quickchartButtonEl.disabled = true;  // To prevent multiple clicks.\n",
              "      quickchartButtonEl.classList.add('colab-df-spinner');\n",
              "      try {\n",
              "        const charts = await google.colab.kernel.invokeFunction(\n",
              "            'suggestCharts', [key], {});\n",
              "      } catch (error) {\n",
              "        console.error('Error during call to suggestCharts:', error);\n",
              "      }\n",
              "      quickchartButtonEl.classList.remove('colab-df-spinner');\n",
              "      quickchartButtonEl.classList.add('colab-df-quickchart-complete');\n",
              "    }\n",
              "    (() => {\n",
              "      let quickchartButtonEl =\n",
              "        document.querySelector('#df-8184ff41-e4d3-4cbb-b224-eff7d624cc55 button');\n",
              "      quickchartButtonEl.style.display =\n",
              "        google.colab.kernel.accessAllowed ? 'block' : 'none';\n",
              "    })();\n",
              "  </script>\n",
              "</div>\n",
              "    </div>\n",
              "  </div>\n"
            ],
            "application/vnd.google.colaboratory.intrinsic+json": {
              "type": "dataframe",
              "summary": "{\n  \"name\": \"             columns=twenty_test1\",\n  \"rows\": 2,\n  \"fields\": [\n    {\n      \"column\": \"alt.atheism\",\n      \"properties\": {\n        \"dtype\": \"number\",\n        \"std\": 188,\n        \"min\": 8,\n        \"max\": 275,\n        \"num_unique_values\": 2,\n        \"samples\": [\n          8,\n          275\n        ],\n        \"semantic_type\": \"\",\n        \"description\": \"\"\n      }\n    },\n    {\n      \"column\": \"soc.religion.christian\",\n      \"properties\": {\n        \"dtype\": \"number\",\n        \"std\": 244,\n        \"min\": 44,\n        \"max\": 390,\n        \"num_unique_values\": 2,\n        \"samples\": [\n          390,\n          44\n        ],\n        \"semantic_type\": \"\",\n        \"description\": \"\"\n      }\n    }\n  ]\n}"
            }
          },
          "metadata": {},
          "execution_count": 34
        }
      ]
    },
    {
      "cell_type": "code",
      "metadata": {
        "id": "vNm3axlhdzlF"
      },
      "source": [
        "from sklearn.pipeline import Pipeline\n",
        "from sklearn.feature_extraction.text import CountVectorizer\n",
        "from sklearn.feature_extraction.text import TfidfTransformer\n",
        "from sklearn.linear_model import SGDClassifier, LogisticRegression\n",
        "\n",
        "# Level: lexicon, model: tf-idf\n",
        "text_clf = Pipeline([\n",
        "    # add your code about text processing\n",
        "    ('vect', CountVectorizer(analyzer=processText)),\n",
        "    ('tfidf', TfidfTransformer(use_idf=True)),\n",
        "\n",
        "    # change your classifier here, search: sklearn logistic regression example\n",
        "    # ('clf', SGDClassifier())\n",
        "    ('clf', LogisticRegression())\n",
        "\n",
        "])"
      ],
      "execution_count": 35,
      "outputs": []
    },
    {
      "cell_type": "code",
      "metadata": {
        "colab": {
          "base_uri": "https://localhost:8080/",
          "height": 159
        },
        "id": "Vuq37Bf3Qjpn",
        "outputId": "00fb7bb8-d0ba-4bcb-b7cb-5809d53bd12e"
      },
      "source": [
        "# To train the model\n",
        "text_clf.fit(twenty_train1.data, twenty_train1.target)\n"
      ],
      "execution_count": 36,
      "outputs": [
        {
          "output_type": "execute_result",
          "data": {
            "text/plain": [
              "Pipeline(steps=[('vect',\n",
              "                 CountVectorizer(analyzer=<function processText at 0x7d467662f010>)),\n",
              "                ('tfidf', TfidfTransformer()), ('clf', LogisticRegression())])"
            ],
            "text/html": [
              "<style>#sk-container-id-4 {color: black;background-color: white;}#sk-container-id-4 pre{padding: 0;}#sk-container-id-4 div.sk-toggleable {background-color: white;}#sk-container-id-4 label.sk-toggleable__label {cursor: pointer;display: block;width: 100%;margin-bottom: 0;padding: 0.3em;box-sizing: border-box;text-align: center;}#sk-container-id-4 label.sk-toggleable__label-arrow:before {content: \"▸\";float: left;margin-right: 0.25em;color: #696969;}#sk-container-id-4 label.sk-toggleable__label-arrow:hover:before {color: black;}#sk-container-id-4 div.sk-estimator:hover label.sk-toggleable__label-arrow:before {color: black;}#sk-container-id-4 div.sk-toggleable__content {max-height: 0;max-width: 0;overflow: hidden;text-align: left;background-color: #f0f8ff;}#sk-container-id-4 div.sk-toggleable__content pre {margin: 0.2em;color: black;border-radius: 0.25em;background-color: #f0f8ff;}#sk-container-id-4 input.sk-toggleable__control:checked~div.sk-toggleable__content {max-height: 200px;max-width: 100%;overflow: auto;}#sk-container-id-4 input.sk-toggleable__control:checked~label.sk-toggleable__label-arrow:before {content: \"▾\";}#sk-container-id-4 div.sk-estimator input.sk-toggleable__control:checked~label.sk-toggleable__label {background-color: #d4ebff;}#sk-container-id-4 div.sk-label input.sk-toggleable__control:checked~label.sk-toggleable__label {background-color: #d4ebff;}#sk-container-id-4 input.sk-hidden--visually {border: 0;clip: rect(1px 1px 1px 1px);clip: rect(1px, 1px, 1px, 1px);height: 1px;margin: -1px;overflow: hidden;padding: 0;position: absolute;width: 1px;}#sk-container-id-4 div.sk-estimator {font-family: monospace;background-color: #f0f8ff;border: 1px dotted black;border-radius: 0.25em;box-sizing: border-box;margin-bottom: 0.5em;}#sk-container-id-4 div.sk-estimator:hover {background-color: #d4ebff;}#sk-container-id-4 div.sk-parallel-item::after {content: \"\";width: 100%;border-bottom: 1px solid gray;flex-grow: 1;}#sk-container-id-4 div.sk-label:hover label.sk-toggleable__label {background-color: #d4ebff;}#sk-container-id-4 div.sk-serial::before {content: \"\";position: absolute;border-left: 1px solid gray;box-sizing: border-box;top: 0;bottom: 0;left: 50%;z-index: 0;}#sk-container-id-4 div.sk-serial {display: flex;flex-direction: column;align-items: center;background-color: white;padding-right: 0.2em;padding-left: 0.2em;position: relative;}#sk-container-id-4 div.sk-item {position: relative;z-index: 1;}#sk-container-id-4 div.sk-parallel {display: flex;align-items: stretch;justify-content: center;background-color: white;position: relative;}#sk-container-id-4 div.sk-item::before, #sk-container-id-4 div.sk-parallel-item::before {content: \"\";position: absolute;border-left: 1px solid gray;box-sizing: border-box;top: 0;bottom: 0;left: 50%;z-index: -1;}#sk-container-id-4 div.sk-parallel-item {display: flex;flex-direction: column;z-index: 1;position: relative;background-color: white;}#sk-container-id-4 div.sk-parallel-item:first-child::after {align-self: flex-end;width: 50%;}#sk-container-id-4 div.sk-parallel-item:last-child::after {align-self: flex-start;width: 50%;}#sk-container-id-4 div.sk-parallel-item:only-child::after {width: 0;}#sk-container-id-4 div.sk-dashed-wrapped {border: 1px dashed gray;margin: 0 0.4em 0.5em 0.4em;box-sizing: border-box;padding-bottom: 0.4em;background-color: white;}#sk-container-id-4 div.sk-label label {font-family: monospace;font-weight: bold;display: inline-block;line-height: 1.2em;}#sk-container-id-4 div.sk-label-container {text-align: center;}#sk-container-id-4 div.sk-container {/* jupyter's `normalize.less` sets `[hidden] { display: none; }` but bootstrap.min.css set `[hidden] { display: none !important; }` so we also need the `!important` here to be able to override the default hidden behavior on the sphinx rendered scikit-learn.org. See: https://github.com/scikit-learn/scikit-learn/issues/21755 */display: inline-block !important;position: relative;}#sk-container-id-4 div.sk-text-repr-fallback {display: none;}</style><div id=\"sk-container-id-4\" class=\"sk-top-container\"><div class=\"sk-text-repr-fallback\"><pre>Pipeline(steps=[(&#x27;vect&#x27;,\n",
              "                 CountVectorizer(analyzer=&lt;function processText at 0x7d467662f010&gt;)),\n",
              "                (&#x27;tfidf&#x27;, TfidfTransformer()), (&#x27;clf&#x27;, LogisticRegression())])</pre><b>In a Jupyter environment, please rerun this cell to show the HTML representation or trust the notebook. <br />On GitHub, the HTML representation is unable to render, please try loading this page with nbviewer.org.</b></div><div class=\"sk-container\" hidden><div class=\"sk-item sk-dashed-wrapped\"><div class=\"sk-label-container\"><div class=\"sk-label sk-toggleable\"><input class=\"sk-toggleable__control sk-hidden--visually\" id=\"sk-estimator-id-12\" type=\"checkbox\" ><label for=\"sk-estimator-id-12\" class=\"sk-toggleable__label sk-toggleable__label-arrow\">Pipeline</label><div class=\"sk-toggleable__content\"><pre>Pipeline(steps=[(&#x27;vect&#x27;,\n",
              "                 CountVectorizer(analyzer=&lt;function processText at 0x7d467662f010&gt;)),\n",
              "                (&#x27;tfidf&#x27;, TfidfTransformer()), (&#x27;clf&#x27;, LogisticRegression())])</pre></div></div></div><div class=\"sk-serial\"><div class=\"sk-item\"><div class=\"sk-estimator sk-toggleable\"><input class=\"sk-toggleable__control sk-hidden--visually\" id=\"sk-estimator-id-13\" type=\"checkbox\" ><label for=\"sk-estimator-id-13\" class=\"sk-toggleable__label sk-toggleable__label-arrow\">CountVectorizer</label><div class=\"sk-toggleable__content\"><pre>CountVectorizer(analyzer=&lt;function processText at 0x7d467662f010&gt;)</pre></div></div></div><div class=\"sk-item\"><div class=\"sk-estimator sk-toggleable\"><input class=\"sk-toggleable__control sk-hidden--visually\" id=\"sk-estimator-id-14\" type=\"checkbox\" ><label for=\"sk-estimator-id-14\" class=\"sk-toggleable__label sk-toggleable__label-arrow\">TfidfTransformer</label><div class=\"sk-toggleable__content\"><pre>TfidfTransformer()</pre></div></div></div><div class=\"sk-item\"><div class=\"sk-estimator sk-toggleable\"><input class=\"sk-toggleable__control sk-hidden--visually\" id=\"sk-estimator-id-15\" type=\"checkbox\" ><label for=\"sk-estimator-id-15\" class=\"sk-toggleable__label sk-toggleable__label-arrow\">LogisticRegression</label><div class=\"sk-toggleable__content\"><pre>LogisticRegression()</pre></div></div></div></div></div></div></div>"
            ]
          },
          "metadata": {},
          "execution_count": 36
        }
      ]
    },
    {
      "cell_type": "markdown",
      "metadata": {
        "id": "gjQ8DmPNRUuJ"
      },
      "source": [
        "# Step 4: Make Prediction"
      ]
    },
    {
      "cell_type": "code",
      "metadata": {
        "id": "OMdoIHjMRWce"
      },
      "source": [
        "# To make prediction with dev/test set\n",
        "predicted = text_clf.predict(twenty_test1.data)"
      ],
      "execution_count": 37,
      "outputs": []
    },
    {
      "cell_type": "markdown",
      "metadata": {
        "id": "3GXHJHqoBmyJ"
      },
      "source": [
        "# Step 5: Evaluation"
      ]
    },
    {
      "cell_type": "markdown",
      "source": [
        "**You need to modify the code so only two classes from your student number are output as matrix.**"
      ],
      "metadata": {
        "id": "QuBuHl6G5xhN"
      }
    },
    {
      "cell_type": "code",
      "metadata": {
        "colab": {
          "base_uri": "https://localhost:8080/",
          "height": 293
        },
        "id": "LdB9js0QDErf",
        "outputId": "9906656a-e20c-4936-f54e-0c253f07de8b"
      },
      "source": [
        "# To evaluate your prediction on dev set\n",
        "from sklearn import metrics\n",
        "print(\"Accuracy:\", metrics.accuracy_score(twenty_test1.target, predicted))\n",
        "\n",
        "print(metrics.classification_report(twenty_test1.target, predicted, target_names=twenty_test1.target_names))\n",
        "\n",
        "# confusion class\n",
        "pd.DataFrame(metrics.confusion_matrix(twenty_test1.target, predicted),\n",
        "             columns=twenty_test1.target_names,index=twenty_test1.target_names)"
      ],
      "execution_count": 38,
      "outputs": [
        {
          "output_type": "stream",
          "name": "stdout",
          "text": [
            "Accuracy: 0.8535564853556485\n",
            "                        precision    recall  f1-score   support\n",
            "\n",
            "           alt.atheism       0.95      0.71      0.81       319\n",
            "soc.religion.christian       0.80      0.97      0.88       398\n",
            "\n",
            "              accuracy                           0.85       717\n",
            "             macro avg       0.88      0.84      0.85       717\n",
            "          weighted avg       0.87      0.85      0.85       717\n",
            "\n"
          ]
        },
        {
          "output_type": "execute_result",
          "data": {
            "text/plain": [
              "                        alt.atheism  soc.religion.christian\n",
              "alt.atheism                     225                      94\n",
              "soc.religion.christian           11                     387"
            ],
            "text/html": [
              "\n",
              "  <div id=\"df-1b565634-1ea7-4b79-a32c-ba2f27357009\" class=\"colab-df-container\">\n",
              "    <div>\n",
              "<style scoped>\n",
              "    .dataframe tbody tr th:only-of-type {\n",
              "        vertical-align: middle;\n",
              "    }\n",
              "\n",
              "    .dataframe tbody tr th {\n",
              "        vertical-align: top;\n",
              "    }\n",
              "\n",
              "    .dataframe thead th {\n",
              "        text-align: right;\n",
              "    }\n",
              "</style>\n",
              "<table border=\"1\" class=\"dataframe\">\n",
              "  <thead>\n",
              "    <tr style=\"text-align: right;\">\n",
              "      <th></th>\n",
              "      <th>alt.atheism</th>\n",
              "      <th>soc.religion.christian</th>\n",
              "    </tr>\n",
              "  </thead>\n",
              "  <tbody>\n",
              "    <tr>\n",
              "      <th>alt.atheism</th>\n",
              "      <td>225</td>\n",
              "      <td>94</td>\n",
              "    </tr>\n",
              "    <tr>\n",
              "      <th>soc.religion.christian</th>\n",
              "      <td>11</td>\n",
              "      <td>387</td>\n",
              "    </tr>\n",
              "  </tbody>\n",
              "</table>\n",
              "</div>\n",
              "    <div class=\"colab-df-buttons\">\n",
              "\n",
              "  <div class=\"colab-df-container\">\n",
              "    <button class=\"colab-df-convert\" onclick=\"convertToInteractive('df-1b565634-1ea7-4b79-a32c-ba2f27357009')\"\n",
              "            title=\"Convert this dataframe to an interactive table.\"\n",
              "            style=\"display:none;\">\n",
              "\n",
              "  <svg xmlns=\"http://www.w3.org/2000/svg\" height=\"24px\" viewBox=\"0 -960 960 960\">\n",
              "    <path d=\"M120-120v-720h720v720H120Zm60-500h600v-160H180v160Zm220 220h160v-160H400v160Zm0 220h160v-160H400v160ZM180-400h160v-160H180v160Zm440 0h160v-160H620v160ZM180-180h160v-160H180v160Zm440 0h160v-160H620v160Z\"/>\n",
              "  </svg>\n",
              "    </button>\n",
              "\n",
              "  <style>\n",
              "    .colab-df-container {\n",
              "      display:flex;\n",
              "      gap: 12px;\n",
              "    }\n",
              "\n",
              "    .colab-df-convert {\n",
              "      background-color: #E8F0FE;\n",
              "      border: none;\n",
              "      border-radius: 50%;\n",
              "      cursor: pointer;\n",
              "      display: none;\n",
              "      fill: #1967D2;\n",
              "      height: 32px;\n",
              "      padding: 0 0 0 0;\n",
              "      width: 32px;\n",
              "    }\n",
              "\n",
              "    .colab-df-convert:hover {\n",
              "      background-color: #E2EBFA;\n",
              "      box-shadow: 0px 1px 2px rgba(60, 64, 67, 0.3), 0px 1px 3px 1px rgba(60, 64, 67, 0.15);\n",
              "      fill: #174EA6;\n",
              "    }\n",
              "\n",
              "    .colab-df-buttons div {\n",
              "      margin-bottom: 4px;\n",
              "    }\n",
              "\n",
              "    [theme=dark] .colab-df-convert {\n",
              "      background-color: #3B4455;\n",
              "      fill: #D2E3FC;\n",
              "    }\n",
              "\n",
              "    [theme=dark] .colab-df-convert:hover {\n",
              "      background-color: #434B5C;\n",
              "      box-shadow: 0px 1px 3px 1px rgba(0, 0, 0, 0.15);\n",
              "      filter: drop-shadow(0px 1px 2px rgba(0, 0, 0, 0.3));\n",
              "      fill: #FFFFFF;\n",
              "    }\n",
              "  </style>\n",
              "\n",
              "    <script>\n",
              "      const buttonEl =\n",
              "        document.querySelector('#df-1b565634-1ea7-4b79-a32c-ba2f27357009 button.colab-df-convert');\n",
              "      buttonEl.style.display =\n",
              "        google.colab.kernel.accessAllowed ? 'block' : 'none';\n",
              "\n",
              "      async function convertToInteractive(key) {\n",
              "        const element = document.querySelector('#df-1b565634-1ea7-4b79-a32c-ba2f27357009');\n",
              "        const dataTable =\n",
              "          await google.colab.kernel.invokeFunction('convertToInteractive',\n",
              "                                                    [key], {});\n",
              "        if (!dataTable) return;\n",
              "\n",
              "        const docLinkHtml = 'Like what you see? Visit the ' +\n",
              "          '<a target=\"_blank\" href=https://colab.research.google.com/notebooks/data_table.ipynb>data table notebook</a>'\n",
              "          + ' to learn more about interactive tables.';\n",
              "        element.innerHTML = '';\n",
              "        dataTable['output_type'] = 'display_data';\n",
              "        await google.colab.output.renderOutput(dataTable, element);\n",
              "        const docLink = document.createElement('div');\n",
              "        docLink.innerHTML = docLinkHtml;\n",
              "        element.appendChild(docLink);\n",
              "      }\n",
              "    </script>\n",
              "  </div>\n",
              "\n",
              "\n",
              "<div id=\"df-6b63b925-00be-4ccc-9587-c7340fb217dc\">\n",
              "  <button class=\"colab-df-quickchart\" onclick=\"quickchart('df-6b63b925-00be-4ccc-9587-c7340fb217dc')\"\n",
              "            title=\"Suggest charts\"\n",
              "            style=\"display:none;\">\n",
              "\n",
              "<svg xmlns=\"http://www.w3.org/2000/svg\" height=\"24px\"viewBox=\"0 0 24 24\"\n",
              "     width=\"24px\">\n",
              "    <g>\n",
              "        <path d=\"M19 3H5c-1.1 0-2 .9-2 2v14c0 1.1.9 2 2 2h14c1.1 0 2-.9 2-2V5c0-1.1-.9-2-2-2zM9 17H7v-7h2v7zm4 0h-2V7h2v10zm4 0h-2v-4h2v4z\"/>\n",
              "    </g>\n",
              "</svg>\n",
              "  </button>\n",
              "\n",
              "<style>\n",
              "  .colab-df-quickchart {\n",
              "      --bg-color: #E8F0FE;\n",
              "      --fill-color: #1967D2;\n",
              "      --hover-bg-color: #E2EBFA;\n",
              "      --hover-fill-color: #174EA6;\n",
              "      --disabled-fill-color: #AAA;\n",
              "      --disabled-bg-color: #DDD;\n",
              "  }\n",
              "\n",
              "  [theme=dark] .colab-df-quickchart {\n",
              "      --bg-color: #3B4455;\n",
              "      --fill-color: #D2E3FC;\n",
              "      --hover-bg-color: #434B5C;\n",
              "      --hover-fill-color: #FFFFFF;\n",
              "      --disabled-bg-color: #3B4455;\n",
              "      --disabled-fill-color: #666;\n",
              "  }\n",
              "\n",
              "  .colab-df-quickchart {\n",
              "    background-color: var(--bg-color);\n",
              "    border: none;\n",
              "    border-radius: 50%;\n",
              "    cursor: pointer;\n",
              "    display: none;\n",
              "    fill: var(--fill-color);\n",
              "    height: 32px;\n",
              "    padding: 0;\n",
              "    width: 32px;\n",
              "  }\n",
              "\n",
              "  .colab-df-quickchart:hover {\n",
              "    background-color: var(--hover-bg-color);\n",
              "    box-shadow: 0 1px 2px rgba(60, 64, 67, 0.3), 0 1px 3px 1px rgba(60, 64, 67, 0.15);\n",
              "    fill: var(--button-hover-fill-color);\n",
              "  }\n",
              "\n",
              "  .colab-df-quickchart-complete:disabled,\n",
              "  .colab-df-quickchart-complete:disabled:hover {\n",
              "    background-color: var(--disabled-bg-color);\n",
              "    fill: var(--disabled-fill-color);\n",
              "    box-shadow: none;\n",
              "  }\n",
              "\n",
              "  .colab-df-spinner {\n",
              "    border: 2px solid var(--fill-color);\n",
              "    border-color: transparent;\n",
              "    border-bottom-color: var(--fill-color);\n",
              "    animation:\n",
              "      spin 1s steps(1) infinite;\n",
              "  }\n",
              "\n",
              "  @keyframes spin {\n",
              "    0% {\n",
              "      border-color: transparent;\n",
              "      border-bottom-color: var(--fill-color);\n",
              "      border-left-color: var(--fill-color);\n",
              "    }\n",
              "    20% {\n",
              "      border-color: transparent;\n",
              "      border-left-color: var(--fill-color);\n",
              "      border-top-color: var(--fill-color);\n",
              "    }\n",
              "    30% {\n",
              "      border-color: transparent;\n",
              "      border-left-color: var(--fill-color);\n",
              "      border-top-color: var(--fill-color);\n",
              "      border-right-color: var(--fill-color);\n",
              "    }\n",
              "    40% {\n",
              "      border-color: transparent;\n",
              "      border-right-color: var(--fill-color);\n",
              "      border-top-color: var(--fill-color);\n",
              "    }\n",
              "    60% {\n",
              "      border-color: transparent;\n",
              "      border-right-color: var(--fill-color);\n",
              "    }\n",
              "    80% {\n",
              "      border-color: transparent;\n",
              "      border-right-color: var(--fill-color);\n",
              "      border-bottom-color: var(--fill-color);\n",
              "    }\n",
              "    90% {\n",
              "      border-color: transparent;\n",
              "      border-bottom-color: var(--fill-color);\n",
              "    }\n",
              "  }\n",
              "</style>\n",
              "\n",
              "  <script>\n",
              "    async function quickchart(key) {\n",
              "      const quickchartButtonEl =\n",
              "        document.querySelector('#' + key + ' button');\n",
              "      quickchartButtonEl.disabled = true;  // To prevent multiple clicks.\n",
              "      quickchartButtonEl.classList.add('colab-df-spinner');\n",
              "      try {\n",
              "        const charts = await google.colab.kernel.invokeFunction(\n",
              "            'suggestCharts', [key], {});\n",
              "      } catch (error) {\n",
              "        console.error('Error during call to suggestCharts:', error);\n",
              "      }\n",
              "      quickchartButtonEl.classList.remove('colab-df-spinner');\n",
              "      quickchartButtonEl.classList.add('colab-df-quickchart-complete');\n",
              "    }\n",
              "    (() => {\n",
              "      let quickchartButtonEl =\n",
              "        document.querySelector('#df-6b63b925-00be-4ccc-9587-c7340fb217dc button');\n",
              "      quickchartButtonEl.style.display =\n",
              "        google.colab.kernel.accessAllowed ? 'block' : 'none';\n",
              "    })();\n",
              "  </script>\n",
              "</div>\n",
              "    </div>\n",
              "  </div>\n"
            ],
            "application/vnd.google.colaboratory.intrinsic+json": {
              "type": "dataframe",
              "summary": "{\n  \"name\": \"             columns=twenty_test1\",\n  \"rows\": 2,\n  \"fields\": [\n    {\n      \"column\": \"alt.atheism\",\n      \"properties\": {\n        \"dtype\": \"number\",\n        \"std\": 151,\n        \"min\": 11,\n        \"max\": 225,\n        \"num_unique_values\": 2,\n        \"samples\": [\n          11,\n          225\n        ],\n        \"semantic_type\": \"\",\n        \"description\": \"\"\n      }\n    },\n    {\n      \"column\": \"soc.religion.christian\",\n      \"properties\": {\n        \"dtype\": \"number\",\n        \"std\": 207,\n        \"min\": 94,\n        \"max\": 387,\n        \"num_unique_values\": 2,\n        \"samples\": [\n          387,\n          94\n        ],\n        \"semantic_type\": \"\",\n        \"description\": \"\"\n      }\n    }\n  ]\n}"
            }
          },
          "metadata": {},
          "execution_count": 38
        }
      ]
    },
    {
      "cell_type": "markdown",
      "metadata": {
        "id": "qCLCqFXPQsRq"
      },
      "source": [
        "# Step 6: Error Analysis and Discussion\n",
        "write down your own obseration about the predictions. Consider both confusion matrix and selected examples. Which classes are predicted correctly or incorrecly, possible explaination, possible solutions\n",
        "\n",
        "Exmaple: 1) Lab Practical, which feature is helpful for female name classification. https://www.nltk.org/book/ch06.html\n",
        "2) research paper: https://github.com/yoonkim/CNN_sentence\n"
      ]
    },
    {
      "cell_type": "code",
      "metadata": {
        "colab": {
          "base_uri": "https://localhost:8080/",
          "height": 423
        },
        "id": "kvBw9qkKDS-m",
        "outputId": "11270a47-6f05-4717-f033-e21bac1e6e64"
      },
      "source": [
        "df_pred = pd.DataFrame({'news':twenty_test1.data,'prediction':predicted, 'true':twenty_test1.target})\n",
        "df_pred[df_pred['true'] != df_pred['prediction']]"
      ],
      "execution_count": 39,
      "outputs": [
        {
          "output_type": "execute_result",
          "data": {
            "text/plain": [
              "                                                  news  prediction  true\n",
              "0    From: crackle!dabbott@munnari.oz.au (NAME)\\nSu...           0     1\n",
              "4    From: salem@pangea.Stanford.EDU (Bruce Salem)\\...           1     0\n",
              "13   From: livesey@solntze.wpd.sgi.com (Jon Livesey...           1     0\n",
              "20   From: christen@astro.ocis.temple.edu (Carl Chr...           1     0\n",
              "25   From: aaron@minster.york.ac.uk\\nSubject: Re: G...           1     0\n",
              "..                                                 ...         ...   ...\n",
              "683  From: marshall@csugrad.cs.vt.edu (Kevin Marsha...           1     0\n",
              "685  From: sandvik@newton.apple.com (Kent Sandvik)\\...           0     1\n",
              "694  From: Alan.Olsen@p17.f40.n105.z1.fidonet.org (...           1     0\n",
              "703  From: aiken@unity.ncsu.edu (Wayne NMI Aiken)\\n...           1     0\n",
              "712  Subject: Re: Alleged Deathbed Conversions (was...           1     0\n",
              "\n",
              "[105 rows x 3 columns]"
            ],
            "text/html": [
              "\n",
              "  <div id=\"df-c5672ebb-5909-42fe-a323-3ec18e1c9d60\" class=\"colab-df-container\">\n",
              "    <div>\n",
              "<style scoped>\n",
              "    .dataframe tbody tr th:only-of-type {\n",
              "        vertical-align: middle;\n",
              "    }\n",
              "\n",
              "    .dataframe tbody tr th {\n",
              "        vertical-align: top;\n",
              "    }\n",
              "\n",
              "    .dataframe thead th {\n",
              "        text-align: right;\n",
              "    }\n",
              "</style>\n",
              "<table border=\"1\" class=\"dataframe\">\n",
              "  <thead>\n",
              "    <tr style=\"text-align: right;\">\n",
              "      <th></th>\n",
              "      <th>news</th>\n",
              "      <th>prediction</th>\n",
              "      <th>true</th>\n",
              "    </tr>\n",
              "  </thead>\n",
              "  <tbody>\n",
              "    <tr>\n",
              "      <th>0</th>\n",
              "      <td>From: crackle!dabbott@munnari.oz.au (NAME)\\nSu...</td>\n",
              "      <td>0</td>\n",
              "      <td>1</td>\n",
              "    </tr>\n",
              "    <tr>\n",
              "      <th>4</th>\n",
              "      <td>From: salem@pangea.Stanford.EDU (Bruce Salem)\\...</td>\n",
              "      <td>1</td>\n",
              "      <td>0</td>\n",
              "    </tr>\n",
              "    <tr>\n",
              "      <th>13</th>\n",
              "      <td>From: livesey@solntze.wpd.sgi.com (Jon Livesey...</td>\n",
              "      <td>1</td>\n",
              "      <td>0</td>\n",
              "    </tr>\n",
              "    <tr>\n",
              "      <th>20</th>\n",
              "      <td>From: christen@astro.ocis.temple.edu (Carl Chr...</td>\n",
              "      <td>1</td>\n",
              "      <td>0</td>\n",
              "    </tr>\n",
              "    <tr>\n",
              "      <th>25</th>\n",
              "      <td>From: aaron@minster.york.ac.uk\\nSubject: Re: G...</td>\n",
              "      <td>1</td>\n",
              "      <td>0</td>\n",
              "    </tr>\n",
              "    <tr>\n",
              "      <th>...</th>\n",
              "      <td>...</td>\n",
              "      <td>...</td>\n",
              "      <td>...</td>\n",
              "    </tr>\n",
              "    <tr>\n",
              "      <th>683</th>\n",
              "      <td>From: marshall@csugrad.cs.vt.edu (Kevin Marsha...</td>\n",
              "      <td>1</td>\n",
              "      <td>0</td>\n",
              "    </tr>\n",
              "    <tr>\n",
              "      <th>685</th>\n",
              "      <td>From: sandvik@newton.apple.com (Kent Sandvik)\\...</td>\n",
              "      <td>0</td>\n",
              "      <td>1</td>\n",
              "    </tr>\n",
              "    <tr>\n",
              "      <th>694</th>\n",
              "      <td>From: Alan.Olsen@p17.f40.n105.z1.fidonet.org (...</td>\n",
              "      <td>1</td>\n",
              "      <td>0</td>\n",
              "    </tr>\n",
              "    <tr>\n",
              "      <th>703</th>\n",
              "      <td>From: aiken@unity.ncsu.edu (Wayne NMI Aiken)\\n...</td>\n",
              "      <td>1</td>\n",
              "      <td>0</td>\n",
              "    </tr>\n",
              "    <tr>\n",
              "      <th>712</th>\n",
              "      <td>Subject: Re: Alleged Deathbed Conversions (was...</td>\n",
              "      <td>1</td>\n",
              "      <td>0</td>\n",
              "    </tr>\n",
              "  </tbody>\n",
              "</table>\n",
              "<p>105 rows × 3 columns</p>\n",
              "</div>\n",
              "    <div class=\"colab-df-buttons\">\n",
              "\n",
              "  <div class=\"colab-df-container\">\n",
              "    <button class=\"colab-df-convert\" onclick=\"convertToInteractive('df-c5672ebb-5909-42fe-a323-3ec18e1c9d60')\"\n",
              "            title=\"Convert this dataframe to an interactive table.\"\n",
              "            style=\"display:none;\">\n",
              "\n",
              "  <svg xmlns=\"http://www.w3.org/2000/svg\" height=\"24px\" viewBox=\"0 -960 960 960\">\n",
              "    <path d=\"M120-120v-720h720v720H120Zm60-500h600v-160H180v160Zm220 220h160v-160H400v160Zm0 220h160v-160H400v160ZM180-400h160v-160H180v160Zm440 0h160v-160H620v160ZM180-180h160v-160H180v160Zm440 0h160v-160H620v160Z\"/>\n",
              "  </svg>\n",
              "    </button>\n",
              "\n",
              "  <style>\n",
              "    .colab-df-container {\n",
              "      display:flex;\n",
              "      gap: 12px;\n",
              "    }\n",
              "\n",
              "    .colab-df-convert {\n",
              "      background-color: #E8F0FE;\n",
              "      border: none;\n",
              "      border-radius: 50%;\n",
              "      cursor: pointer;\n",
              "      display: none;\n",
              "      fill: #1967D2;\n",
              "      height: 32px;\n",
              "      padding: 0 0 0 0;\n",
              "      width: 32px;\n",
              "    }\n",
              "\n",
              "    .colab-df-convert:hover {\n",
              "      background-color: #E2EBFA;\n",
              "      box-shadow: 0px 1px 2px rgba(60, 64, 67, 0.3), 0px 1px 3px 1px rgba(60, 64, 67, 0.15);\n",
              "      fill: #174EA6;\n",
              "    }\n",
              "\n",
              "    .colab-df-buttons div {\n",
              "      margin-bottom: 4px;\n",
              "    }\n",
              "\n",
              "    [theme=dark] .colab-df-convert {\n",
              "      background-color: #3B4455;\n",
              "      fill: #D2E3FC;\n",
              "    }\n",
              "\n",
              "    [theme=dark] .colab-df-convert:hover {\n",
              "      background-color: #434B5C;\n",
              "      box-shadow: 0px 1px 3px 1px rgba(0, 0, 0, 0.15);\n",
              "      filter: drop-shadow(0px 1px 2px rgba(0, 0, 0, 0.3));\n",
              "      fill: #FFFFFF;\n",
              "    }\n",
              "  </style>\n",
              "\n",
              "    <script>\n",
              "      const buttonEl =\n",
              "        document.querySelector('#df-c5672ebb-5909-42fe-a323-3ec18e1c9d60 button.colab-df-convert');\n",
              "      buttonEl.style.display =\n",
              "        google.colab.kernel.accessAllowed ? 'block' : 'none';\n",
              "\n",
              "      async function convertToInteractive(key) {\n",
              "        const element = document.querySelector('#df-c5672ebb-5909-42fe-a323-3ec18e1c9d60');\n",
              "        const dataTable =\n",
              "          await google.colab.kernel.invokeFunction('convertToInteractive',\n",
              "                                                    [key], {});\n",
              "        if (!dataTable) return;\n",
              "\n",
              "        const docLinkHtml = 'Like what you see? Visit the ' +\n",
              "          '<a target=\"_blank\" href=https://colab.research.google.com/notebooks/data_table.ipynb>data table notebook</a>'\n",
              "          + ' to learn more about interactive tables.';\n",
              "        element.innerHTML = '';\n",
              "        dataTable['output_type'] = 'display_data';\n",
              "        await google.colab.output.renderOutput(dataTable, element);\n",
              "        const docLink = document.createElement('div');\n",
              "        docLink.innerHTML = docLinkHtml;\n",
              "        element.appendChild(docLink);\n",
              "      }\n",
              "    </script>\n",
              "  </div>\n",
              "\n",
              "\n",
              "<div id=\"df-100af5f2-1e8a-4996-8970-af5df330f036\">\n",
              "  <button class=\"colab-df-quickchart\" onclick=\"quickchart('df-100af5f2-1e8a-4996-8970-af5df330f036')\"\n",
              "            title=\"Suggest charts\"\n",
              "            style=\"display:none;\">\n",
              "\n",
              "<svg xmlns=\"http://www.w3.org/2000/svg\" height=\"24px\"viewBox=\"0 0 24 24\"\n",
              "     width=\"24px\">\n",
              "    <g>\n",
              "        <path d=\"M19 3H5c-1.1 0-2 .9-2 2v14c0 1.1.9 2 2 2h14c1.1 0 2-.9 2-2V5c0-1.1-.9-2-2-2zM9 17H7v-7h2v7zm4 0h-2V7h2v10zm4 0h-2v-4h2v4z\"/>\n",
              "    </g>\n",
              "</svg>\n",
              "  </button>\n",
              "\n",
              "<style>\n",
              "  .colab-df-quickchart {\n",
              "      --bg-color: #E8F0FE;\n",
              "      --fill-color: #1967D2;\n",
              "      --hover-bg-color: #E2EBFA;\n",
              "      --hover-fill-color: #174EA6;\n",
              "      --disabled-fill-color: #AAA;\n",
              "      --disabled-bg-color: #DDD;\n",
              "  }\n",
              "\n",
              "  [theme=dark] .colab-df-quickchart {\n",
              "      --bg-color: #3B4455;\n",
              "      --fill-color: #D2E3FC;\n",
              "      --hover-bg-color: #434B5C;\n",
              "      --hover-fill-color: #FFFFFF;\n",
              "      --disabled-bg-color: #3B4455;\n",
              "      --disabled-fill-color: #666;\n",
              "  }\n",
              "\n",
              "  .colab-df-quickchart {\n",
              "    background-color: var(--bg-color);\n",
              "    border: none;\n",
              "    border-radius: 50%;\n",
              "    cursor: pointer;\n",
              "    display: none;\n",
              "    fill: var(--fill-color);\n",
              "    height: 32px;\n",
              "    padding: 0;\n",
              "    width: 32px;\n",
              "  }\n",
              "\n",
              "  .colab-df-quickchart:hover {\n",
              "    background-color: var(--hover-bg-color);\n",
              "    box-shadow: 0 1px 2px rgba(60, 64, 67, 0.3), 0 1px 3px 1px rgba(60, 64, 67, 0.15);\n",
              "    fill: var(--button-hover-fill-color);\n",
              "  }\n",
              "\n",
              "  .colab-df-quickchart-complete:disabled,\n",
              "  .colab-df-quickchart-complete:disabled:hover {\n",
              "    background-color: var(--disabled-bg-color);\n",
              "    fill: var(--disabled-fill-color);\n",
              "    box-shadow: none;\n",
              "  }\n",
              "\n",
              "  .colab-df-spinner {\n",
              "    border: 2px solid var(--fill-color);\n",
              "    border-color: transparent;\n",
              "    border-bottom-color: var(--fill-color);\n",
              "    animation:\n",
              "      spin 1s steps(1) infinite;\n",
              "  }\n",
              "\n",
              "  @keyframes spin {\n",
              "    0% {\n",
              "      border-color: transparent;\n",
              "      border-bottom-color: var(--fill-color);\n",
              "      border-left-color: var(--fill-color);\n",
              "    }\n",
              "    20% {\n",
              "      border-color: transparent;\n",
              "      border-left-color: var(--fill-color);\n",
              "      border-top-color: var(--fill-color);\n",
              "    }\n",
              "    30% {\n",
              "      border-color: transparent;\n",
              "      border-left-color: var(--fill-color);\n",
              "      border-top-color: var(--fill-color);\n",
              "      border-right-color: var(--fill-color);\n",
              "    }\n",
              "    40% {\n",
              "      border-color: transparent;\n",
              "      border-right-color: var(--fill-color);\n",
              "      border-top-color: var(--fill-color);\n",
              "    }\n",
              "    60% {\n",
              "      border-color: transparent;\n",
              "      border-right-color: var(--fill-color);\n",
              "    }\n",
              "    80% {\n",
              "      border-color: transparent;\n",
              "      border-right-color: var(--fill-color);\n",
              "      border-bottom-color: var(--fill-color);\n",
              "    }\n",
              "    90% {\n",
              "      border-color: transparent;\n",
              "      border-bottom-color: var(--fill-color);\n",
              "    }\n",
              "  }\n",
              "</style>\n",
              "\n",
              "  <script>\n",
              "    async function quickchart(key) {\n",
              "      const quickchartButtonEl =\n",
              "        document.querySelector('#' + key + ' button');\n",
              "      quickchartButtonEl.disabled = true;  // To prevent multiple clicks.\n",
              "      quickchartButtonEl.classList.add('colab-df-spinner');\n",
              "      try {\n",
              "        const charts = await google.colab.kernel.invokeFunction(\n",
              "            'suggestCharts', [key], {});\n",
              "      } catch (error) {\n",
              "        console.error('Error during call to suggestCharts:', error);\n",
              "      }\n",
              "      quickchartButtonEl.classList.remove('colab-df-spinner');\n",
              "      quickchartButtonEl.classList.add('colab-df-quickchart-complete');\n",
              "    }\n",
              "    (() => {\n",
              "      let quickchartButtonEl =\n",
              "        document.querySelector('#df-100af5f2-1e8a-4996-8970-af5df330f036 button');\n",
              "      quickchartButtonEl.style.display =\n",
              "        google.colab.kernel.accessAllowed ? 'block' : 'none';\n",
              "    })();\n",
              "  </script>\n",
              "</div>\n",
              "    </div>\n",
              "  </div>\n"
            ],
            "application/vnd.google.colaboratory.intrinsic+json": {
              "type": "dataframe",
              "summary": "{\n  \"name\": \"df_pred[df_pred['true'] != df_pred['prediction']]\",\n  \"rows\": 105,\n  \"fields\": [\n    {\n      \"column\": \"news\",\n      \"properties\": {\n        \"dtype\": \"string\",\n        \"num_unique_values\": 105,\n        \"samples\": [\n          \"From: danb@shell.portal.com (Dan E Babcock)\\nSubject: Re: Faith and Dogma\\nNntp-Posting-Host: jobe\\nOrganization: Portal Communications Company -- 408/973-9111 (voice) 408/973-8091 (data)\\nLines: 47\\n\\nIn article <1r1mr8$eov@aurora.engr.LaTech.edu> ray@engr.LaTech.edu (Bill Ray) writes:\\n>Todd Kelley (tgk@cs.toronto.edu) wrote:\\n>: Faith and dogma are dangerous.  \\n>\\n>Faith and dogma are inevitable.  Christians merely understand and admit\\n>to the fact.  Give me your proof that no God exists, or that He does.  \\n>Whichever position you take, you are forced to do it on faith.  It does\\n>no good to say you take no position, for to show no interest in the \\n>existence of God is to assume He does not exist.\\n\\nAbsolutely not true. Without religion - either an established one or\\none you invent for yourself - the theist and atheist are equally\\n(not) interested in God, because without religious revelation there\\nis _no_ information about God available. Strip away the dogma and\\nthe theists/atheists are no different, simply holding a different\\nopinion on a matter of little practical importance.\\n\\n>I contend that proper implementation of the Christian faith requires\\n>reasoning, but that reasoning cannot be used to throw out things you\\n>don't like, or find uncomfortable.  Hedonistic sexual behavior is \\n>condemned in the Bible and no act of true reason will make it any\\n>less condemned.  Hatred, murder, gossip; all these are condemned.\\n>Is there God-ordained murder in the Bible?  You bet, and if God ever\\n>orders me to kill you, I will.  But I will first use the Gideon-like\\n>behavior of verifying that God actually ordered the hit, and will \\n>probably discuss it in an Abram-like fashion.\\n\\nSorry, but that doesn't help. What test will you apply to decide\\nwhether it is God or Satan with whom you are speaking?\\nHow will you know that you have not simply gone insane, or having\\ndelusions? You are like a loaded gun.\\n\\n>I can hear you now, this is how Jim Jones and David Koresh justify\\n>their behavior.  Delusional religious cults bear the same relationship \\n\\nAh, you not as stupid as I assumed. :-)\\n\\n>When the Southern Baptist Church or the Methodist Church begin to do this\\n>then you have reason to blame mainstream religion for the behaviors of these\\n>people.  Or should I associate every negative behavior I witness in any\\n>non-Christian with you?\\n\\nYes. We're all in this together - each human making up a small part of\\nthe definition of humanity.\\n\\nDan\\n\\n\",\n          \"From: kempmp@phoenix.oulu.fi (Petri Pihko)\\nSubject: Re: Christian Morality is\\nOrganization: University of Oulu, Finland\\nX-Newsreader: TIN [version 1.1 PL9]\\nLines: 107\\n\\nDan Schaertel,,, (dps@nasa.kodak.com) wrote:\\n> In article 21627@ousrvr.oulu.fi, kempmp@phoenix.oulu.fi (Petri Pihko) writes:\\n\\n> |>I love god just as much as she loves me. If she wants to seduce me,\\n> |>she'll know what to do. \\n\\n> But if He/She did you would probably consider it rape.  \\n\\nOf course not. I would think that would be great _fun_, not having ever\\nfelt the joy and peace the Christians speak of with a longing gaze.\\nThis is not what I got when I believed - I just tried to hide my fear\\nof getting punished for something I never was sure of. The Bible is\\nhopelessly confusing for someone who wants to know for sure. God did\\nnot answer. In the end, I found I had been following a mass delusion,\\na lie. I can't believe in a being who refuses to give a slightest hint\\nof her existence.\\n\\n> Obviously there are many Christians who have tried and do believe. So .. ?\\n\\nI suggest they should honestly reconsider the reasons why they believe\\nand analyse their position. In fact, it is amusing to note in this\\ncontext that many fundamentalist publications tell us exactly the\\nopposite - one should not examine one's belief critically.\\n\\nI'll tell you something I left out of my 'testimony' I posted to this\\ngroup two months ago. A day after I finally found out my faith is over,\\nI decided to try just one more time. The same cycle of emotional\\nresponses fired once again, but this time the delusion lasted only\\na couple of hours. I told my friend in a phone that it really works,\\nthank god, just to think about it again when I hung up. I had to admit\\nthat I had lied, and fallen prey to the same illusion.\\n\\n> No one asks you to swallow everything, in fact Jesus warns against it.   But let\\n> me ask you a question.  Do you beleive what you learn in history class, or for\\n> that matter anything in school.  I mean it's just what other people have told\\n> you and you don't want to swallow what others say. right ... ?\\n\\nI used to believe what I read in books when I was younger, or what\\nother people told me, but I grew more and more skeptical the more I\\nread. I learned what it means to use _reason_.\\n\\nAs a student of chemistry, I had to perform a qualitative analysis\\nof a mixture of two organic compounds in the lab. I _hated_ experiments\\nlike this - they are old-fashioned and increase the student's workload\\nconsiderably. Besides, I had to do it twice, since I failed in my first\\nattempt. However, I think I'll never forget the lesson: \\n\\nNo matter how strongly you believe the structure of the unknown is X,\\nit may still be Y. It is _very_ tempting to jump into conclusions, take\\na leap of faith, assure oneself, ignore the data which is inconsistent. \\nBut it can still be wrong. \\n\\nI found out that I was, after all, using exactly the same mechanism\\nto believe in god - mental self-assurance, suspension of fear, \\nfiltering of information. In other words, it was only me, no god\\nplaying any part. \\n\\n> The life , death, and resurection of Christ is documented historical fact.\\n\\nOh? And I had better believe this? Dan, many UFO stories are much better\\ndocumented than the resurrection of Jesus. The resurrection is documented\\nquite haphazardly in the Bible - it seems the authors did not pay too\\nmuch attention to which wild rumour to leave out. Besides, the ends of\\nthe gospels probably contain later additions and insertions; for instance,\\nthe end of Mark (16:9-20) is missing from many early texts, says my Bible.\\n\\nJesus may have lived and died, but he was probably misunderstood.\\n\\n> As much\\n> as anything else you learn.  How do you choose what to believe and \\n> what not to?\\n\\nThis is easy. I believe that the world exists independent of my mind,\\nand that logic and reason can be used to interpret and analyse what I\\nobserve. Nothing else need to be taken on faith, I will go by the\\nevidence. \\n\\nIt makes no difference whether I believe George Washington existed or not.\\nI assume that he did, considering the vast amount of evidence presented.\\n\\n> There is no way to get into a sceptical heart.  You can not say you have \\n> given a \\n> sincere effort with the attitude you seem to have.  You must TRUST, \\n> not just go \\n> to church and participate in it's activities.  Were you ever willing to\\n> die for what you believed?  \\n\\nA liar, how do you know what my attitude was? Try reading your Bible\\nagain. \\n\\nI was willing to die for my faith. Those who do are usually remembered\\nas heroes, at least among those who believe. Dan, do you think I'm\\nlying when I say I believed firmly for 15 years? It seems it is \\nvery difficult to admit that someone who has really believed does not\\ndo so anymore. But I can't go on lying to myself.\\n\\nBlind trust is dangerous, and I was just another blind led by the blind.\\nBut if god really wants me, she'll know what to do. I'm willing. I just\\ndon't know whether she exists - looking at the available evidence,\\nit looks like she doesn't. \\n\\nPetri\\n--\\n ___. .'*''.*        Petri Pihko    kem-pmp@          Mathematics is the Truth.\\n!___.'* '.'*' ' .    Pihatie 15 C    finou.oulu.fi    Physics is the Rule of\\n       ' *' .* '*    SF-90650 OULU  kempmp@           the Game.\\n          *'  *  .*  FINLAND         phoenix.oulu.fi  -> Chemistry is The Game.\\n\",\n          \"From: nyeda@cnsvax.uwec.edu (David Nye)\\nSubject: Re: Faith and Dogma\\nOrganization: University of Wisconsin Eau Claire\\nLines: 28\\n\\n[reply to tgk@cs.toronto.edu (Todd Kelley)]\\n \\n>In light of what happened in Waco, I need to get something of my chest.\\n \\n>Faith and dogma are dangerous.\\n \\nAgreed.\\n \\n>A philosopher cannot be a Christian because a philosopher can change\\n>his mind, whereas a Christian cannot, due to the nature of faith and\\n>dogma present in any religion.\\n \\nIt is hard for me to understand, but quite a few professional scientists\\nand philosophers are theists.\\n \\n>Sure, religion has many good qualities.  It encourages benevolence and\\n>philanthropy.\\n \\nBut also intolerance and superstition.  I'm not sure that in the balance\\nit is not detrimental.\\n \\n>Wouldn't it be nice if everyone were a secular humanist?\\n \\nSure would!\\n \\nDavid Nye (nyeda@cnsvax.uwec.edu).  Midelfort Clinic, Eau Claire WI\\nThis is patently absurd; but whoever wishes to become a philosopher\\nmust learn not to be frightened by absurdities. -- Bertrand Russell\\n\"\n        ],\n        \"semantic_type\": \"\",\n        \"description\": \"\"\n      }\n    },\n    {\n      \"column\": \"prediction\",\n      \"properties\": {\n        \"dtype\": \"number\",\n        \"std\": 0,\n        \"min\": 0,\n        \"max\": 1,\n        \"num_unique_values\": 2,\n        \"samples\": [\n          1,\n          0\n        ],\n        \"semantic_type\": \"\",\n        \"description\": \"\"\n      }\n    },\n    {\n      \"column\": \"true\",\n      \"properties\": {\n        \"dtype\": \"number\",\n        \"std\": 0,\n        \"min\": 0,\n        \"max\": 1,\n        \"num_unique_values\": 2,\n        \"samples\": [\n          0,\n          1\n        ],\n        \"semantic_type\": \"\",\n        \"description\": \"\"\n      }\n    }\n  ]\n}"
            }
          },
          "metadata": {},
          "execution_count": 39
        }
      ]
    },
    {
      "cell_type": "markdown",
      "metadata": {
        "id": "DRIRg2rufjPu"
      },
      "source": [
        "#References:  \n",
        "\n",
        "https://scikit-learn.org/stable/tutorial/text_analytics/working_with_text_data.html\n",
        "\n",
        "https://www.nltk.org/book/ch06.html\n",
        "\n",
        "search: Other online resources:\n",
        "\n",
        "https://towardsdatascience.com/setting-up-text-preprocessing-pipeline-using-scikit-learn-and-spacy-e09b9b76758f\n",
        "\n",
        "sentiment analysis scikit learn\n",
        "\n",
        "scikit learn or nltk + NLP techniques\n",
        "\n",
        "python + NLP techniques\n",
        "\n",
        "scikit learn logistic regression\n",
        "\n",
        "\n"
      ]
    }
  ]
}